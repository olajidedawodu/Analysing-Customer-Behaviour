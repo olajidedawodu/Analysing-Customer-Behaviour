{
 "cells": [
  {
   "cell_type": "code",
   "execution_count": 1,
   "metadata": {},
   "outputs": [
    {
     "name": "stdout",
     "output_type": "stream",
     "text": [
      "Note: you may need to restart the kernel to use updated packages.\n"
     ]
    }
   ],
   "source": [
    "pip install -q findspark"
   ]
  },
  {
   "cell_type": "code",
   "execution_count": 2,
   "metadata": {},
   "outputs": [],
   "source": [
    "import findspark\n",
    "findspark.init('/home/bigdata/Documents/spark-3.0.0')"
   ]
  },
  {
   "cell_type": "code",
   "execution_count": 3,
   "metadata": {},
   "outputs": [],
   "source": [
    "import pandas as pd\n",
    "import numpy as np\n",
    "from pyspark.sql.session import SparkSession\n",
    "import matplotlib.pyplot as plt\n",
    "from sklearn.utils import shuffle\n",
    "from pyspark import SparkContext\n",
    "from pyspark import SparkConf\n",
    "from pyspark.sql import SQLContext\n",
    "from pyspark.sql import DataFrameReader\n",
    "from pyspark.sql.functions import *\n",
    "import itertools\n",
    "from pyspark.ml import Pipeline\n",
    "from math import sqrt\n",
    "import sys\n",
    "import os\n",
    "from pyspark.sql.types import IntegerType\n",
    "from pyspark.sql.types import TimestampType\n",
    "from pyspark.sql.functions import col, column, expr, when, lit\n",
    "from pyspark.sql.functions import mean, min, max, sum, round, count, datediff, to_date\n",
    "from pyspark.sql.types import StringType\n",
    "from pyspark.sql.types import DoubleType\n",
    "from pyspark.sql.functions import to_timestamp\n",
    "from pyspark.sql.types import FloatType\n",
    "from pyspark.sql import functions as F \n",
    "from pyspark.sql.functions import *"
   ]
  },
  {
   "cell_type": "code",
   "execution_count": 4,
   "metadata": {},
   "outputs": [],
   "source": [
    "spark = SparkSession.builder.appName('dataset').getOrCreate()"
   ]
  },
  {
   "cell_type": "code",
   "execution_count": 5,
   "metadata": {},
   "outputs": [],
   "source": [
    "data = spark.read.format(\"csv\").option(\"header\",\"True\").load(\"/home/bigdata/store.csv\")"
   ]
  },
  {
   "cell_type": "code",
   "execution_count": 6,
   "metadata": {
    "scrolled": true
   },
   "outputs": [
    {
     "name": "stdout",
     "output_type": "stream",
     "text": [
      "+---------+---------+--------------------+--------+----------------+---------+----------+--------------+\n",
      "|InvoiceNo|StockCode|         Description|Quantity|     InvoiceDate|UnitPrice|CustomerID|       Country|\n",
      "+---------+---------+--------------------+--------+----------------+---------+----------+--------------+\n",
      "|   536365|   85123A|WHITE HANGING HEA...|       6|01-12-2010 08:26|     2.55|     17850|United Kingdom|\n",
      "|   536365|    71053| WHITE METAL LANTERN|       6|01-12-2010 08:26|     3.39|     17850|United Kingdom|\n",
      "|   536365|   84406B|CREAM CUPID HEART...|       8|01-12-2010 08:26|     2.75|     17850|United Kingdom|\n",
      "|   536365|   84029G|KNITTED UNION FLA...|       6|01-12-2010 08:26|     3.39|     17850|United Kingdom|\n",
      "|   536365|   84029E|RED WOOLLY HOTTIE...|       6|01-12-2010 08:26|     3.39|     17850|United Kingdom|\n",
      "|   536365|    22752|SET 7 BABUSHKA NE...|       2|01-12-2010 08:26|     7.65|     17850|United Kingdom|\n",
      "|   536365|    21730|GLASS STAR FROSTE...|       6|01-12-2010 08:26|     4.25|     17850|United Kingdom|\n",
      "|   536366|    22633|HAND WARMER UNION...|       6|01-12-2010 08:28|     1.85|     17850|United Kingdom|\n",
      "|   536366|    22632|HAND WARMER RED P...|       6|01-12-2010 08:28|     1.85|     17850|United Kingdom|\n",
      "|   536367|    84879|ASSORTED COLOUR B...|      32|01-12-2010 08:34|     1.69|     13047|United Kingdom|\n",
      "|   536367|    22745|POPPY'S PLAYHOUSE...|       6|01-12-2010 08:34|      2.1|     13047|United Kingdom|\n",
      "|   536367|    22748|POPPY'S PLAYHOUSE...|       6|01-12-2010 08:34|      2.1|     13047|United Kingdom|\n",
      "|   536367|    22749|FELTCRAFT PRINCES...|       8|01-12-2010 08:34|     3.75|     13047|United Kingdom|\n",
      "|   536367|    22310|IVORY KNITTED MUG...|       6|01-12-2010 08:34|     1.65|     13047|United Kingdom|\n",
      "|   536367|    84969|BOX OF 6 ASSORTED...|       6|01-12-2010 08:34|     4.25|     13047|United Kingdom|\n",
      "|   536367|    22623|BOX OF VINTAGE JI...|       3|01-12-2010 08:34|     4.95|     13047|United Kingdom|\n",
      "|   536367|    22622|BOX OF VINTAGE AL...|       2|01-12-2010 08:34|     9.95|     13047|United Kingdom|\n",
      "|   536367|    21754|HOME BUILDING BLO...|       3|01-12-2010 08:34|     5.95|     13047|United Kingdom|\n",
      "|   536367|    21755|LOVE BUILDING BLO...|       3|01-12-2010 08:34|     5.95|     13047|United Kingdom|\n",
      "|   536367|    21777|RECIPE BOX WITH M...|       4|01-12-2010 08:34|     7.95|     13047|United Kingdom|\n",
      "+---------+---------+--------------------+--------+----------------+---------+----------+--------------+\n",
      "only showing top 20 rows\n",
      "\n"
     ]
    }
   ],
   "source": [
    "data.show()"
   ]
  },
  {
   "cell_type": "code",
   "execution_count": 7,
   "metadata": {},
   "outputs": [
    {
     "name": "stdout",
     "output_type": "stream",
     "text": [
      "root\n",
      " |-- InvoiceNo: string (nullable = true)\n",
      " |-- StockCode: string (nullable = true)\n",
      " |-- Description: string (nullable = true)\n",
      " |-- Quantity: string (nullable = true)\n",
      " |-- InvoiceDate: string (nullable = true)\n",
      " |-- UnitPrice: string (nullable = true)\n",
      " |-- CustomerID: string (nullable = true)\n",
      " |-- Country: string (nullable = true)\n",
      "\n"
     ]
    }
   ],
   "source": [
    "data.printSchema()"
   ]
  },
  {
   "cell_type": "code",
   "execution_count": 8,
   "metadata": {},
   "outputs": [
    {
     "data": {
      "text/plain": [
       "541909"
      ]
     },
     "execution_count": 8,
     "metadata": {},
     "output_type": "execute_result"
    }
   ],
   "source": [
    "data.count()"
   ]
  },
  {
   "cell_type": "code",
   "execution_count": 9,
   "metadata": {},
   "outputs": [],
   "source": [
    "data= data.withColumn(\"Quantity\", data[\"Quantity\"].cast(IntegerType()))"
   ]
  },
  {
   "cell_type": "code",
   "execution_count": 10,
   "metadata": {},
   "outputs": [],
   "source": [
    "data= data.withColumn(\"UnitPrice\", data[\"UnitPrice\"].cast(FloatType()))"
   ]
  },
  {
   "cell_type": "code",
   "execution_count": 11,
   "metadata": {
    "scrolled": true
   },
   "outputs": [
    {
     "data": {
      "text/plain": [
       "DataFrame[InvoiceNo: string, StockCode: string, Description: string, Quantity: int, InvoiceDate: string, UnitPrice: float, CustomerID: string, Country: string]"
      ]
     },
     "execution_count": 11,
     "metadata": {},
     "output_type": "execute_result"
    }
   ],
   "source": [
    "data.dropna(how='any')"
   ]
  },
  {
   "cell_type": "code",
   "execution_count": 12,
   "metadata": {},
   "outputs": [
    {
     "data": {
      "text/plain": [
       "['InvoiceNo',\n",
       " 'StockCode',\n",
       " 'Description',\n",
       " 'Quantity',\n",
       " 'InvoiceDate',\n",
       " 'UnitPrice',\n",
       " 'CustomerID',\n",
       " 'Country']"
      ]
     },
     "execution_count": 12,
     "metadata": {},
     "output_type": "execute_result"
    }
   ],
   "source": [
    "data.columns"
   ]
  },
  {
   "cell_type": "code",
   "execution_count": 13,
   "metadata": {},
   "outputs": [
    {
     "name": "stdout",
     "output_type": "stream",
     "text": [
      "+---------+---------+--------------------+--------+----------------+---------+----------+--------------+\n",
      "|InvoiceNo|StockCode|         Description|Quantity|     InvoiceDate|UnitPrice|CustomerID|       Country|\n",
      "+---------+---------+--------------------+--------+----------------+---------+----------+--------------+\n",
      "|   536365|   85123A|WHITE HANGING HEA...|       6|01-12-2010 08:26|     2.55|     17850|United Kingdom|\n",
      "|   536365|    71053| WHITE METAL LANTERN|       6|01-12-2010 08:26|     3.39|     17850|United Kingdom|\n",
      "|   536365|   84406B|CREAM CUPID HEART...|       8|01-12-2010 08:26|     2.75|     17850|United Kingdom|\n",
      "|   536365|   84029G|KNITTED UNION FLA...|       6|01-12-2010 08:26|     3.39|     17850|United Kingdom|\n",
      "|   536365|   84029E|RED WOOLLY HOTTIE...|       6|01-12-2010 08:26|     3.39|     17850|United Kingdom|\n",
      "|   536365|    22752|SET 7 BABUSHKA NE...|       2|01-12-2010 08:26|     7.65|     17850|United Kingdom|\n",
      "|   536365|    21730|GLASS STAR FROSTE...|       6|01-12-2010 08:26|     4.25|     17850|United Kingdom|\n",
      "|   536366|    22633|HAND WARMER UNION...|       6|01-12-2010 08:28|     1.85|     17850|United Kingdom|\n",
      "|   536366|    22632|HAND WARMER RED P...|       6|01-12-2010 08:28|     1.85|     17850|United Kingdom|\n",
      "|   536367|    84879|ASSORTED COLOUR B...|      32|01-12-2010 08:34|     1.69|     13047|United Kingdom|\n",
      "|   536367|    22745|POPPY'S PLAYHOUSE...|       6|01-12-2010 08:34|      2.1|     13047|United Kingdom|\n",
      "|   536367|    22748|POPPY'S PLAYHOUSE...|       6|01-12-2010 08:34|      2.1|     13047|United Kingdom|\n",
      "|   536367|    22749|FELTCRAFT PRINCES...|       8|01-12-2010 08:34|     3.75|     13047|United Kingdom|\n",
      "|   536367|    22310|IVORY KNITTED MUG...|       6|01-12-2010 08:34|     1.65|     13047|United Kingdom|\n",
      "|   536367|    84969|BOX OF 6 ASSORTED...|       6|01-12-2010 08:34|     4.25|     13047|United Kingdom|\n",
      "|   536367|    22623|BOX OF VINTAGE JI...|       3|01-12-2010 08:34|     4.95|     13047|United Kingdom|\n",
      "|   536367|    22622|BOX OF VINTAGE AL...|       2|01-12-2010 08:34|     9.95|     13047|United Kingdom|\n",
      "|   536367|    21754|HOME BUILDING BLO...|       3|01-12-2010 08:34|     5.95|     13047|United Kingdom|\n",
      "|   536367|    21755|LOVE BUILDING BLO...|       3|01-12-2010 08:34|     5.95|     13047|United Kingdom|\n",
      "|   536367|    21777|RECIPE BOX WITH M...|       4|01-12-2010 08:34|     7.95|     13047|United Kingdom|\n",
      "+---------+---------+--------------------+--------+----------------+---------+----------+--------------+\n",
      "only showing top 20 rows\n",
      "\n"
     ]
    }
   ],
   "source": [
    "data.show()"
   ]
  },
  {
   "cell_type": "code",
   "execution_count": 14,
   "metadata": {},
   "outputs": [
    {
     "name": "stdout",
     "output_type": "stream",
     "text": [
      "root\n",
      " |-- InvoiceNo: string (nullable = true)\n",
      " |-- StockCode: string (nullable = true)\n",
      " |-- Description: string (nullable = true)\n",
      " |-- Quantity: integer (nullable = true)\n",
      " |-- InvoiceDate: string (nullable = true)\n",
      " |-- UnitPrice: float (nullable = true)\n",
      " |-- CustomerID: string (nullable = true)\n",
      " |-- Country: string (nullable = true)\n",
      "\n"
     ]
    }
   ],
   "source": [
    "data.printSchema()"
   ]
  },
  {
   "cell_type": "code",
   "execution_count": 15,
   "metadata": {},
   "outputs": [
    {
     "data": {
      "text/plain": [
       "541909"
      ]
     },
     "execution_count": 15,
     "metadata": {},
     "output_type": "execute_result"
    }
   ],
   "source": [
    "data.select().count()"
   ]
  },
  {
   "cell_type": "code",
   "execution_count": 16,
   "metadata": {},
   "outputs": [
    {
     "name": "stdout",
     "output_type": "stream",
     "text": [
      "+---------+-----+\n",
      "|StockCode|count|\n",
      "+---------+-----+\n",
      "|    22728|  810|\n",
      "|    21889|  607|\n",
      "|   90210B|    7|\n",
      "|    21259|  296|\n",
      "|    21894|  135|\n",
      "|    21452|  200|\n",
      "|    22121|  141|\n",
      "|    90022|   21|\n",
      "|    21249|  119|\n",
      "|    90143|   22|\n",
      "|    84881|    8|\n",
      "|    21248|   68|\n",
      "|    22254|   61|\n",
      "|    20868|   46|\n",
      "|    21331|    8|\n",
      "|   90197B|   27|\n",
      "|    22596|  274|\n",
      "|   90026D|    3|\n",
      "|   90177A|   10|\n",
      "|   84899F|    1|\n",
      "+---------+-----+\n",
      "only showing top 20 rows\n",
      "\n"
     ]
    }
   ],
   "source": [
    "stock_df = data.select('StockCode').groupBy('StockCode').count().orderBy('count', ascending = False).distinct().show()"
   ]
  },
  {
   "cell_type": "code",
   "execution_count": 17,
   "metadata": {},
   "outputs": [
    {
     "name": "stdout",
     "output_type": "stream",
     "text": [
      "+--------------------+-----+\n",
      "|         Description|count|\n",
      "+--------------------+-----+\n",
      "|WHITE HANGING HEA...| 2369|\n",
      "|REGENCY CAKESTAND...| 2200|\n",
      "|JUMBO BAG RED RET...| 2159|\n",
      "|       PARTY BUNTING| 1727|\n",
      "|LUNCH BAG RED RET...| 1638|\n",
      "|ASSORTED COLOUR B...| 1501|\n",
      "|SET OF 3 CAKE TIN...| 1473|\n",
      "|                null| 1454|\n",
      "|PACK OF 72 RETROS...| 1385|\n",
      "|LUNCH BAG  BLACK ...| 1350|\n",
      "|NATURAL SLATE HEA...| 1280|\n",
      "|             POSTAGE| 1252|\n",
      "|JUMBO BAG PINK PO...| 1251|\n",
      "|HEART OF WICKER S...| 1237|\n",
      "|JAM MAKING SET WI...| 1229|\n",
      "|JUMBO STORAGE BAG...| 1214|\n",
      "|PAPER CHAIN KIT 5...| 1210|\n",
      "|JUMBO SHOPPER VIN...| 1202|\n",
      "| LUNCH BAG CARS BLUE| 1197|\n",
      "|LUNCH BAG SPACEBO...| 1192|\n",
      "+--------------------+-----+\n",
      "only showing top 20 rows\n",
      "\n"
     ]
    }
   ],
   "source": [
    "Description_df = data.select('Description').groupBy('Description').count().orderBy('count', ascending=False).show()"
   ]
  },
  {
   "cell_type": "code",
   "execution_count": 18,
   "metadata": {},
   "outputs": [
    {
     "name": "stdout",
     "output_type": "stream",
     "text": [
      "+---------+-----+\n",
      "|StockCode|count|\n",
      "+---------+-----+\n",
      "|    22728|  810|\n",
      "|    21889|  607|\n",
      "|   90210B|    7|\n",
      "|    21259|  296|\n",
      "|    21894|  135|\n",
      "|    21452|  200|\n",
      "|    22121|  141|\n",
      "|    90022|   21|\n",
      "|    21249|  119|\n",
      "|    90143|   22|\n",
      "|    84881|    8|\n",
      "|    21248|   68|\n",
      "|    22254|   61|\n",
      "|    20868|   46|\n",
      "|    21331|    8|\n",
      "|   90197B|   27|\n",
      "|    22596|  274|\n",
      "|   90026D|    3|\n",
      "|   90177A|   10|\n",
      "|   84899F|    1|\n",
      "+---------+-----+\n",
      "only showing top 20 rows\n",
      "\n"
     ]
    }
   ],
   "source": [
    "stockDescription_df = data.select('StockCode').groupBy('StockCode').count().orderBy('count', ascending = False).distinct().show()"
   ]
  },
  {
   "cell_type": "code",
   "execution_count": 19,
   "metadata": {},
   "outputs": [
    {
     "name": "stdout",
     "output_type": "stream",
     "text": [
      "+----------+-----+\n",
      "|CustomerID|count|\n",
      "+----------+-----+\n",
      "|     16250|   24|\n",
      "|     15574|  168|\n",
      "|     15555|  925|\n",
      "|     15271|  275|\n",
      "|     17714|   10|\n",
      "|     17686|  286|\n",
      "|     13865|   30|\n",
      "|     14157|   49|\n",
      "|     13610|  228|\n",
      "|     13772|  177|\n",
      "|     13282|   40|\n",
      "|     12394|   27|\n",
      "|     16320|   56|\n",
      "|     13192|   63|\n",
      "|     14887|    6|\n",
      "|     17506|   16|\n",
      "|     17427|    2|\n",
      "|     18130|   71|\n",
      "|     16504|   86|\n",
      "|     15269|    2|\n",
      "+----------+-----+\n",
      "only showing top 20 rows\n",
      "\n"
     ]
    }
   ],
   "source": [
    "customerstock = data.select('CustomerID').groupBy('CustomerID').count().orderBy('count', ascending = False).distinct().show()"
   ]
  },
  {
   "cell_type": "code",
   "execution_count": 20,
   "metadata": {},
   "outputs": [],
   "source": [
    "from pyspark.sql.functions import round"
   ]
  },
  {
   "cell_type": "code",
   "execution_count": 21,
   "metadata": {},
   "outputs": [],
   "source": [
    "data = data.withColumn('Price_total', round( data.Quantity * data.UnitPrice, 2 ) )"
   ]
  },
  {
   "cell_type": "code",
   "execution_count": 22,
   "metadata": {},
   "outputs": [],
   "source": [
    "from pyspark.sql import functions as psf"
   ]
  },
  {
   "cell_type": "code",
   "execution_count": 23,
   "metadata": {},
   "outputs": [],
   "source": [
    "from pyspark.sql.functions import unix_timestamp, from_unixtime\n",
    "import numpy as np\n",
    "import datetime\n",
    "from pyspark.sql.functions import year, month, dayofmonth"
   ]
  },
  {
   "cell_type": "code",
   "execution_count": 24,
   "metadata": {},
   "outputs": [],
   "source": [
    "from pyspark.sql.functions import to_utc_timestamp, unix_timestamp, lit, datediff, col"
   ]
  },
  {
   "cell_type": "code",
   "execution_count": 25,
   "metadata": {},
   "outputs": [],
   "source": [
    "data = data.withColumn('InvoiceDate', from_unixtime(unix_timestamp(col('InvoiceDate'), 'dd-MM-yyyy HH:mm'))).alias('date')"
   ]
  },
  {
   "cell_type": "code",
   "execution_count": 26,
   "metadata": {},
   "outputs": [
    {
     "name": "stdout",
     "output_type": "stream",
     "text": [
      "+---------+---------+--------------------+--------+-------------------+---------+----------+--------------+-----------+\n",
      "|InvoiceNo|StockCode|         Description|Quantity|        InvoiceDate|UnitPrice|CustomerID|       Country|Price_total|\n",
      "+---------+---------+--------------------+--------+-------------------+---------+----------+--------------+-----------+\n",
      "|   536365|   85123A|WHITE HANGING HEA...|       6|2010-12-01 08:26:00|     2.55|     17850|United Kingdom|       15.3|\n",
      "|   536365|    71053| WHITE METAL LANTERN|       6|2010-12-01 08:26:00|     3.39|     17850|United Kingdom|      20.34|\n",
      "|   536365|   84406B|CREAM CUPID HEART...|       8|2010-12-01 08:26:00|     2.75|     17850|United Kingdom|       22.0|\n",
      "|   536365|   84029G|KNITTED UNION FLA...|       6|2010-12-01 08:26:00|     3.39|     17850|United Kingdom|      20.34|\n",
      "|   536365|   84029E|RED WOOLLY HOTTIE...|       6|2010-12-01 08:26:00|     3.39|     17850|United Kingdom|      20.34|\n",
      "+---------+---------+--------------------+--------+-------------------+---------+----------+--------------+-----------+\n",
      "only showing top 5 rows\n",
      "\n"
     ]
    }
   ],
   "source": [
    "data.show(5)"
   ]
  },
  {
   "cell_type": "code",
   "execution_count": 27,
   "metadata": {},
   "outputs": [],
   "source": [
    "data= data.withColumn(\"InvoiceDate\", F.col(\"InvoiceDate\").cast(\"timestamp\"))"
   ]
  },
  {
   "cell_type": "code",
   "execution_count": 28,
   "metadata": {},
   "outputs": [
    {
     "name": "stdout",
     "output_type": "stream",
     "text": [
      "+-------------------+\n",
      "|        InvoiceDate|\n",
      "+-------------------+\n",
      "|2010-12-01 08:26:00|\n",
      "|2010-12-01 08:26:00|\n",
      "|2010-12-01 08:26:00|\n",
      "|2010-12-01 08:26:00|\n",
      "|2010-12-01 08:26:00|\n",
      "|2010-12-01 08:26:00|\n",
      "|2010-12-01 08:26:00|\n",
      "|2010-12-01 08:28:00|\n",
      "|2010-12-01 08:28:00|\n",
      "|2010-12-01 08:34:00|\n",
      "|2010-12-01 08:34:00|\n",
      "|2010-12-01 08:34:00|\n",
      "|2010-12-01 08:34:00|\n",
      "|2010-12-01 08:34:00|\n",
      "|2010-12-01 08:34:00|\n",
      "|2010-12-01 08:34:00|\n",
      "|2010-12-01 08:34:00|\n",
      "|2010-12-01 08:34:00|\n",
      "|2010-12-01 08:34:00|\n",
      "|2010-12-01 08:34:00|\n",
      "+-------------------+\n",
      "only showing top 20 rows\n",
      "\n"
     ]
    }
   ],
   "source": [
    "data.select(\"InvoiceDate\").show()"
   ]
  },
  {
   "cell_type": "code",
   "execution_count": 29,
   "metadata": {},
   "outputs": [],
   "source": [
    "maxinv = data.select(max('InvoiceDate')).toPandas()"
   ]
  },
  {
   "cell_type": "code",
   "execution_count": 30,
   "metadata": {},
   "outputs": [],
   "source": [
    "data = data.withColumn('Duration', datediff(lit(maxinv.iloc[0][0]), 'InvoiceDate'))"
   ]
  },
  {
   "cell_type": "code",
   "execution_count": 31,
   "metadata": {
    "scrolled": true
   },
   "outputs": [
    {
     "name": "stdout",
     "output_type": "stream",
     "text": [
      "+---------+---------+--------------------+--------+-------------------+---------+----------+--------------+-----------+--------+\n",
      "|InvoiceNo|StockCode|         Description|Quantity|        InvoiceDate|UnitPrice|CustomerID|       Country|Price_total|Duration|\n",
      "+---------+---------+--------------------+--------+-------------------+---------+----------+--------------+-----------+--------+\n",
      "|   536365|   85123A|WHITE HANGING HEA...|       6|2010-12-01 08:26:00|     2.55|     17850|United Kingdom|       15.3|     373|\n",
      "|   536365|    71053| WHITE METAL LANTERN|       6|2010-12-01 08:26:00|     3.39|     17850|United Kingdom|      20.34|     373|\n",
      "|   536365|   84406B|CREAM CUPID HEART...|       8|2010-12-01 08:26:00|     2.75|     17850|United Kingdom|       22.0|     373|\n",
      "|   536365|   84029G|KNITTED UNION FLA...|       6|2010-12-01 08:26:00|     3.39|     17850|United Kingdom|      20.34|     373|\n",
      "|   536365|   84029E|RED WOOLLY HOTTIE...|       6|2010-12-01 08:26:00|     3.39|     17850|United Kingdom|      20.34|     373|\n",
      "+---------+---------+--------------------+--------+-------------------+---------+----------+--------------+-----------+--------+\n",
      "only showing top 5 rows\n",
      "\n"
     ]
    }
   ],
   "source": [
    "data.show(5)"
   ]
  },
  {
   "cell_type": "code",
   "execution_count": 32,
   "metadata": {},
   "outputs": [],
   "source": [
    "from pyspark.sql.functions import mean, min, max, sum, count, datediff, to_date"
   ]
  },
  {
   "cell_type": "code",
   "execution_count": 33,
   "metadata": {},
   "outputs": [],
   "source": [
    "recency =data.groupBy(\"CustomerID\").agg(min(\"Duration\").alias('Recency'))"
   ]
  },
  {
   "cell_type": "code",
   "execution_count": 34,
   "metadata": {},
   "outputs": [
    {
     "name": "stdout",
     "output_type": "stream",
     "text": [
      "+----------+-------+\n",
      "|CustomerID|Recency|\n",
      "+----------+-------+\n",
      "|     16250|    261|\n",
      "|     15574|    177|\n",
      "|     15555|     12|\n",
      "|     15271|      7|\n",
      "|     17714|    320|\n",
      "|     17686|      7|\n",
      "|     13865|     58|\n",
      "|     14157|     19|\n",
      "|     13610|     12|\n",
      "|     13772|     33|\n",
      "|     13282|     18|\n",
      "|     12394|     63|\n",
      "|     16320|    172|\n",
      "|     13192|     95|\n",
      "|     14887|     79|\n",
      "|     17506|     70|\n",
      "|     17427|     71|\n",
      "|     18130|      8|\n",
      "|     16504|     25|\n",
      "|     15269|     23|\n",
      "+----------+-------+\n",
      "only showing top 20 rows\n",
      "\n"
     ]
    }
   ],
   "source": [
    "recency.show()"
   ]
  },
  {
   "cell_type": "code",
   "execution_count": 35,
   "metadata": {},
   "outputs": [],
   "source": [
    "custinvoice =data.groupBy(\"CustomerID\", \"InvoiceNo\").count()"
   ]
  },
  {
   "cell_type": "code",
   "execution_count": 36,
   "metadata": {},
   "outputs": [],
   "source": [
    "frequency =custinvoice.groupBy('CustomerID').agg(count(\"*\").alias(\"Frequency\"))"
   ]
  },
  {
   "cell_type": "code",
   "execution_count": 37,
   "metadata": {},
   "outputs": [
    {
     "name": "stdout",
     "output_type": "stream",
     "text": [
      "+----------+---------+\n",
      "|CustomerID|Frequency|\n",
      "+----------+---------+\n",
      "|     15555|       20|\n",
      "|     15574|        4|\n",
      "|     15634|        1|\n",
      "|     13610|        9|\n",
      "|     13192|        2|\n",
      "|     14157|        3|\n",
      "|     17686|        7|\n",
      "|     13865|        4|\n",
      "|     16250|        2|\n",
      "|     14204|        1|\n",
      "|     18130|        4|\n",
      "|     17427|        1|\n",
      "|     15271|       16|\n",
      "|     17714|        1|\n",
      "|     13282|        6|\n",
      "|     16320|        2|\n",
      "|     17506|        2|\n",
      "|     12394|        2|\n",
      "|     15269|        1|\n",
      "|     16504|        1|\n",
      "+----------+---------+\n",
      "only showing top 20 rows\n",
      "\n"
     ]
    }
   ],
   "source": [
    "frequency.show()"
   ]
  },
  {
   "cell_type": "code",
   "execution_count": 38,
   "metadata": {},
   "outputs": [],
   "source": [
    "monetary = data.groupBy('CustomerID').agg(round(sum('Price_total'), 2).alias('Monetary'))"
   ]
  },
  {
   "cell_type": "code",
   "execution_count": 39,
   "metadata": {},
   "outputs": [],
   "source": [
    "rf =recency.join(frequency, \"CustomerID\", how ='inner')"
   ]
  },
  {
   "cell_type": "code",
   "execution_count": 40,
   "metadata": {},
   "outputs": [
    {
     "name": "stdout",
     "output_type": "stream",
     "text": [
      "+----------+-------+---------+\n",
      "|CustomerID|Recency|Frequency|\n",
      "+----------+-------+---------+\n",
      "|     12394|     63|        2|\n",
      "|     12847|     22|        1|\n",
      "|     13192|     95|        2|\n",
      "|     13282|     18|        6|\n",
      "|     13610|     12|        9|\n",
      "|     13772|     33|        3|\n",
      "|     13865|     58|        4|\n",
      "|     14157|     19|        3|\n",
      "|     14204|      2|        1|\n",
      "|     14887|     79|        1|\n",
      "|     15269|     23|        1|\n",
      "|     15271|      7|       16|\n",
      "|     15555|     12|       20|\n",
      "|     15574|    177|        4|\n",
      "|     15634|     17|        1|\n",
      "|     16250|    261|        2|\n",
      "|     16320|    172|        2|\n",
      "|     16504|     25|        1|\n",
      "|     17427|     71|        1|\n",
      "|     17506|     70|        2|\n",
      "+----------+-------+---------+\n",
      "only showing top 20 rows\n",
      "\n"
     ]
    }
   ],
   "source": [
    "rf.show()"
   ]
  },
  {
   "cell_type": "code",
   "execution_count": 41,
   "metadata": {},
   "outputs": [],
   "source": [
    "rfm= rf.join(monetary, \"CustomerID\", how ='inner')"
   ]
  },
  {
   "cell_type": "code",
   "execution_count": 42,
   "metadata": {},
   "outputs": [
    {
     "name": "stdout",
     "output_type": "stream",
     "text": [
      "+----------+-------+---------+--------+\n",
      "|CustomerID|Recency|Frequency|Monetary|\n",
      "+----------+-------+---------+--------+\n",
      "|     12394|     63|        2| 1272.48|\n",
      "|     12847|     22|        1|  871.54|\n",
      "|     13192|     95|        2|  911.94|\n",
      "|     13282|     18|        6| 1047.84|\n",
      "|     13610|     12|        9| 1115.43|\n",
      "|     13772|     33|        3| 1132.13|\n",
      "|     13865|     58|        4|  501.56|\n",
      "|     14157|     19|        3|  400.43|\n",
      "|     14204|      2|        1|  161.03|\n",
      "|     14887|     79|        1|  1862.0|\n",
      "|     15269|     23|        1|   408.8|\n",
      "|     15271|      7|       16| 2485.82|\n",
      "|     15555|     12|       20|  4758.2|\n",
      "|     15574|    177|        4|  702.25|\n",
      "|     15634|     17|        1|  243.55|\n",
      "|     16250|    261|        2|  389.44|\n",
      "|     16320|    172|        2| 1038.46|\n",
      "|     16504|     25|        1|  484.38|\n",
      "|     17427|     71|        1|   100.8|\n",
      "|     17506|     70|        2|  294.29|\n",
      "+----------+-------+---------+--------+\n",
      "only showing top 20 rows\n",
      "\n"
     ]
    }
   ],
   "source": [
    "rfm.show()"
   ]
  },
  {
   "cell_type": "code",
   "execution_count": 43,
   "metadata": {},
   "outputs": [
    {
     "data": {
      "text/plain": [
       "[Row(CustomerID='12394', Recency=63, Frequency=2, Monetary=1272.48),\n",
       " Row(CustomerID='12847', Recency=22, Frequency=1, Monetary=871.54),\n",
       " Row(CustomerID='13192', Recency=95, Frequency=2, Monetary=911.94),\n",
       " Row(CustomerID='13282', Recency=18, Frequency=6, Monetary=1047.84),\n",
       " Row(CustomerID='13610', Recency=12, Frequency=9, Monetary=1115.43),\n",
       " Row(CustomerID='13772', Recency=33, Frequency=3, Monetary=1132.13)]"
      ]
     },
     "execution_count": 43,
     "metadata": {},
     "output_type": "execute_result"
    }
   ],
   "source": [
    "rfm.head(6)"
   ]
  },
  {
   "cell_type": "code",
   "execution_count": 44,
   "metadata": {},
   "outputs": [],
   "source": [
    "from pyspark.ml import Pipeline\n",
    "from pyspark.ml.feature import MinMaxScaler\n",
    "from pyspark.ml. feature import VectorAssembler\n",
    "from pyspark.sql import Row\n",
    "from pyspark.ml.linalg import Vectors"
   ]
  },
  {
   "cell_type": "code",
   "execution_count": 45,
   "metadata": {},
   "outputs": [],
   "source": [
    "def changeData(data):\n",
    "    return data.rdd.map(lambda r: [r[0],Vectors.dense(r[1:])]).toDF(['CustomerID','rfm'])"
   ]
  },
  {
   "cell_type": "code",
   "execution_count": 46,
   "metadata": {},
   "outputs": [],
   "source": [
    "changed = changeData(rfm)"
   ]
  },
  {
   "cell_type": "code",
   "execution_count": 47,
   "metadata": {},
   "outputs": [
    {
     "name": "stdout",
     "output_type": "stream",
     "text": [
      "+----------+-------------------+\n",
      "|CustomerID|                rfm|\n",
      "+----------+-------------------+\n",
      "|     12394| [63.0,2.0,1272.48]|\n",
      "|     12847|  [22.0,1.0,871.54]|\n",
      "|     13192|  [95.0,2.0,911.94]|\n",
      "|     13282| [18.0,6.0,1047.84]|\n",
      "|     13610| [12.0,9.0,1115.43]|\n",
      "|     13772| [33.0,3.0,1132.13]|\n",
      "|     13865|  [58.0,4.0,501.56]|\n",
      "|     14157|  [19.0,3.0,400.43]|\n",
      "|     14204|   [2.0,1.0,161.03]|\n",
      "|     14887|  [79.0,1.0,1862.0]|\n",
      "|     15269|   [23.0,1.0,408.8]|\n",
      "|     15271| [7.0,16.0,2485.82]|\n",
      "|     15555| [12.0,20.0,4758.2]|\n",
      "|     15574| [177.0,4.0,702.25]|\n",
      "|     15634|  [17.0,1.0,243.55]|\n",
      "|     16250| [261.0,2.0,389.44]|\n",
      "|     16320|[172.0,2.0,1038.46]|\n",
      "|     16504|  [25.0,1.0,484.38]|\n",
      "|     17427|   [71.0,1.0,100.8]|\n",
      "|     17506|  [70.0,2.0,294.29]|\n",
      "+----------+-------------------+\n",
      "only showing top 20 rows\n",
      "\n"
     ]
    }
   ],
   "source": [
    "changed.show()"
   ]
  },
  {
   "cell_type": "code",
   "execution_count": 48,
   "metadata": {},
   "outputs": [],
   "source": [
    "from pyspark.ml.feature import StandardScaler"
   ]
  },
  {
   "cell_type": "code",
   "execution_count": 49,
   "metadata": {},
   "outputs": [],
   "source": [
    "scaler = MinMaxScaler(inputCol= 'rfm', outputCol = 'features')"
   ]
  },
  {
   "cell_type": "code",
   "execution_count": 50,
   "metadata": {},
   "outputs": [],
   "source": [
    "scaler_model =scaler.fit(changed)\n",
    "cfinal_data =scaler_model.transform(changed)"
   ]
  },
  {
   "cell_type": "code",
   "execution_count": 51,
   "metadata": {},
   "outputs": [
    {
     "name": "stdout",
     "output_type": "stream",
     "text": [
      "root\n",
      " |-- CustomerID: string (nullable = true)\n",
      " |-- rfm: vector (nullable = true)\n",
      " |-- features: vector (nullable = true)\n",
      "\n"
     ]
    }
   ],
   "source": [
    "cfinal_data.printSchema()"
   ]
  },
  {
   "cell_type": "code",
   "execution_count": 52,
   "metadata": {},
   "outputs": [
    {
     "name": "stdout",
     "output_type": "stream",
     "text": [
      "+----------+------------------+---------------------------------------------------------------+\n",
      "|CustomerID|rfm               |features                                                       |\n",
      "+----------+------------------+---------------------------------------------------------------+\n",
      "|12394     |[63.0,2.0,1272.48]|[0.16890080428954424,0.004048582995951417,0.019593261108692347]|\n",
      "|12847     |[22.0,1.0,871.54] |[0.058981233243967826,0.0,0.018180389401312613]                |\n",
      "|13192     |[95.0,2.0,911.94] |[0.2546916890080429,0.004048582995951417,0.018322754884871603] |\n",
      "|13282     |[18.0,6.0,1047.84]|[0.0482573726541555,0.020242914979757085,0.018801652637734638] |\n",
      "|13610     |[12.0,9.0,1115.43]|[0.032171581769437,0.032388663967611336,0.019039832910847314]  |\n",
      "+----------+------------------+---------------------------------------------------------------+\n",
      "only showing top 5 rows\n",
      "\n"
     ]
    }
   ],
   "source": [
    "cfinal_data.show(5, False)"
   ]
  },
  {
   "cell_type": "code",
   "execution_count": 53,
   "metadata": {},
   "outputs": [],
   "source": [
    "from pyspark.ml import Pipeline\n",
    "from pyspark.ml.feature import StringIndexer, OneHotEncoder, VectorAssembler\n",
    "from pyspark.sql.functions import col, percent_rank, lit\n",
    "from pyspark.sql.window import Window\n",
    "from pyspark.sql import DataFrame, Row\n",
    "from pyspark.sql.types import StructType\n",
    "from functools import reduce"
   ]
  },
  {
   "cell_type": "code",
   "execution_count": null,
   "metadata": {},
   "outputs": [],
   "source": []
  },
  {
   "cell_type": "code",
   "execution_count": 54,
   "metadata": {},
   "outputs": [],
   "source": [
    "import numpy as np\n",
    "import matplotlib.mlab as mlab\n",
    "import seaborn as sbs\n",
    "from matplotlib.ticker import MaxNLocator\n",
    "import matplotlib.pyplot as plt"
   ]
  },
  {
   "cell_type": "code",
   "execution_count": 55,
   "metadata": {},
   "outputs": [],
   "source": [
    "import pandas as pd\n",
    "from sklearn.datasets import load_iris\n",
    "from sklearn.cluster import KMeans\n",
    "import matplotlib.pyplot as plt"
   ]
  },
  {
   "cell_type": "code",
   "execution_count": 56,
   "metadata": {},
   "outputs": [],
   "source": [
    "data=np.array(cfinal_data)"
   ]
  },
  {
   "cell_type": "code",
   "execution_count": 57,
   "metadata": {},
   "outputs": [
    {
     "data": {
      "image/png": "[encoded data removed]",
      "text/plain": [
       "<Figure size 432x288 with 1 Axes>"
      ]
     },
     "metadata": {
      "needs_background": "light"
     },
     "output_type": "display_data"
    }
   ],
   "source": [
    "#find optimum k parameter\n",
    "iris = load_iris()\n",
    "X = pd.DataFrame(iris.data, columns=iris['feature_names'])\n",
    "#print(X)\n",
    "data = X[['sepal length (cm)', 'sepal width (cm)', 'petal length (cm)']]\n",
    "\n",
    "sse = {}\n",
    "for k in range(1, 10):\n",
    "    kmeans = KMeans(n_clusters=k, max_iter=1000).fit(data)\n",
    "    data[\"clusters\"] = kmeans.labels_\n",
    "    #print(data[\"clusters\"])\n",
    "    sse[k] = kmeans.inertia_ # Inertia: Sum of distances of samples to their closest cluster center\n",
    "plt.figure()\n",
    "plt.plot(list(sse.keys()), list(sse.values()))\n",
    "plt.xlabel(\"Number of cluster(k)\")\n",
    "plt.ylabel(\"SSE\")\n",
    "plt.show()"
   ]
  },
  {
   "cell_type": "code",
   "execution_count": 58,
   "metadata": {},
   "outputs": [
    {
     "data": {
      "text/plain": [
       "DataFrame[CustomerID: string, rfm: vector, features: vector]"
      ]
     },
     "execution_count": 58,
     "metadata": {},
     "output_type": "execute_result"
    }
   ],
   "source": [
    "cfinal_data.persist()"
   ]
  },
  {
   "cell_type": "code",
   "execution_count": 59,
   "metadata": {},
   "outputs": [],
   "source": [
    "from pyspark.ml import Pipeline\n",
    "from pyspark.ml.feature import StringIndexer, OneHotEncoder, VectorAssembler\n",
    "from pyspark.sql.functions import col, percent_rank, lit\n",
    "from pyspark.sql.window import Window\n",
    "from pyspark.sql import DataFrame, Row\n",
    "from pyspark.sql.types import StructType\n",
    "from functools import reduce\n",
    "from pyspark.ml.clustering import KMeans, KMeansModel"
   ]
  },
  {
   "cell_type": "code",
   "execution_count": 60,
   "metadata": {},
   "outputs": [],
   "source": [
    "kmeans = KMeans().setK(3).setSeed(1)"
   ]
  },
  {
   "cell_type": "code",
   "execution_count": 61,
   "metadata": {},
   "outputs": [],
   "source": [
    "model_k = kmeans.fit(cfinal_data)"
   ]
  },
  {
   "cell_type": "code",
   "execution_count": 62,
   "metadata": {},
   "outputs": [],
   "source": [
    "predictions = model_k.transform(cfinal_data)"
   ]
  },
  {
   "cell_type": "code",
   "execution_count": 63,
   "metadata": {},
   "outputs": [
    {
     "name": "stdout",
     "output_type": "stream",
     "text": [
      "+----------+------------------+--------------------+----------+\n",
      "|CustomerID|               rfm|            features|prediction|\n",
      "+----------+------------------+--------------------+----------+\n",
      "|     12394|[63.0,2.0,1272.48]|[0.16890080428954...|         0|\n",
      "|     12847| [22.0,1.0,871.54]|[0.05898123324396...|         0|\n",
      "|     13192| [95.0,2.0,911.94]|[0.25469168900804...|         2|\n",
      "|     13282|[18.0,6.0,1047.84]|[0.04825737265415...|         0|\n",
      "|     13610|[12.0,9.0,1115.43]|[0.03217158176943...|         0|\n",
      "+----------+------------------+--------------------+----------+\n",
      "only showing top 5 rows\n",
      "\n"
     ]
    }
   ],
   "source": [
    "predictions.show(5)"
   ]
  },
  {
   "cell_type": "code",
   "execution_count": 64,
   "metadata": {},
   "outputs": [
    {
     "name": "stdout",
     "output_type": "stream",
     "text": [
      "+----------+-----+\n",
      "|prediction|count|\n",
      "+----------+-----+\n",
      "|         1|  634|\n",
      "|         2|  811|\n",
      "|         0| 2927|\n",
      "+----------+-----+\n",
      "\n"
     ]
    }
   ],
   "source": [
    "predictions.groupBy('prediction').count().show()"
   ]
  },
  {
   "cell_type": "code",
   "execution_count": 65,
   "metadata": {},
   "outputs": [
    {
     "name": "stdout",
     "output_type": "stream",
     "text": [
      "+----------+----------+\n",
      "|CustomerID|prediction|\n",
      "+----------+----------+\n",
      "|     12394|         0|\n",
      "|     12847|         0|\n",
      "|     13282|         0|\n",
      "|     13610|         0|\n",
      "|     13772|         0|\n",
      "|     13865|         0|\n",
      "|     14157|         0|\n",
      "|     14204|         0|\n",
      "|     14887|         0|\n",
      "|     15269|         0|\n",
      "|     15271|         0|\n",
      "|     15555|         0|\n",
      "|     15634|         0|\n",
      "|     16504|         0|\n",
      "|     17427|         0|\n",
      "|     17506|         0|\n",
      "|     17686|         0|\n",
      "|     18130|         0|\n",
      "|     12637|         0|\n",
      "|     13985|         0|\n",
      "+----------+----------+\n",
      "only showing top 20 rows\n",
      "\n"
     ]
    }
   ],
   "source": [
    "customerK_0 =predictions.filter(predictions['prediction']==0).select(['CustomerID','prediction']).show()"
   ]
  },
  {
   "cell_type": "code",
   "execution_count": 66,
   "metadata": {},
   "outputs": [
    {
     "name": "stdout",
     "output_type": "stream",
     "text": [
      "+----------+----------+\n",
      "|CustomerID|prediction|\n",
      "+----------+----------+\n",
      "|     16250|         1|\n",
      "|     17714|         1|\n",
      "|     13187|         1|\n",
      "|     15052|         1|\n",
      "|     15448|         1|\n",
      "|     17551|         1|\n",
      "|     12811|         1|\n",
      "|     16619|         1|\n",
      "|     17438|         1|\n",
      "|     13133|         1|\n",
      "|     14439|         1|\n",
      "|     17128|         1|\n",
      "|     17718|         1|\n",
      "|     18106|         1|\n",
      "|     12386|         1|\n",
      "|     13672|         1|\n",
      "|     15107|         1|\n",
      "|     17507|         1|\n",
      "|     17855|         1|\n",
      "|     13512|         1|\n",
      "+----------+----------+\n",
      "only showing top 20 rows\n",
      "\n"
     ]
    }
   ],
   "source": [
    "customerK_1 =predictions.filter(predictions['prediction']==1).select(['CustomerID','prediction']).show()"
   ]
  },
  {
   "cell_type": "code",
   "execution_count": 67,
   "metadata": {},
   "outputs": [
    {
     "name": "stdout",
     "output_type": "stream",
     "text": [
      "+----------+----------+\n",
      "|CustomerID|prediction|\n",
      "+----------+----------+\n",
      "|     13192|         2|\n",
      "|     15574|         2|\n",
      "|     16320|         2|\n",
      "|     12888|         2|\n",
      "|     17866|         2|\n",
      "|     12750|         2|\n",
      "|     13395|         2|\n",
      "|     14000|         2|\n",
      "|     14552|         2|\n",
      "|     15041|         2|\n",
      "|     16340|         2|\n",
      "|     17256|         2|\n",
      "|     12710|         2|\n",
      "|     12816|         2|\n",
      "|     13027|         2|\n",
      "|     13122|         2|\n",
      "|     14340|         2|\n",
      "|     14697|         2|\n",
      "|     16093|         2|\n",
      "|     17660|         2|\n",
      "+----------+----------+\n",
      "only showing top 20 rows\n",
      "\n"
     ]
    }
   ],
   "source": [
    "customerK_3 =predictions.filter(predictions['prediction']==2).select(['CustomerID','prediction']).show()"
   ]
  },
  {
   "cell_type": "code",
   "execution_count": 68,
   "metadata": {},
   "outputs": [],
   "source": [
    "final_result = rfm.join(predictions.select('CustomerID', 'prediction'), 'CustomerID', how='left')"
   ]
  },
  {
   "cell_type": "code",
   "execution_count": 69,
   "metadata": {},
   "outputs": [
    {
     "name": "stdout",
     "output_type": "stream",
     "text": [
      "+----------+-------+---------+--------+----------+\n",
      "|CustomerID|Recency|Frequency|Monetary|prediction|\n",
      "+----------+-------+---------+--------+----------+\n",
      "|     12394|     63|        2| 1272.48|         0|\n",
      "|     12847|     22|        1|  871.54|         0|\n",
      "|     13192|     95|        2|  911.94|         2|\n",
      "|     13282|     18|        6| 1047.84|         0|\n",
      "|     13610|     12|        9| 1115.43|         0|\n",
      "|     13772|     33|        3| 1132.13|         0|\n",
      "|     13865|     58|        4|  501.56|         0|\n",
      "|     14157|     19|        3|  400.43|         0|\n",
      "|     14204|      2|        1|  161.03|         0|\n",
      "|     14887|     79|        1|  1862.0|         0|\n",
      "|     15269|     23|        1|   408.8|         0|\n",
      "|     15271|      7|       16| 2485.82|         0|\n",
      "|     15555|     12|       20|  4758.2|         0|\n",
      "|     15574|    177|        4|  702.25|         2|\n",
      "|     15634|     17|        1|  243.55|         0|\n",
      "|     16250|    261|        2|  389.44|         1|\n",
      "|     16320|    172|        2| 1038.46|         2|\n",
      "|     16504|     25|        1|  484.38|         0|\n",
      "|     17427|     71|        1|   100.8|         0|\n",
      "|     17506|     70|        2|  294.29|         0|\n",
      "+----------+-------+---------+--------+----------+\n",
      "only showing top 20 rows\n",
      "\n"
     ]
    }
   ],
   "source": [
    "final_result.show()"
   ]
  },
  {
   "cell_type": "code",
   "execution_count": 70,
   "metadata": {},
   "outputs": [
    {
     "name": "stdout",
     "output_type": "stream",
     "text": [
      "+----------+------------------+-----------------+------------------+\n",
      "|prediction|      avg(Recency)|    avg(Monetary)|    avg(Frequency)|\n",
      "+----------+------------------+-----------------+------------------+\n",
      "|         0|30.674410659378204|2552.377280491972| 6.533993850358729|\n",
      "|         1|  294.903785488959| 404.903375394322|1.5599369085173502|\n",
      "|         2| 152.4537607891492|705.9787546239216|2.5598027127003697|\n",
      "+----------+------------------+-----------------+------------------+\n",
      "\n"
     ]
    }
   ],
   "source": [
    "final_result.groupBy('prediction').agg({'Recency':'mean','Frequency': 'mean', 'Monetary': 'mean'}).sort(F.col('prediction')).show()"
   ]
  },
  {
   "cell_type": "code",
   "execution_count": 71,
   "metadata": {},
   "outputs": [
    {
     "name": "stdout",
     "output_type": "stream",
     "text": [
      "+----------+-------+--------+---------+\n",
      "|prediction|recency|monetary|frequency|\n",
      "+----------+-------+--------+---------+\n",
      "|         0|     63| 1272.48|        2|\n",
      "|         0|     22|  871.54|        1|\n",
      "|         2|     95|  911.94|        2|\n",
      "|         0|     18| 1047.84|        6|\n",
      "|         0|     12| 1115.43|        9|\n",
      "|         0|     33| 1132.13|        3|\n",
      "|         0|     58|  501.56|        4|\n",
      "|         0|     19|  400.43|        3|\n",
      "|         0|      2|  161.03|        1|\n",
      "|         0|     79|  1862.0|        1|\n",
      "|         0|     23|   408.8|        1|\n",
      "|         0|      7| 2485.82|       16|\n",
      "|         0|     12|  4758.2|       20|\n",
      "|         2|    177|  702.25|        4|\n",
      "|         0|     17|  243.55|        1|\n",
      "|         1|    261|  389.44|        2|\n",
      "|         2|    172| 1038.46|        2|\n",
      "|         0|     25|  484.38|        1|\n",
      "|         0|     71|   100.8|        1|\n",
      "|         0|     70|  294.29|        2|\n",
      "+----------+-------+--------+---------+\n",
      "only showing top 20 rows\n",
      "\n"
     ]
    }
   ],
   "source": [
    "final_result.select('prediction', 'recency', 'monetary', 'frequency').show()"
   ]
  },
  {
   "cell_type": "code",
   "execution_count": 72,
   "metadata": {},
   "outputs": [],
   "source": [
    "from pyspark.ml.evaluation import ClusteringEvaluator"
   ]
  },
  {
   "cell_type": "code",
   "execution_count": 73,
   "metadata": {},
   "outputs": [],
   "source": [
    "evaluator = ClusteringEvaluator()"
   ]
  },
  {
   "cell_type": "code",
   "execution_count": 74,
   "metadata": {},
   "outputs": [
    {
     "name": "stdout",
     "output_type": "stream",
     "text": [
      "Silhoutte with squared euclidean distance = 0.8045154385557931\n"
     ]
    }
   ],
   "source": [
    "#Evaluating Clustering by computing within Set Sum of Sqaured Errors\n",
    "\n",
    "silhouette = evaluator.evaluate(model_k.transform(cfinal_data))\n",
    "\n",
    "print(\"Silhoutte with squared euclidean distance = \" + str(silhouette))"
   ]
  },
  {
   "cell_type": "code",
   "execution_count": 75,
   "metadata": {},
   "outputs": [
    {
     "name": "stdout",
     "output_type": "stream",
     "text": [
      "Cluster Centers: \n",
      "[0.08223703 0.02240483 0.02410349]\n",
      "[0.79062677 0.00226695 0.01653601]\n",
      "[0.40872322 0.00631499 0.01759697]\n"
     ]
    }
   ],
   "source": [
    "# Shows the result.\n",
    "centers = model_k.clusterCenters()\n",
    "print(\"Cluster Centers: \")\n",
    "for center in centers:\n",
    "    print(center)"
   ]
  },
  {
   "cell_type": "code",
   "execution_count": 76,
   "metadata": {},
   "outputs": [],
   "source": [
    "import matplotlib.pyplot as plt\n",
    "import seaborn as sns; sns.set()  # for plot styling\n",
    "from sklearn.datasets import make_blobs\n",
    "from sklearn.cluster import KMeans\n",
    "from sklearn.metrics import silhouette_samples, silhouette_score\n",
    "import matplotlib.cm as cm\n",
    "import numpy as np"
   ]
  },
  {
   "cell_type": "code",
   "execution_count": 77,
   "metadata": {},
   "outputs": [
    {
     "data": {
      "image/png": "[encoded data removed]",
      "text/plain": [
       "<Figure size 432x288 with 1 Axes>"
      ]
     },
     "metadata": {},
     "output_type": "display_data"
    }
   ],
   "source": [
    "from sklearn.datasets.samples_generator import make_blobs\n",
    "cfinal_data, labels = make_blobs(n_samples=4372, centers=centers,\n",
    "                       cluster_std=0.60, random_state=0)\n",
    "plt.scatter(cfinal_data[:, 0], cfinal_data[:, 1], s=50);"
   ]
  },
  {
   "cell_type": "code",
   "execution_count": 78,
   "metadata": {},
   "outputs": [],
   "source": [
    "kmeans = KMeans(n_clusters=3)\n",
    "kmeans.fit(cfinal_data)\n",
    "y_kmeans = kmeans.predict(cfinal_data)"
   ]
  },
  {
   "cell_type": "code",
   "execution_count": 79,
   "metadata": {},
   "outputs": [
    {
     "data": {
      "image/png": "[encoded data removed]",
      "text/plain": [
       "<Figure size 432x288 with 1 Axes>"
      ]
     },
     "metadata": {},
     "output_type": "display_data"
    }
   ],
   "source": [
    "plt.scatter(cfinal_data[:, 0], cfinal_data[:, 1], c=y_kmeans, s=5, cmap='viridis')\n",
    "\n",
    "centers = kmeans.cluster_centers_\n",
    "plt.scatter(centers[:, 0], centers[:, 1], c='black', s=200, alpha=0.5);"
   ]
  },
  {
   "cell_type": "code",
   "execution_count": 80,
   "metadata": {},
   "outputs": [],
   "source": [
    "#convert prediction to dataframe\n",
    "pandasDF= predictions.toPandas()"
   ]
  },
  {
   "cell_type": "code",
   "execution_count": 81,
   "metadata": {},
   "outputs": [
    {
     "data": {
      "text/html": [
       "<div>\n",
       "<style scoped>\n",
       "    .dataframe tbody tr th:only-of-type {\n",
       "        vertical-align: middle;\n",
       "    }\n",
       "\n",
       "    .dataframe tbody tr th {\n",
       "        vertical-align: top;\n",
       "    }\n",
       "\n",
       "    .dataframe thead th {\n",
       "        text-align: right;\n",
       "    }\n",
       "</style>\n",
       "<table border=\"1\" class=\"dataframe\">\n",
       "  <thead>\n",
       "    <tr style=\"text-align: right;\">\n",
       "      <th></th>\n",
       "      <th>CustomerID</th>\n",
       "      <th>rfm</th>\n",
       "      <th>features</th>\n",
       "      <th>prediction</th>\n",
       "    </tr>\n",
       "  </thead>\n",
       "  <tbody>\n",
       "    <tr>\n",
       "      <td>0</td>\n",
       "      <td>12394</td>\n",
       "      <td>[63.0, 2.0, 1272.48]</td>\n",
       "      <td>[0.16890080428954424, 0.004048582995951417, 0....</td>\n",
       "      <td>0</td>\n",
       "    </tr>\n",
       "    <tr>\n",
       "      <td>1</td>\n",
       "      <td>12847</td>\n",
       "      <td>[22.0, 1.0, 871.54]</td>\n",
       "      <td>[0.058981233243967826, 0.0, 0.018180389401312613]</td>\n",
       "      <td>0</td>\n",
       "    </tr>\n",
       "    <tr>\n",
       "      <td>2</td>\n",
       "      <td>13192</td>\n",
       "      <td>[95.0, 2.0, 911.94]</td>\n",
       "      <td>[0.2546916890080429, 0.004048582995951417, 0.0...</td>\n",
       "      <td>2</td>\n",
       "    </tr>\n",
       "    <tr>\n",
       "      <td>3</td>\n",
       "      <td>13282</td>\n",
       "      <td>[18.0, 6.0, 1047.84]</td>\n",
       "      <td>[0.0482573726541555, 0.020242914979757085, 0.0...</td>\n",
       "      <td>0</td>\n",
       "    </tr>\n",
       "    <tr>\n",
       "      <td>4</td>\n",
       "      <td>13610</td>\n",
       "      <td>[12.0, 9.0, 1115.43]</td>\n",
       "      <td>[0.032171581769437, 0.032388663967611336, 0.01...</td>\n",
       "      <td>0</td>\n",
       "    </tr>\n",
       "    <tr>\n",
       "      <td>...</td>\n",
       "      <td>...</td>\n",
       "      <td>...</td>\n",
       "      <td>...</td>\n",
       "      <td>...</td>\n",
       "    </tr>\n",
       "    <tr>\n",
       "      <td>4367</td>\n",
       "      <td>16751</td>\n",
       "      <td>[30.0, 1.0, 1764.72]</td>\n",
       "      <td>[0.08042895442359249, 0.0, 0.021327864713322958]</td>\n",
       "      <td>0</td>\n",
       "    </tr>\n",
       "    <tr>\n",
       "      <td>4368</td>\n",
       "      <td>16858</td>\n",
       "      <td>[366.0, 2.0, 345.89]</td>\n",
       "      <td>[0.9812332439678284, 0.004048582995951417, 0.0...</td>\n",
       "      <td>1</td>\n",
       "    </tr>\n",
       "    <tr>\n",
       "      <td>4369</td>\n",
       "      <td>17081</td>\n",
       "      <td>[25.0, 2.0, 290.16]</td>\n",
       "      <td>[0.06702412868632708, 0.004048582995951417, 0....</td>\n",
       "      <td>0</td>\n",
       "    </tr>\n",
       "    <tr>\n",
       "      <td>4370</td>\n",
       "      <td>17284</td>\n",
       "      <td>[60.0, 7.0, 1641.68]</td>\n",
       "      <td>[0.16085790884718498, 0.024291497975708502, 0....</td>\n",
       "      <td>0</td>\n",
       "    </tr>\n",
       "    <tr>\n",
       "      <td>4371</td>\n",
       "      <td>17351</td>\n",
       "      <td>[36.0, 3.0, 587.15]</td>\n",
       "      <td>[0.096514745308311, 0.008097165991902834, 0.01...</td>\n",
       "      <td>0</td>\n",
       "    </tr>\n",
       "  </tbody>\n",
       "</table>\n",
       "<p>4372 rows × 4 columns</p>\n",
       "</div>"
      ],
      "text/plain": [
       "     CustomerID                   rfm  \\\n",
       "0         12394  [63.0, 2.0, 1272.48]   \n",
       "1         12847   [22.0, 1.0, 871.54]   \n",
       "2         13192   [95.0, 2.0, 911.94]   \n",
       "3         13282  [18.0, 6.0, 1047.84]   \n",
       "4         13610  [12.0, 9.0, 1115.43]   \n",
       "...         ...                   ...   \n",
       "4367      16751  [30.0, 1.0, 1764.72]   \n",
       "4368      16858  [366.0, 2.0, 345.89]   \n",
       "4369      17081   [25.0, 2.0, 290.16]   \n",
       "4370      17284  [60.0, 7.0, 1641.68]   \n",
       "4371      17351   [36.0, 3.0, 587.15]   \n",
       "\n",
       "                                               features  prediction  \n",
       "0     [0.16890080428954424, 0.004048582995951417, 0....           0  \n",
       "1     [0.058981233243967826, 0.0, 0.018180389401312613]           0  \n",
       "2     [0.2546916890080429, 0.004048582995951417, 0.0...           2  \n",
       "3     [0.0482573726541555, 0.020242914979757085, 0.0...           0  \n",
       "4     [0.032171581769437, 0.032388663967611336, 0.01...           0  \n",
       "...                                                 ...         ...  \n",
       "4367   [0.08042895442359249, 0.0, 0.021327864713322958]           0  \n",
       "4368  [0.9812332439678284, 0.004048582995951417, 0.0...           1  \n",
       "4369  [0.06702412868632708, 0.004048582995951417, 0....           0  \n",
       "4370  [0.16085790884718498, 0.024291497975708502, 0....           0  \n",
       "4371  [0.096514745308311, 0.008097165991902834, 0.01...           0  \n",
       "\n",
       "[4372 rows x 4 columns]"
      ]
     },
     "execution_count": 81,
     "metadata": {},
     "output_type": "execute_result"
    }
   ],
   "source": [
    "pandasDF"
   ]
  },
  {
   "cell_type": "code",
   "execution_count": 82,
   "metadata": {},
   "outputs": [
    {
     "data": {
      "image/png": "[encoded data removed]",
      "text/plain": [
       "<Figure size 432x288 with 1 Axes>"
      ]
     },
     "metadata": {},
     "output_type": "display_data"
    }
   ],
   "source": [
    "#pandas_testDF interpretation in graphical form suggesting number of cluster point\n",
    "\n",
    "final_result.select(\"prediction\").toPandas().hist();"
   ]
  },
  {
   "cell_type": "code",
   "execution_count": 83,
   "metadata": {
    "scrolled": true
   },
   "outputs": [
    {
     "name": "stdout",
     "output_type": "stream",
     "text": [
      "+-------+----------+-----+\n",
      "|recency|prediction|count|\n",
      "+-------+----------+-----+\n",
      "|     92|         2|   14|\n",
      "|    192|         2|    8|\n",
      "|     30|         0|   38|\n",
      "|     88|         0|   14|\n",
      "|    205|         2|    5|\n",
      "|      1|         0|  116|\n",
      "|    112|         2|    8|\n",
      "|     71|         0|   28|\n",
      "|    152|         2|    3|\n",
      "|    208|         2|    3|\n",
      "|    200|         2|    5|\n",
      "|    108|         2|   10|\n",
      "|    123|         2|    6|\n",
      "|    243|         1|    4|\n",
      "|    190|         2|    8|\n",
      "|    368|         1|    5|\n",
      "|    154|         2|   11|\n",
      "|    338|         1|    2|\n",
      "|    151|         2|   11|\n",
      "|     54|         0|   11|\n",
      "+-------+----------+-----+\n",
      "only showing top 20 rows\n",
      "\n"
     ]
    }
   ],
   "source": [
    "final_result.groupBy('recency', 'prediction').count().show()"
   ]
  },
  {
   "cell_type": "code",
   "execution_count": 84,
   "metadata": {},
   "outputs": [],
   "source": [
    "final_result = final_result.withColumnRenamed('prediction', 'kpred')"
   ]
  },
  {
   "cell_type": "code",
   "execution_count": 85,
   "metadata": {},
   "outputs": [
    {
     "name": "stdout",
     "output_type": "stream",
     "text": [
      "+----------+-------+---------+--------+-----+\n",
      "|CustomerID|Recency|Frequency|Monetary|kpred|\n",
      "+----------+-------+---------+--------+-----+\n",
      "|     12394|     63|        2| 1272.48|    0|\n",
      "|     12847|     22|        1|  871.54|    0|\n",
      "|     13192|     95|        2|  911.94|    2|\n",
      "|     13282|     18|        6| 1047.84|    0|\n",
      "|     13610|     12|        9| 1115.43|    0|\n",
      "|     13772|     33|        3| 1132.13|    0|\n",
      "|     13865|     58|        4|  501.56|    0|\n",
      "|     14157|     19|        3|  400.43|    0|\n",
      "|     14204|      2|        1|  161.03|    0|\n",
      "|     14887|     79|        1|  1862.0|    0|\n",
      "|     15269|     23|        1|   408.8|    0|\n",
      "|     15271|      7|       16| 2485.82|    0|\n",
      "|     15555|     12|       20|  4758.2|    0|\n",
      "|     15574|    177|        4|  702.25|    2|\n",
      "|     15634|     17|        1|  243.55|    0|\n",
      "|     16250|    261|        2|  389.44|    1|\n",
      "|     16320|    172|        2| 1038.46|    2|\n",
      "|     16504|     25|        1|  484.38|    0|\n",
      "|     17427|     71|        1|   100.8|    0|\n",
      "|     17506|     70|        2|  294.29|    0|\n",
      "+----------+-------+---------+--------+-----+\n",
      "only showing top 20 rows\n",
      "\n"
     ]
    }
   ],
   "source": [
    "final_result.show()"
   ]
  },
  {
   "cell_type": "code",
   "execution_count": 86,
   "metadata": {},
   "outputs": [],
   "source": [
    "cols =final_result.columns"
   ]
  },
  {
   "cell_type": "code",
   "execution_count": 87,
   "metadata": {},
   "outputs": [],
   "source": [
    "from pyspark.ml.feature import(VectorAssembler, VectorIndexer, OneHotEncoder, StringIndexer)\n",
    "\n",
    "from pyspark.ml import Pipeline"
   ]
  },
  {
   "cell_type": "code",
   "execution_count": 88,
   "metadata": {},
   "outputs": [],
   "source": [
    "#convert string to numeric value\n",
    "netColumns = ['CustomerID']\n",
    "\n",
    "stages = []\n",
    "\n",
    "indexers=[StringIndexer(inputCol=categoricalCol, outputCol=categoricalCol+\"_index\").fit(final_result) for categoricalCol in netColumns]"
   ]
  },
  {
   "cell_type": "code",
   "execution_count": 89,
   "metadata": {},
   "outputs": [],
   "source": [
    "#display(indexers)\n",
    "pipeline = Pipeline(stages=indexers)\n",
    "\n",
    "df_schemas= pipeline.fit(final_result).transform(final_result)"
   ]
  },
  {
   "cell_type": "code",
   "execution_count": 90,
   "metadata": {},
   "outputs": [
    {
     "name": "stdout",
     "output_type": "stream",
     "text": [
      "+----------+-------+---------+--------+-----+----------------+\n",
      "|CustomerID|Recency|Frequency|Monetary|kpred|CustomerID_index|\n",
      "+----------+-------+---------+--------+-----+----------------+\n",
      "|     12394|     63|        2| 1272.48|    0|            38.0|\n",
      "|     12847|     22|        1|  871.54|    0|           400.0|\n",
      "|     13192|     95|        2|  911.94|    2|           647.0|\n",
      "|     13282|     18|        6| 1047.84|    0|           713.0|\n",
      "|     13610|     12|        9| 1115.43|    0|           949.0|\n",
      "|     13772|     33|        3| 1132.13|    0|          1065.0|\n",
      "|     13865|     58|        4|  501.56|    0|          1130.0|\n",
      "|     14157|     19|        3|  400.43|    0|          1346.0|\n",
      "|     14204|      2|        1|  161.03|    0|          1376.0|\n",
      "|     14887|     79|        1|  1862.0|    0|          1876.0|\n",
      "|     15269|     23|        1|   408.8|    0|          2163.0|\n",
      "|     15271|      7|       16| 2485.82|    0|          2165.0|\n",
      "|     15555|     12|       20|  4758.2|    0|          2375.0|\n",
      "|     15574|    177|        4|  702.25|    2|          2389.0|\n",
      "|     15634|     17|        1|  243.55|    0|          2433.0|\n",
      "|     16250|    261|        2|  389.44|    1|          2891.0|\n",
      "|     16320|    172|        2| 1038.46|    2|          2935.0|\n",
      "|     16504|     25|        1|  484.38|    0|          3076.0|\n",
      "|     17427|     71|        1|   100.8|    0|          3740.0|\n",
      "|     17506|     70|        2|  294.29|    0|          3796.0|\n",
      "+----------+-------+---------+--------+-----+----------------+\n",
      "only showing top 20 rows\n",
      "\n"
     ]
    }
   ],
   "source": [
    "df_schemas.show()"
   ]
  },
  {
   "cell_type": "code",
   "execution_count": 91,
   "metadata": {},
   "outputs": [],
   "source": [
    "from pyspark.ml.feature import OneHotEncoder, StringIndexer, VectorAssembler\n",
    "\n",
    "netColumns = ['CustomerID']\n",
    "\n",
    "stages = []\n",
    "\n",
    "for categoricalCol in netColumns:\n",
    "    \n",
    "    stringIndexer = StringIndexer(inputCol = categoricalCol, outputCol = categoricalCol + 'Index')\n",
    "    \n",
    "    encoder = OneHotEncoder(inputCols=[stringIndexer.getOutputCol()], outputCols=[categoricalCol + \"classVec\"])\n",
    "    \n",
    "    stages += [stringIndexer, encoder]\n",
    "    \n",
    "    label_stringIdx = StringIndexer(inputCol = 'kpred', outputCol = 'label')\n",
    "    \n",
    "stages += [label_stringIdx]\n",
    "\n",
    "numericCols = ['Recency', 'Frequency', 'Monetary']\n",
    "\n",
    "\n",
    "assemblerInputs = [c + \"classVec\" for c in netColumns] + numericCols\n",
    "\n",
    "assembler = VectorAssembler(inputCols=assemblerInputs, outputCol=\"features\")\n",
    "\n",
    "stages += [assembler]"
   ]
  },
  {
   "cell_type": "code",
   "execution_count": 92,
   "metadata": {},
   "outputs": [],
   "source": [
    "# pipeline\n",
    "from pyspark.ml import Pipeline\n",
    "\n",
    "pipeline = Pipeline(stages = stages)"
   ]
  },
  {
   "cell_type": "code",
   "execution_count": 93,
   "metadata": {},
   "outputs": [],
   "source": [
    "pipelineModel = pipeline.fit(final_result)"
   ]
  },
  {
   "cell_type": "code",
   "execution_count": 94,
   "metadata": {},
   "outputs": [],
   "source": [
    "df = pipelineModel.transform(final_result)\n",
    "\n",
    "selectedCols = ['label', 'features'] + cols"
   ]
  },
  {
   "cell_type": "code",
   "execution_count": 95,
   "metadata": {},
   "outputs": [
    {
     "name": "stdout",
     "output_type": "stream",
     "text": [
      "root\n",
      " |-- label: double (nullable = false)\n",
      " |-- features: vector (nullable = true)\n",
      " |-- CustomerID: string (nullable = true)\n",
      " |-- Recency: integer (nullable = true)\n",
      " |-- Frequency: long (nullable = false)\n",
      " |-- Monetary: double (nullable = true)\n",
      " |-- kpred: integer (nullable = true)\n",
      "\n"
     ]
    }
   ],
   "source": [
    "df = df.select(selectedCols)\n",
    "\n",
    "df.printSchema()"
   ]
  },
  {
   "cell_type": "code",
   "execution_count": 96,
   "metadata": {},
   "outputs": [],
   "source": [
    "import pandas as pd"
   ]
  },
  {
   "cell_type": "code",
   "execution_count": 97,
   "metadata": {},
   "outputs": [
    {
     "data": {
      "text/html": [
       "<div>\n",
       "<style scoped>\n",
       "    .dataframe tbody tr th:only-of-type {\n",
       "        vertical-align: middle;\n",
       "    }\n",
       "\n",
       "    .dataframe tbody tr th {\n",
       "        vertical-align: top;\n",
       "    }\n",
       "\n",
       "    .dataframe thead th {\n",
       "        text-align: right;\n",
       "    }\n",
       "</style>\n",
       "<table border=\"1\" class=\"dataframe\">\n",
       "  <thead>\n",
       "    <tr style=\"text-align: right;\">\n",
       "      <th></th>\n",
       "      <th>0</th>\n",
       "      <th>1</th>\n",
       "      <th>2</th>\n",
       "      <th>3</th>\n",
       "      <th>4</th>\n",
       "    </tr>\n",
       "  </thead>\n",
       "  <tbody>\n",
       "    <tr>\n",
       "      <td>label</td>\n",
       "      <td>0</td>\n",
       "      <td>0</td>\n",
       "      <td>1</td>\n",
       "      <td>0</td>\n",
       "      <td>0</td>\n",
       "    </tr>\n",
       "    <tr>\n",
       "      <td>features</td>\n",
       "      <td>(0.0, 0.0, 0.0, 0.0, 0.0, 0.0, 0.0, 0.0, 0.0, ...</td>\n",
       "      <td>(0.0, 0.0, 0.0, 0.0, 0.0, 0.0, 0.0, 0.0, 0.0, ...</td>\n",
       "      <td>(0.0, 0.0, 0.0, 0.0, 0.0, 0.0, 0.0, 0.0, 0.0, ...</td>\n",
       "      <td>(0.0, 0.0, 0.0, 0.0, 0.0, 0.0, 0.0, 0.0, 0.0, ...</td>\n",
       "      <td>(0.0, 0.0, 0.0, 0.0, 0.0, 0.0, 0.0, 0.0, 0.0, ...</td>\n",
       "    </tr>\n",
       "    <tr>\n",
       "      <td>CustomerID</td>\n",
       "      <td>12394</td>\n",
       "      <td>12847</td>\n",
       "      <td>13192</td>\n",
       "      <td>13282</td>\n",
       "      <td>13610</td>\n",
       "    </tr>\n",
       "    <tr>\n",
       "      <td>Recency</td>\n",
       "      <td>63</td>\n",
       "      <td>22</td>\n",
       "      <td>95</td>\n",
       "      <td>18</td>\n",
       "      <td>12</td>\n",
       "    </tr>\n",
       "    <tr>\n",
       "      <td>Frequency</td>\n",
       "      <td>2</td>\n",
       "      <td>1</td>\n",
       "      <td>2</td>\n",
       "      <td>6</td>\n",
       "      <td>9</td>\n",
       "    </tr>\n",
       "    <tr>\n",
       "      <td>Monetary</td>\n",
       "      <td>1272.48</td>\n",
       "      <td>871.54</td>\n",
       "      <td>911.94</td>\n",
       "      <td>1047.84</td>\n",
       "      <td>1115.43</td>\n",
       "    </tr>\n",
       "    <tr>\n",
       "      <td>kpred</td>\n",
       "      <td>0</td>\n",
       "      <td>0</td>\n",
       "      <td>2</td>\n",
       "      <td>0</td>\n",
       "      <td>0</td>\n",
       "    </tr>\n",
       "  </tbody>\n",
       "</table>\n",
       "</div>"
      ],
      "text/plain": [
       "                                                            0  \\\n",
       "label                                                       0   \n",
       "features    (0.0, 0.0, 0.0, 0.0, 0.0, 0.0, 0.0, 0.0, 0.0, ...   \n",
       "CustomerID                                              12394   \n",
       "Recency                                                    63   \n",
       "Frequency                                                   2   \n",
       "Monetary                                              1272.48   \n",
       "kpred                                                       0   \n",
       "\n",
       "                                                            1  \\\n",
       "label                                                       0   \n",
       "features    (0.0, 0.0, 0.0, 0.0, 0.0, 0.0, 0.0, 0.0, 0.0, ...   \n",
       "CustomerID                                              12847   \n",
       "Recency                                                    22   \n",
       "Frequency                                                   1   \n",
       "Monetary                                               871.54   \n",
       "kpred                                                       0   \n",
       "\n",
       "                                                            2  \\\n",
       "label                                                       1   \n",
       "features    (0.0, 0.0, 0.0, 0.0, 0.0, 0.0, 0.0, 0.0, 0.0, ...   \n",
       "CustomerID                                              13192   \n",
       "Recency                                                    95   \n",
       "Frequency                                                   2   \n",
       "Monetary                                               911.94   \n",
       "kpred                                                       2   \n",
       "\n",
       "                                                            3  \\\n",
       "label                                                       0   \n",
       "features    (0.0, 0.0, 0.0, 0.0, 0.0, 0.0, 0.0, 0.0, 0.0, ...   \n",
       "CustomerID                                              13282   \n",
       "Recency                                                    18   \n",
       "Frequency                                                   6   \n",
       "Monetary                                              1047.84   \n",
       "kpred                                                       0   \n",
       "\n",
       "                                                            4  \n",
       "label                                                       0  \n",
       "features    (0.0, 0.0, 0.0, 0.0, 0.0, 0.0, 0.0, 0.0, 0.0, ...  \n",
       "CustomerID                                              13610  \n",
       "Recency                                                    12  \n",
       "Frequency                                                   9  \n",
       "Monetary                                              1115.43  \n",
       "kpred                                                       0  "
      ]
     },
     "execution_count": 97,
     "metadata": {},
     "output_type": "execute_result"
    }
   ],
   "source": [
    "#show classification by label\n",
    "pd.DataFrame(df.take(5), columns=df.columns).transpose()"
   ]
  },
  {
   "cell_type": "code",
   "execution_count": 98,
   "metadata": {},
   "outputs": [],
   "source": [
    "train_data, test_data = df.randomSplit([0.7, 0.3], seed = 2018)"
   ]
  },
  {
   "cell_type": "code",
   "execution_count": 99,
   "metadata": {},
   "outputs": [
    {
     "name": "stdout",
     "output_type": "stream",
     "text": [
      "Training Dataset Count: 3064\n",
      "Test Dataset Count: 1308\n"
     ]
    }
   ],
   "source": [
    "#show test and train data count\n",
    "print(\"Training Dataset Count: \" + str(train_data.count()))\n",
    "\n",
    "print(\"Test Dataset Count: \" + str(test_data.count()))"
   ]
  },
  {
   "cell_type": "code",
   "execution_count": 100,
   "metadata": {},
   "outputs": [],
   "source": [
    "from pyspark.ml.classification import DecisionTreeClassifier\n",
    "\n",
    "\n",
    "dtc = DecisionTreeClassifier(featuresCol = 'features', labelCol = 'label', maxDepth = 20)"
   ]
  },
  {
   "cell_type": "code",
   "execution_count": 101,
   "metadata": {},
   "outputs": [],
   "source": [
    "dtModel = dtc.fit(train_data)"
   ]
  },
  {
   "cell_type": "code",
   "execution_count": 102,
   "metadata": {},
   "outputs": [
    {
     "name": "stdout",
     "output_type": "stream",
     "text": [
      "Number of Node:  111\n"
     ]
    }
   ],
   "source": [
    "#count numNodes\n",
    "print(\"Number of Node: \" , dtModel.numNodes)"
   ]
  },
  {
   "cell_type": "code",
   "execution_count": 103,
   "metadata": {},
   "outputs": [
    {
     "name": "stdout",
     "output_type": "stream",
     "text": [
      "Number of depth:  20\n"
     ]
    }
   ],
   "source": [
    "#count depth\n",
    "print(\"Number of depth: \", dtModel.depth)"
   ]
  },
  {
   "cell_type": "code",
   "execution_count": 104,
   "metadata": {},
   "outputs": [],
   "source": [
    "predictions = dtModel.transform(test_data)"
   ]
  },
  {
   "cell_type": "code",
   "execution_count": 105,
   "metadata": {},
   "outputs": [
    {
     "data": {
      "text/plain": [
       "[Row(prediction=0.0, CustomerID='12394', kpred=0, label=0.0),\n",
       " Row(prediction=0.0, CustomerID='14887', kpred=0, label=0.0),\n",
       " Row(prediction=0.0, CustomerID='15555', kpred=0, label=0.0),\n",
       " Row(prediction=0.0, CustomerID='15634', kpred=0, label=0.0),\n",
       " Row(prediction=0.0, CustomerID='17686', kpred=0, label=0.0),\n",
       " Row(prediction=1.0, CustomerID='15574', kpred=2, label=1.0),\n",
       " Row(prediction=0.0, CustomerID='12637', kpred=0, label=0.0),\n",
       " Row(prediction=0.0, CustomerID='14974', kpred=0, label=0.0),\n",
       " Row(prediction=0.0, CustomerID='16639', kpred=0, label=0.0),\n",
       " Row(prediction=2.0, CustomerID='13187', kpred=1, label=2.0),\n",
       " Row(prediction=2.0, CustomerID='17551', kpred=1, label=2.0),\n",
       " Row(prediction=0.0, CustomerID='16303', kpred=0, label=0.0),\n",
       " Row(prediction=0.0, CustomerID='17901', kpred=0, label=0.0),\n",
       " Row(prediction=0.0, CustomerID='18276', kpred=0, label=0.0),\n",
       " Row(prediction=1.0, CustomerID='12750', kpred=2, label=1.0),\n",
       " Row(prediction=1.0, CustomerID='13395', kpred=2, label=1.0),\n",
       " Row(prediction=1.0, CustomerID='15041', kpred=2, label=1.0),\n",
       " Row(prediction=1.0, CustomerID='16340', kpred=2, label=1.0),\n",
       " Row(prediction=2.0, CustomerID='12811', kpred=1, label=2.0),\n",
       " Row(prediction=0.0, CustomerID='13805', kpred=0, label=0.0),\n",
       " Row(prediction=0.0, CustomerID='14649', kpred=0, label=0.0),\n",
       " Row(prediction=0.0, CustomerID='15277', kpred=0, label=0.0),\n",
       " Row(prediction=0.0, CustomerID='15433', kpred=0, label=0.0),\n",
       " Row(prediction=0.0, CustomerID='17584', kpred=0, label=0.0),\n",
       " Row(prediction=2.0, CustomerID='14340', kpred=2, label=1.0),\n",
       " Row(prediction=0.0, CustomerID='13429', kpred=0, label=0.0),\n",
       " Row(prediction=0.0, CustomerID='13700', kpred=0, label=0.0),\n",
       " Row(prediction=0.0, CustomerID='15553', kpred=0, label=0.0),\n",
       " Row(prediction=0.0, CustomerID='16133', kpred=0, label=0.0),\n",
       " Row(prediction=0.0, CustomerID='17274', kpred=0, label=0.0),\n",
       " Row(prediction=0.0, CustomerID='17481', kpred=0, label=0.0),\n",
       " Row(prediction=0.0, CustomerID='17491', kpred=0, label=0.0),\n",
       " Row(prediction=1.0, CustomerID='17375', kpred=2, label=1.0),\n",
       " Row(prediction=2.0, CustomerID='18106', kpred=1, label=2.0),\n",
       " Row(prediction=0.0, CustomerID='14227', kpred=0, label=0.0),\n",
       " Row(prediction=0.0, CustomerID='16131', kpred=0, label=0.0),\n",
       " Row(prediction=0.0, CustomerID='17403', kpred=0, label=0.0),\n",
       " Row(prediction=2.0, CustomerID='12386', kpred=1, label=2.0),\n",
       " Row(prediction=2.0, CustomerID='15107', kpred=1, label=2.0),\n",
       " Row(prediction=2.0, CustomerID='17507', kpred=1, label=2.0),\n",
       " Row(prediction=0.0, CustomerID='13030', kpred=0, label=0.0),\n",
       " Row(prediction=0.0, CustomerID='13352', kpred=0, label=0.0),\n",
       " Row(prediction=0.0, CustomerID='14236', kpred=0, label=0.0),\n",
       " Row(prediction=0.0, CustomerID='15114', kpred=0, label=0.0),\n",
       " Row(prediction=0.0, CustomerID='15203', kpred=0, label=0.0),\n",
       " Row(prediction=0.0, CustomerID='17744', kpred=0, label=0.0),\n",
       " Row(prediction=1.0, CustomerID='12643', kpred=2, label=1.0),\n",
       " Row(prediction=2.0, CustomerID='13512', kpred=1, label=2.0),\n",
       " Row(prediction=2.0, CustomerID='14114', kpred=1, label=2.0),\n",
       " Row(prediction=2.0, CustomerID='17946', kpred=1, label=2.0),\n",
       " Row(prediction=0.0, CustomerID='12937', kpred=0, label=0.0),\n",
       " Row(prediction=0.0, CustomerID='14659', kpred=0, label=0.0),\n",
       " Row(prediction=1.0, CustomerID='15412', kpred=2, label=1.0),\n",
       " Row(prediction=2.0, CustomerID='13065', kpred=1, label=2.0),\n",
       " Row(prediction=2.0, CustomerID='17303', kpred=1, label=2.0),\n",
       " Row(prediction=0.0, CustomerID='12420', kpred=0, label=0.0),\n",
       " Row(prediction=0.0, CustomerID='13126', kpred=0, label=0.0),\n",
       " Row(prediction=0.0, CustomerID='15014', kpred=0, label=0.0),\n",
       " Row(prediction=0.0, CustomerID='15874', kpred=0, label=0.0),\n",
       " Row(prediction=0.0, CustomerID='17014', kpred=0, label=0.0),\n",
       " Row(prediction=0.0, CustomerID='13986', kpred=0, label=0.0),\n",
       " Row(prediction=0.0, CustomerID='16561', kpred=0, label=0.0),\n",
       " Row(prediction=0.0, CustomerID='12919', kpred=0, label=0.0),\n",
       " Row(prediction=0.0, CustomerID='14984', kpred=0, label=0.0),\n",
       " Row(prediction=0.0, CustomerID='16139', kpred=0, label=0.0),\n",
       " Row(prediction=0.0, CustomerID='16918', kpred=0, label=0.0),\n",
       " Row(prediction=1.0, CustomerID='16503', kpred=2, label=1.0),\n",
       " Row(prediction=0.0, CustomerID='15608', kpred=0, label=0.0),\n",
       " Row(prediction=0.0, CustomerID='17904', kpred=0, label=0.0),\n",
       " Row(prediction=1.0, CustomerID='15895', kpred=2, label=1.0),\n",
       " Row(prediction=1.0, CustomerID='17900', kpred=2, label=1.0),\n",
       " Row(prediction=0.0, CustomerID='12472', kpred=0, label=0.0),\n",
       " Row(prediction=0.0, CustomerID='16527', kpred=0, label=0.0),\n",
       " Row(prediction=1.0, CustomerID='13937', kpred=2, label=1.0),\n",
       " Row(prediction=1.0, CustomerID='13952', kpred=2, label=1.0),\n",
       " Row(prediction=1.0, CustomerID='15802', kpred=2, label=1.0),\n",
       " Row(prediction=1.0, CustomerID='18248', kpred=2, label=1.0),\n",
       " Row(prediction=2.0, CustomerID='16097', kpred=1, label=2.0),\n",
       " Row(prediction=0.0, CustomerID='13232', kpred=0, label=0.0),\n",
       " Row(prediction=0.0, CustomerID='14790', kpred=0, label=0.0),\n",
       " Row(prediction=0.0, CustomerID='16342', kpred=0, label=0.0),\n",
       " Row(prediction=0.0, CustomerID='17777', kpred=0, label=0.0),\n",
       " Row(prediction=1.0, CustomerID='12756', kpred=0, label=0.0),\n",
       " Row(prediction=0.0, CustomerID='15837', kpred=0, label=0.0),\n",
       " Row(prediction=0.0, CustomerID='16779', kpred=0, label=0.0),\n",
       " Row(prediction=0.0, CustomerID='17004', kpred=0, label=0.0),\n",
       " Row(prediction=0.0, CustomerID='17652', kpred=0, label=0.0),\n",
       " Row(prediction=0.0, CustomerID='17790', kpred=0, label=0.0),\n",
       " Row(prediction=0.0, CustomerID='17793', kpred=0, label=0.0),\n",
       " Row(prediction=1.0, CustomerID='13821', kpred=2, label=1.0),\n",
       " Row(prediction=1.0, CustomerID='14722', kpred=2, label=1.0),\n",
       " Row(prediction=0.0, CustomerID='13769', kpred=0, label=0.0),\n",
       " Row(prediction=0.0, CustomerID='15544', kpred=0, label=0.0),\n",
       " Row(prediction=0.0, CustomerID='16978', kpred=0, label=0.0),\n",
       " Row(prediction=1.0, CustomerID='15071', kpred=2, label=1.0),\n",
       " Row(prediction=1.0, CustomerID='13833', kpred=2, label=1.0),\n",
       " Row(prediction=2.0, CustomerID='14090', kpred=1, label=2.0),\n",
       " Row(prediction=2.0, CustomerID='15047', kpred=1, label=2.0),\n",
       " Row(prediction=2.0, CustomerID='15388', kpred=1, label=2.0),\n",
       " Row(prediction=0.0, CustomerID='13309', kpred=0, label=0.0),\n",
       " Row(prediction=0.0, CustomerID='13375', kpred=0, label=0.0),\n",
       " Row(prediction=0.0, CustomerID='14159', kpred=0, label=0.0),\n",
       " Row(prediction=0.0, CustomerID='14681', kpred=0, label=0.0),\n",
       " Row(prediction=0.0, CustomerID='16200', kpred=0, label=0.0),\n",
       " Row(prediction=1.0, CustomerID='16756', kpred=2, label=1.0),\n",
       " Row(prediction=1.0, CustomerID='18178', kpred=2, label=1.0),\n",
       " Row(prediction=2.0, CustomerID='15353', kpred=1, label=2.0),\n",
       " Row(prediction=0.0, CustomerID='12795', kpred=0, label=0.0),\n",
       " Row(prediction=0.0, CustomerID='14731', kpred=0, label=0.0),\n",
       " Row(prediction=0.0, CustomerID='16141', kpred=0, label=0.0),\n",
       " Row(prediction=0.0, CustomerID='17088', kpred=0, label=0.0),\n",
       " Row(prediction=1.0, CustomerID='16582', kpred=2, label=1.0),\n",
       " Row(prediction=1.0, CustomerID='17464', kpred=2, label=1.0),\n",
       " Row(prediction=0.0, CustomerID='16284', kpred=0, label=0.0),\n",
       " Row(prediction=1.0, CustomerID='18064', kpred=2, label=1.0),\n",
       " Row(prediction=2.0, CustomerID='14476', kpred=1, label=2.0),\n",
       " Row(prediction=2.0, CustomerID='17535', kpred=1, label=2.0),\n",
       " Row(prediction=2.0, CustomerID='17976', kpred=1, label=2.0),\n",
       " Row(prediction=0.0, CustomerID='15121', kpred=0, label=0.0),\n",
       " Row(prediction=0.0, CustomerID='15238', kpred=0, label=0.0),\n",
       " Row(prediction=0.0, CustomerID='15511', kpred=0, label=0.0),\n",
       " Row(prediction=0.0, CustomerID='16098', kpred=0, label=0.0),\n",
       " Row(prediction=0.0, CustomerID='16986', kpred=0, label=0.0),\n",
       " Row(prediction=1.0, CustomerID='18281', kpred=2, label=1.0),\n",
       " Row(prediction=2.0, CustomerID='12852', kpred=1, label=2.0),\n",
       " Row(prediction=0.0, CustomerID='13491', kpred=0, label=0.0),\n",
       " Row(prediction=0.0, CustomerID='14530', kpred=0, label=0.0),\n",
       " Row(prediction=0.0, CustomerID='14895', kpred=0, label=0.0),\n",
       " Row(prediction=0.0, CustomerID='14951', kpred=0, label=0.0),\n",
       " Row(prediction=0.0, CustomerID='15572', kpred=0, label=0.0),\n",
       " Row(prediction=0.0, CustomerID='17451', kpred=0, label=0.0),\n",
       " Row(prediction=1.0, CustomerID='14241', kpred=2, label=1.0),\n",
       " Row(prediction=0.0, CustomerID='13028', kpred=0, label=0.0),\n",
       " Row(prediction=0.0, CustomerID='13091', kpred=0, label=0.0),\n",
       " Row(prediction=0.0, CustomerID='13177', kpred=0, label=0.0),\n",
       " Row(prediction=0.0, CustomerID='14824', kpred=0, label=0.0),\n",
       " Row(prediction=0.0, CustomerID='17750', kpred=0, label=0.0),\n",
       " Row(prediction=1.0, CustomerID='13242', kpred=2, label=1.0),\n",
       " Row(prediction=2.0, CustomerID='12831', kpred=1, label=2.0),\n",
       " Row(prediction=0.0, CustomerID='17058', kpred=0, label=0.0),\n",
       " Row(prediction=1.0, CustomerID='13531', kpred=2, label=1.0),\n",
       " Row(prediction=1.0, CustomerID='15063', kpred=2, label=1.0),\n",
       " Row(prediction=1.0, CustomerID='15938', kpred=2, label=1.0),\n",
       " Row(prediction=1.0, CustomerID='17630', kpred=2, label=1.0),\n",
       " Row(prediction=2.0, CustomerID='12866', kpred=1, label=2.0),\n",
       " Row(prediction=0.0, CustomerID='13260', kpred=0, label=0.0),\n",
       " Row(prediction=0.0, CustomerID='15739', kpred=0, label=0.0),\n",
       " Row(prediction=0.0, CustomerID='16933', kpred=0, label=0.0),\n",
       " Row(prediction=0.0, CustomerID='18008', kpred=0, label=0.0),\n",
       " Row(prediction=0.0, CustomerID='18069', kpred=0, label=0.0),\n",
       " Row(prediction=1.0, CustomerID='15663', kpred=2, label=1.0),\n",
       " Row(prediction=2.0, CustomerID='16109', kpred=2, label=1.0),\n",
       " Row(prediction=2.0, CustomerID='14619', kpred=1, label=2.0),\n",
       " Row(prediction=2.0, CustomerID='18086', kpred=1, label=2.0),\n",
       " Row(prediction=0.0, CustomerID='14382', kpred=0, label=0.0),\n",
       " Row(prediction=0.0, CustomerID='16399', kpred=0, label=0.0),\n",
       " Row(prediction=1.0, CustomerID='12968', kpred=2, label=1.0),\n",
       " Row(prediction=1.0, CustomerID='16820', kpred=2, label=1.0),\n",
       " Row(prediction=0.0, CustomerID='12413', kpred=0, label=0.0),\n",
       " Row(prediction=0.0, CustomerID='14987', kpred=0, label=0.0),\n",
       " Row(prediction=0.0, CustomerID='17594', kpred=0, label=0.0),\n",
       " Row(prediction=1.0, CustomerID='14100', kpred=2, label=1.0),\n",
       " Row(prediction=0.0, CustomerID='13021', kpred=0, label=0.0),\n",
       " Row(prediction=0.0, CustomerID='16212', kpred=0, label=0.0),\n",
       " Row(prediction=0.0, CustomerID='17313', kpred=0, label=0.0),\n",
       " Row(prediction=2.0, CustomerID='16913', kpred=1, label=2.0),\n",
       " Row(prediction=0.0, CustomerID='14089', kpred=0, label=0.0),\n",
       " Row(prediction=0.0, CustomerID='14539', kpred=0, label=0.0),\n",
       " Row(prediction=0.0, CustomerID='15870', kpred=0, label=0.0),\n",
       " Row(prediction=0.0, CustomerID='16204', kpred=0, label=0.0),\n",
       " Row(prediction=0.0, CustomerID='16680', kpred=0, label=0.0),\n",
       " Row(prediction=0.0, CustomerID='16942', kpred=0, label=0.0),\n",
       " Row(prediction=0.0, CustomerID='17384', kpred=0, label=0.0),\n",
       " Row(prediction=1.0, CustomerID='15625', kpred=2, label=1.0),\n",
       " Row(prediction=0.0, CustomerID='14644', kpred=0, label=0.0),\n",
       " Row(prediction=0.0, CustomerID='15005', kpred=0, label=0.0),\n",
       " Row(prediction=0.0, CustomerID='16837', kpred=0, label=0.0),\n",
       " Row(prediction=0.0, CustomerID='18150', kpred=0, label=0.0),\n",
       " Row(prediction=1.0, CustomerID='12715', kpred=2, label=1.0),\n",
       " Row(prediction=0.0, CustomerID='14349', kpred=0, label=0.0),\n",
       " Row(prediction=0.0, CustomerID='15720', kpred=0, label=0.0),\n",
       " Row(prediction=0.0, CustomerID='17614', kpred=0, label=0.0),\n",
       " Row(prediction=2.0, CustomerID='14669', kpred=1, label=2.0),\n",
       " Row(prediction=2.0, CustomerID='15528', kpred=1, label=2.0),\n",
       " Row(prediction=0.0, CustomerID='13552', kpred=0, label=0.0),\n",
       " Row(prediction=0.0, CustomerID='13994', kpred=0, label=0.0),\n",
       " Row(prediction=0.0, CustomerID='14038', kpred=0, label=0.0),\n",
       " Row(prediction=0.0, CustomerID='14739', kpred=0, label=0.0),\n",
       " Row(prediction=0.0, CustomerID='15253', kpred=0, label=0.0),\n",
       " Row(prediction=0.0, CustomerID='16771', kpred=0, label=0.0),\n",
       " Row(prediction=1.0, CustomerID='12355', kpred=2, label=1.0),\n",
       " Row(prediction=0.0, CustomerID='12372', kpred=0, label=0.0),\n",
       " Row(prediction=0.0, CustomerID='12640', kpred=0, label=0.0),\n",
       " Row(prediction=0.0, CustomerID='13255', kpred=0, label=0.0),\n",
       " Row(prediction=0.0, CustomerID='13681', kpred=0, label=0.0),\n",
       " Row(prediction=0.0, CustomerID='15270', kpred=0, label=0.0),\n",
       " Row(prediction=0.0, CustomerID='16052', kpred=0, label=0.0),\n",
       " Row(prediction=0.0, CustomerID='16365', kpred=0, label=0.0),\n",
       " Row(prediction=0.0, CustomerID='16884', kpred=0, label=0.0),\n",
       " Row(prediction=0.0, CustomerID='17162', kpred=0, label=0.0),\n",
       " Row(prediction=0.0, CustomerID='17727', kpred=0, label=0.0),\n",
       " Row(prediction=1.0, CustomerID='15578', kpred=2, label=1.0),\n",
       " Row(prediction=2.0, CustomerID='14693', kpred=1, label=2.0),\n",
       " Row(prediction=2.0, CustomerID='16193', kpred=1, label=2.0),\n",
       " Row(prediction=1.0, CustomerID='12924', kpred=0, label=0.0),\n",
       " Row(prediction=0.0, CustomerID='13995', kpred=0, label=0.0),\n",
       " Row(prediction=0.0, CustomerID='16516', kpred=0, label=0.0),\n",
       " Row(prediction=0.0, CustomerID='16594', kpred=0, label=0.0),\n",
       " Row(prediction=0.0, CustomerID='17237', kpred=0, label=0.0),\n",
       " Row(prediction=1.0, CustomerID='13955', kpred=2, label=1.0),\n",
       " Row(prediction=2.0, CustomerID='12738', kpred=1, label=2.0),\n",
       " Row(prediction=2.0, CustomerID='15880', kpred=1, label=2.0),\n",
       " Row(prediction=2.0, CustomerID='15945', kpred=1, label=2.0),\n",
       " Row(prediction=0.0, CustomerID='12492', kpred=0, label=0.0),\n",
       " Row(prediction=0.0, CustomerID='12827', kpred=0, label=0.0),\n",
       " Row(prediction=0.0, CustomerID='15593', kpred=0, label=0.0),\n",
       " Row(prediction=1.0, CustomerID='17176', kpred=2, label=1.0),\n",
       " Row(prediction=2.0, CustomerID='17394', kpred=2, label=1.0),\n",
       " Row(prediction=0.0, CustomerID='12430', kpred=0, label=0.0),\n",
       " Row(prediction=0.0, CustomerID='12656', kpred=0, label=0.0),\n",
       " Row(prediction=0.0, CustomerID='13658', kpred=0, label=0.0),\n",
       " Row(prediction=0.0, CustomerID='14383', kpred=0, label=0.0),\n",
       " Row(prediction=0.0, CustomerID='15907', kpred=0, label=0.0),\n",
       " Row(prediction=0.0, CustomerID='16211', kpred=0, label=0.0),\n",
       " Row(prediction=0.0, CustomerID='17255', kpred=0, label=0.0),\n",
       " Row(prediction=0.0, CustomerID='17538', kpred=0, label=0.0),\n",
       " Row(prediction=0.0, CustomerID='17928', kpred=0, label=0.0),\n",
       " Row(prediction=2.0, CustomerID='12666', kpred=1, label=2.0),\n",
       " Row(prediction=0.0, CustomerID='12438', kpred=0, label=0.0),\n",
       " Row(prediction=0.0, CustomerID='13657', kpred=0, label=0.0),\n",
       " Row(prediction=0.0, CustomerID='14235', kpred=0, label=0.0),\n",
       " Row(prediction=0.0, CustomerID='14401', kpred=0, label=0.0),\n",
       " Row(prediction=0.0, CustomerID='16145', kpred=0, label=0.0),\n",
       " Row(prediction=0.0, CustomerID='16796', kpred=0, label=0.0),\n",
       " Row(prediction=0.0, CustomerID='17593', kpred=0, label=0.0),\n",
       " Row(prediction=1.0, CustomerID='18260', kpred=2, label=1.0),\n",
       " Row(prediction=2.0, CustomerID='16754', kpred=1, label=2.0),\n",
       " Row(prediction=0.0, CustomerID='13978', kpred=0, label=0.0),\n",
       " Row(prediction=0.0, CustomerID='14290', kpred=0, label=0.0),\n",
       " Row(prediction=0.0, CustomerID='14583', kpred=0, label=0.0),\n",
       " Row(prediction=0.0, CustomerID='17097', kpred=0, label=0.0),\n",
       " Row(prediction=1.0, CustomerID='14705', kpred=2, label=1.0),\n",
       " Row(prediction=1.0, CustomerID='17536', kpred=2, label=1.0),\n",
       " Row(prediction=0.0, CustomerID='13813', kpred=0, label=0.0),\n",
       " Row(prediction=0.0, CustomerID='17613', kpred=0, label=0.0),\n",
       " Row(prediction=1.0, CustomerID='13085', kpred=2, label=1.0),\n",
       " Row(prediction=1.0, CustomerID='14149', kpred=2, label=1.0),\n",
       " Row(prediction=1.0, CustomerID='14280', kpred=2, label=1.0),\n",
       " Row(prediction=1.0, CustomerID='17472', kpred=2, label=1.0),\n",
       " Row(prediction=0.0, CustomerID='12545', kpred=0, label=0.0),\n",
       " Row(prediction=0.0, CustomerID='14853', kpred=0, label=0.0),\n",
       " Row(prediction=0.0, CustomerID='15533', kpred=0, label=0.0),\n",
       " Row(prediction=0.0, CustomerID='17919', kpred=0, label=0.0),\n",
       " Row(prediction=1.0, CustomerID='13752', kpred=2, label=1.0),\n",
       " Row(prediction=2.0, CustomerID='12834', kpred=1, label=2.0),\n",
       " Row(prediction=0.0, CustomerID='13017', kpred=0, label=0.0),\n",
       " Row(prediction=0.0, CustomerID='14520', kpred=0, label=0.0),\n",
       " Row(prediction=0.0, CustomerID='15826', kpred=0, label=0.0),\n",
       " Row(prediction=2.0, CustomerID='13934', kpred=1, label=2.0),\n",
       " Row(prediction=0.0, CustomerID='13428', kpred=0, label=0.0),\n",
       " Row(prediction=0.0, CustomerID='14219', kpred=0, label=0.0),\n",
       " Row(prediction=0.0, CustomerID='14286', kpred=0, label=0.0),\n",
       " Row(prediction=0.0, CustomerID='14449', kpred=0, label=0.0),\n",
       " Row(prediction=0.0, CustomerID='17572', kpred=0, label=0.0),\n",
       " Row(prediction=2.0, CustomerID='14199', kpred=2, label=1.0),\n",
       " Row(prediction=2.0, CustomerID='17654', kpred=1, label=2.0),\n",
       " Row(prediction=0.0, CustomerID='15489', kpred=0, label=0.0),\n",
       " Row(prediction=1.0, CustomerID='14643', kpred=2, label=1.0),\n",
       " Row(prediction=0.0, CustomerID='15051', kpred=0, label=0.0),\n",
       " Row(prediction=0.0, CustomerID='13127', kpred=0, label=0.0),\n",
       " Row(prediction=0.0, CustomerID='13332', kpred=0, label=0.0),\n",
       " Row(prediction=0.0, CustomerID='15854', kpred=0, label=0.0),\n",
       " Row(prediction=1.0, CustomerID='16723', kpred=0, label=0.0),\n",
       " Row(prediction=0.0, CustomerID='18067', kpred=0, label=0.0),\n",
       " Row(prediction=1.0, CustomerID='13296', kpred=2, label=1.0),\n",
       " Row(prediction=2.0, CustomerID='17443', kpred=2, label=1.0),\n",
       " Row(prediction=2.0, CustomerID='18078', kpred=2, label=1.0),\n",
       " Row(prediction=0.0, CustomerID='13815', kpred=0, label=0.0),\n",
       " Row(prediction=0.0, CustomerID='14108', kpred=0, label=0.0),\n",
       " Row(prediction=0.0, CustomerID='16653', kpred=0, label=0.0),\n",
       " Row(prediction=0.0, CustomerID='17414', kpred=0, label=0.0),\n",
       " Row(prediction=0.0, CustomerID='17611', kpred=0, label=0.0),\n",
       " Row(prediction=1.0, CustomerID='13476', kpred=2, label=1.0),\n",
       " Row(prediction=1.0, CustomerID='15192', kpred=2, label=1.0),\n",
       " Row(prediction=2.0, CustomerID='15178', kpred=1, label=2.0),\n",
       " Row(prediction=0.0, CustomerID='12349', kpred=0, label=0.0),\n",
       " Row(prediction=0.0, CustomerID='13931', kpred=0, label=0.0),\n",
       " Row(prediction=0.0, CustomerID='15513', kpred=0, label=0.0),\n",
       " Row(prediction=0.0, CustomerID='15806', kpred=0, label=0.0),\n",
       " Row(prediction=0.0, CustomerID='17618', kpred=0, label=0.0),\n",
       " Row(prediction=0.0, CustomerID='17735', kpred=0, label=0.0),\n",
       " Row(prediction=1.0, CustomerID='14407', kpred=2, label=1.0),\n",
       " Row(prediction=2.0, CustomerID='14770', kpred=1, label=2.0),\n",
       " Row(prediction=2.0, CustomerID='15204', kpred=1, label=2.0),\n",
       " Row(prediction=2.0, CustomerID='15279', kpred=1, label=2.0),\n",
       " Row(prediction=0.0, CustomerID='12613', kpred=0, label=0.0),\n",
       " Row(prediction=0.0, CustomerID='14341', kpred=0, label=0.0),\n",
       " Row(prediction=1.0, CustomerID='12649', kpred=2, label=1.0),\n",
       " Row(prediction=1.0, CustomerID='15918', kpred=2, label=1.0),\n",
       " Row(prediction=2.0, CustomerID='16377', kpred=1, label=2.0),\n",
       " Row(prediction=0.0, CustomerID='13992', kpred=0, label=0.0),\n",
       " Row(prediction=0.0, CustomerID='14978', kpred=0, label=0.0),\n",
       " Row(prediction=0.0, CustomerID='15321', kpred=0, label=0.0),\n",
       " Row(prediction=0.0, CustomerID='15752', kpred=0, label=0.0),\n",
       " Row(prediction=1.0, CustomerID='12837', kpred=2, label=1.0),\n",
       " Row(prediction=1.0, CustomerID='15643', kpred=2, label=1.0),\n",
       " Row(prediction=0.0, CustomerID='12497', kpred=0, label=0.0),\n",
       " Row(prediction=0.0, CustomerID='12588', kpred=0, label=0.0),\n",
       " Row(prediction=0.0, CustomerID='12904', kpred=0, label=0.0),\n",
       " Row(prediction=0.0, CustomerID='14289', kpred=0, label=0.0),\n",
       " Row(prediction=0.0, CustomerID='15748', kpred=0, label=0.0),\n",
       " Row(prediction=0.0, CustomerID='16556', kpred=0, label=0.0),\n",
       " Row(prediction=1.0, CustomerID='13000', kpred=2, label=1.0),\n",
       " Row(prediction=2.0, CustomerID='15460', kpred=1, label=2.0),\n",
       " Row(prediction=0.0, CustomerID='12462', kpred=0, label=0.0),\n",
       " Row(prediction=0.0, CustomerID='12512', kpred=0, label=0.0),\n",
       " Row(prediction=0.0, CustomerID='16184', kpred=0, label=0.0),\n",
       " Row(prediction=0.0, CustomerID='16743', kpred=0, label=0.0),\n",
       " Row(prediction=1.0, CustomerID='15780', kpred=2, label=1.0),\n",
       " Row(prediction=2.0, CustomerID='14247', kpred=1, label=2.0),\n",
       " Row(prediction=2.0, CustomerID='14549', kpred=1, label=2.0),\n",
       " Row(prediction=0.0, CustomerID='13213', kpred=0, label=0.0),\n",
       " Row(prediction=0.0, CustomerID='13283', kpred=0, label=0.0),\n",
       " Row(prediction=0.0, CustomerID='14784', kpred=0, label=0.0),\n",
       " Row(prediction=0.0, CustomerID='14970', kpred=0, label=0.0),\n",
       " Row(prediction=1.0, CustomerID='14483', kpred=2, label=1.0),\n",
       " Row(prediction=2.0, CustomerID='17643', kpred=1, label=2.0),\n",
       " Row(prediction=0.0, CustomerID='14141', kpred=0, label=0.0),\n",
       " Row(prediction=0.0, CustomerID='14422', kpred=0, label=0.0),\n",
       " Row(prediction=0.0, CustomerID='16637', kpred=0, label=0.0),\n",
       " Row(prediction=0.0, CustomerID='16729', kpred=0, label=0.0),\n",
       " Row(prediction=0.0, CustomerID='16770', kpred=0, label=0.0),\n",
       " Row(prediction=0.0, CustomerID='17730', kpred=0, label=0.0),\n",
       " Row(prediction=1.0, CustomerID='13070', kpred=2, label=1.0),\n",
       " Row(prediction=0.0, CustomerID='12611', kpred=0, label=0.0),\n",
       " Row(prediction=0.0, CustomerID='14315', kpred=0, label=0.0),\n",
       " Row(prediction=0.0, CustomerID='16110', kpred=0, label=0.0),\n",
       " Row(prediction=0.0, CustomerID='16367', kpred=0, label=0.0),\n",
       " Row(prediction=0.0, CustomerID='16793', kpred=0, label=0.0),\n",
       " Row(prediction=1.0, CustomerID='17948', kpred=2, label=1.0),\n",
       " Row(prediction=0.0, CustomerID='12704', kpred=0, label=0.0),\n",
       " Row(prediction=0.0, CustomerID='13238', kpred=0, label=0.0),\n",
       " Row(prediction=0.0, CustomerID='13726', kpred=0, label=0.0),\n",
       " Row(prediction=0.0, CustomerID='14756', kpred=0, label=0.0),\n",
       " Row(prediction=0.0, CustomerID='15240', kpred=0, label=0.0),\n",
       " Row(prediction=0.0, CustomerID='16017', kpred=0, label=0.0),\n",
       " Row(prediction=0.0, CustomerID='18226', kpred=0, label=0.0),\n",
       " Row(prediction=1.0, CustomerID='13656', kpred=2, label=1.0),\n",
       " Row(prediction=1.0, CustomerID='15438', kpred=2, label=1.0),\n",
       " Row(prediction=2.0, CustomerID='13584', kpred=1, label=2.0),\n",
       " Row(prediction=2.0, CustomerID='15230', kpred=1, label=2.0),\n",
       " Row(prediction=2.0, CustomerID='17239', kpred=1, label=2.0),\n",
       " Row(prediction=1.0, CustomerID='13621', kpred=2, label=1.0),\n",
       " Row(prediction=1.0, CustomerID='13678', kpred=2, label=1.0),\n",
       " Row(prediction=0.0, CustomerID='13923', kpred=0, label=0.0),\n",
       " Row(prediction=0.0, CustomerID='15038', kpred=0, label=0.0),\n",
       " Row(prediction=0.0, CustomerID='15967', kpred=0, label=0.0),\n",
       " Row(prediction=0.0, CustomerID='16407', kpred=0, label=0.0),\n",
       " Row(prediction=0.0, CustomerID='17206', kpred=0, label=0.0),\n",
       " Row(prediction=0.0, CustomerID='17385', kpred=0, label=0.0),\n",
       " Row(prediction=0.0, CustomerID='17526', kpred=0, label=0.0),\n",
       " Row(prediction=1.0, CustomerID='18142', kpred=2, label=1.0),\n",
       " Row(prediction=2.0, CustomerID='13299', kpred=1, label=2.0),\n",
       " Row(prediction=2.0, CustomerID='15222', kpred=1, label=2.0),\n",
       " Row(prediction=2.0, CustomerID='17789', kpred=1, label=2.0),\n",
       " Row(prediction=0.0, CustomerID='15113', kpred=0, label=0.0),\n",
       " Row(prediction=0.0, CustomerID='15497', kpred=0, label=0.0),\n",
       " Row(prediction=0.0, CustomerID='16916', kpred=0, label=0.0),\n",
       " Row(prediction=2.0, CustomerID='15135', kpred=1, label=2.0),\n",
       " Row(prediction=2.0, CustomerID='16124', kpred=1, label=2.0),\n",
       " Row(prediction=0.0, CustomerID='12390', kpred=0, label=0.0),\n",
       " Row(prediction=0.0, CustomerID='14725', kpred=0, label=0.0),\n",
       " Row(prediction=1.0, CustomerID='18013', kpred=2, label=1.0),\n",
       " Row(prediction=2.0, CustomerID='15823', kpred=1, label=2.0),\n",
       " Row(prediction=0.0, CustomerID='12697', kpred=0, label=0.0),\n",
       " Row(prediction=0.0, CustomerID='13727', kpred=0, label=0.0),\n",
       " Row(prediction=0.0, CustomerID='13817', kpred=0, label=0.0),\n",
       " Row(prediction=0.0, CustomerID='14560', kpred=0, label=0.0),\n",
       " Row(prediction=0.0, CustomerID='14607', kpred=0, label=0.0),\n",
       " Row(prediction=1.0, CustomerID='14740', kpred=2, label=1.0),\n",
       " Row(prediction=1.0, CustomerID='15400', kpred=2, label=1.0),\n",
       " Row(prediction=2.0, CustomerID='16162', kpred=1, label=2.0),\n",
       " Row(prediction=0.0, CustomerID='16353', kpred=0, label=0.0),\n",
       " Row(prediction=0.0, CustomerID='17069', kpred=0, label=0.0),\n",
       " Row(prediction=1.0, CustomerID='14920', kpred=2, label=1.0),\n",
       " Row(prediction=1.0, CustomerID='15325', kpred=2, label=1.0),\n",
       " Row(prediction=1.0, CustomerID='17408', kpred=2, label=1.0),\n",
       " Row(prediction=0.0, CustomerID='17148', kpred=0, label=0.0),\n",
       " Row(prediction=1.0, CustomerID='13887', kpred=2, label=1.0),\n",
       " Row(prediction=1.0, CustomerID='15118', kpred=2, label=1.0),\n",
       " Row(prediction=1.0, CustomerID='15713', kpred=2, label=1.0),\n",
       " Row(prediction=1.0, CustomerID='16659', kpred=2, label=1.0),\n",
       " Row(prediction=2.0, CustomerID='15225', kpred=1, label=2.0),\n",
       " Row(prediction=0.0, CustomerID='12610', kpred=0, label=0.0),\n",
       " Row(prediction=0.0, CustomerID='13347', kpred=0, label=0.0),\n",
       " Row(prediction=0.0, CustomerID='15677', kpred=0, label=0.0),\n",
       " Row(prediction=0.0, CustomerID='15888', kpred=0, label=0.0),\n",
       " Row(prediction=0.0, CustomerID='16652', kpred=0, label=0.0),\n",
       " Row(prediction=0.0, CustomerID='16906', kpred=0, label=0.0),\n",
       " Row(prediction=1.0, CustomerID='16866', kpred=2, label=1.0),\n",
       " Row(prediction=0.0, CustomerID='12536', kpred=0, label=0.0),\n",
       " Row(prediction=0.0, CustomerID='14047', kpred=0, label=0.0),\n",
       " Row(prediction=0.0, CustomerID='16712', kpred=0, label=0.0),\n",
       " Row(prediction=0.0, CustomerID='16968', kpred=0, label=0.0),\n",
       " Row(prediction=0.0, CustomerID='17418', kpred=0, label=0.0),\n",
       " Row(prediction=1.0, CustomerID='13223', kpred=2, label=1.0),\n",
       " Row(prediction=1.0, CustomerID='18120', kpred=2, label=1.0),\n",
       " Row(prediction=2.0, CustomerID='18227', kpred=2, label=1.0),\n",
       " Row(prediction=2.0, CustomerID='14350', kpred=1, label=2.0),\n",
       " Row(prediction=2.0, CustomerID='16471', kpred=1, label=2.0),\n",
       " Row(prediction=0.0, CustomerID='12910', kpred=0, label=0.0),\n",
       " Row(prediction=0.0, CustomerID='13831', kpred=0, label=0.0),\n",
       " Row(prediction=0.0, CustomerID='13972', kpred=0, label=0.0),\n",
       " Row(prediction=0.0, CustomerID='15550', kpred=0, label=0.0),\n",
       " Row(prediction=0.0, CustomerID='17232', kpred=0, label=0.0),\n",
       " Row(prediction=0.0, CustomerID='17389', kpred=0, label=0.0),\n",
       " Row(prediction=2.0, CustomerID='13874', kpred=1, label=2.0),\n",
       " Row(prediction=2.0, CustomerID='15935', kpred=1, label=2.0),\n",
       " Row(prediction=0.0, CustomerID='12584', kpred=0, label=0.0),\n",
       " Row(prediction=0.0, CustomerID='13159', kpred=0, label=0.0),\n",
       " Row(prediction=0.0, CustomerID='13635', kpred=0, label=0.0),\n",
       " Row(prediction=0.0, CustomerID='15632', kpred=0, label=0.0),\n",
       " Row(prediction=0.0, CustomerID='16923', kpred=0, label=0.0),\n",
       " Row(prediction=0.0, CustomerID='17951', kpred=0, label=0.0),\n",
       " Row(prediction=1.0, CustomerID='14037', kpred=2, label=1.0),\n",
       " Row(prediction=0.0, CustomerID='13012', kpred=0, label=0.0),\n",
       " Row(prediction=0.0, CustomerID='16612', kpred=0, label=0.0),\n",
       " Row(prediction=2.0, CustomerID='15070', kpred=1, label=2.0),\n",
       " Row(prediction=0.0, CustomerID='14305', kpred=0, label=0.0),\n",
       " Row(prediction=0.0, CustomerID='16177', kpred=0, label=0.0),\n",
       " Row(prediction=0.0, CustomerID='16359', kpred=0, label=0.0),\n",
       " Row(prediction=0.0, CustomerID='16880', kpred=0, label=0.0),\n",
       " Row(prediction=0.0, CustomerID='17125', kpred=0, label=0.0),\n",
       " Row(prediction=1.0, CustomerID='15976', kpred=2, label=1.0),\n",
       " Row(prediction=0.0, CustomerID='12856', kpred=0, label=0.0),\n",
       " Row(prediction=0.0, CustomerID='13689', kpred=0, label=0.0),\n",
       " Row(prediction=0.0, CustomerID='14452', kpred=0, label=0.0),\n",
       " Row(prediction=1.0, CustomerID='14352', kpred=2, label=1.0),\n",
       " Row(prediction=1.0, CustomerID='17259', kpred=2, label=1.0),\n",
       " Row(prediction=0.0, CustomerID='13777', kpred=0, label=0.0),\n",
       " Row(prediction=0.0, CustomerID='15762', kpred=0, label=0.0),\n",
       " Row(prediction=0.0, CustomerID='15841', kpred=0, label=0.0),\n",
       " Row(prediction=0.0, CustomerID='16295', kpred=0, label=0.0),\n",
       " Row(prediction=1.0, CustomerID='13900', kpred=2, label=1.0),\n",
       " Row(prediction=0.0, CustomerID='12449', kpred=0, label=0.0),\n",
       " Row(prediction=0.0, CustomerID='13110', kpred=0, label=0.0),\n",
       " Row(prediction=0.0, CustomerID='15031', kpred=0, label=0.0),\n",
       " Row(prediction=0.0, CustomerID='16203', kpred=0, label=0.0),\n",
       " Row(prediction=0.0, CustomerID='13534', kpred=0, label=0.0),\n",
       " Row(prediction=0.0, CustomerID='14462', kpred=0, label=0.0),\n",
       " Row(prediction=0.0, CustomerID='15531', kpred=0, label=0.0),\n",
       " Row(prediction=0.0, CustomerID='16106', kpred=0, label=0.0),\n",
       " Row(prediction=0.0, CustomerID='16523', kpred=0, label=0.0),\n",
       " Row(prediction=1.0, CustomerID='13799', kpred=2, label=1.0),\n",
       " Row(prediction=1.0, CustomerID='14472', kpred=2, label=1.0),\n",
       " Row(prediction=1.0, CustomerID='16902', kpred=2, label=1.0),\n",
       " Row(prediction=0.0, CustomerID='14262', kpred=0, label=0.0),\n",
       " Row(prediction=0.0, CustomerID='15287', kpred=0, label=0.0),\n",
       " Row(prediction=0.0, CustomerID='15557', kpred=0, label=0.0),\n",
       " Row(prediction=0.0, CustomerID='17796', kpred=0, label=0.0),\n",
       " Row(prediction=0.0, CustomerID='17832', kpred=0, label=0.0),\n",
       " Row(prediction=1.0, CustomerID='16696', kpred=2, label=1.0),\n",
       " Row(prediction=0.0, CustomerID='13109', kpred=0, label=0.0),\n",
       " Row(prediction=0.0, CustomerID='14975', kpred=0, label=0.0),\n",
       " Row(prediction=0.0, CustomerID='16101', kpred=0, label=0.0),\n",
       " Row(prediction=0.0, CustomerID='16875', kpred=0, label=0.0),\n",
       " Row(prediction=0.0, CustomerID='18088', kpred=0, label=0.0),\n",
       " Row(prediction=1.0, CustomerID='13533', kpred=2, label=1.0),\n",
       " Row(prediction=2.0, CustomerID='12503', kpred=1, label=2.0),\n",
       " Row(prediction=0.0, CustomerID='13323', kpred=0, label=0.0),\n",
       " Row(prediction=0.0, CustomerID='13971', kpred=0, label=0.0),\n",
       " Row(prediction=1.0, CustomerID='15673', kpred=0, label=0.0),\n",
       " Row(prediction=0.0, CustomerID='15701', kpred=0, label=0.0),\n",
       " Row(prediction=0.0, CustomerID='16345', kpred=0, label=0.0),\n",
       " Row(prediction=0.0, CustomerID='18145', kpred=0, label=0.0),\n",
       " Row(prediction=1.0, CustomerID='12548', kpred=2, label=1.0),\n",
       " Row(prediction=1.0, CustomerID='14344', kpred=2, label=1.0),\n",
       " Row(prediction=1.0, CustomerID='14566', kpred=2, label=1.0),\n",
       " Row(prediction=0.0, CustomerID='13155', kpred=0, label=0.0),\n",
       " Row(prediction=0.0, CustomerID='13824', kpred=0, label=0.0),\n",
       " Row(prediction=0.0, CustomerID='15514', kpred=0, label=0.0),\n",
       " Row(prediction=1.0, CustomerID='14053', kpred=2, label=1.0),\n",
       " Row(prediction=2.0, CustomerID='12561', kpred=1, label=2.0),\n",
       " Row(prediction=2.0, CustomerID='13011', kpred=1, label=2.0),\n",
       " Row(prediction=2.0, CustomerID='14438', kpred=1, label=2.0),\n",
       " Row(prediction=2.0, CustomerID='15395', kpred=1, label=2.0),\n",
       " Row(prediction=0.0, CustomerID='16153', kpred=0, label=0.0),\n",
       " Row(prediction=0.0, CustomerID='17576', kpred=0, label=0.0),\n",
       " Row(prediction=1.0, CustomerID='17455', kpred=2, label=1.0),\n",
       " Row(prediction=1.0, CustomerID='17877', kpred=2, label=1.0),\n",
       " Row(prediction=0.0, CustomerID='13078', kpred=0, label=0.0),\n",
       " Row(prediction=0.0, CustomerID='16136', kpred=0, label=0.0),\n",
       " Row(prediction=1.0, CustomerID='15104', kpred=2, label=1.0),\n",
       " Row(prediction=1.0, CustomerID='16230', kpred=2, label=1.0),\n",
       " Row(prediction=2.0, CustomerID='13570', kpred=1, label=2.0),\n",
       " Row(prediction=0.0, CustomerID='14233', kpred=0, label=0.0),\n",
       " Row(prediction=0.0, CustomerID='17674', kpred=0, label=0.0),\n",
       " Row(prediction=0.0, CustomerID='18228', kpred=0, label=0.0),\n",
       " Row(prediction=1.0, CustomerID='14339', kpred=1, label=2.0),\n",
       " Row(prediction=2.0, CustomerID='14386', kpred=1, label=2.0),\n",
       " Row(prediction=0.0, CustomerID='12391', kpred=0, label=0.0),\n",
       " Row(prediction=0.0, CustomerID='14067', kpred=0, label=0.0),\n",
       " Row(prediction=0.0, CustomerID='14418', kpred=0, label=0.0),\n",
       " Row(prediction=0.0, CustomerID='15722', kpred=0, label=0.0),\n",
       " Row(prediction=0.0, CustomerID='18043', kpred=0, label=0.0),\n",
       " Row(prediction=2.0, CustomerID='16769', kpred=1, label=2.0),\n",
       " Row(prediction=0.0, CustomerID='13536', kpred=0, label=0.0),\n",
       " Row(prediction=0.0, CustomerID='14480', kpred=0, label=0.0),\n",
       " Row(prediction=0.0, CustomerID='15148', kpred=0, label=0.0),\n",
       " Row(prediction=0.0, CustomerID='16525', kpred=0, label=0.0),\n",
       " Row(prediction=0.0, CustomerID='12362', kpred=0, label=0.0),\n",
       " Row(prediction=0.0, CustomerID='12620', kpred=0, label=0.0),\n",
       " Row(prediction=0.0, CustomerID='12721', kpred=0, label=0.0),\n",
       " Row(prediction=0.0, CustomerID='13771', kpred=0, label=0.0),\n",
       " Row(prediction=0.0, CustomerID='15567', kpred=0, label=0.0),\n",
       " Row(prediction=1.0, CustomerID='14491', kpred=2, label=1.0),\n",
       " Row(prediction=1.0, CustomerID='14778', kpred=2, label=1.0),\n",
       " Row(prediction=1.0, CustomerID='17391', kpred=2, label=1.0),\n",
       " Row(prediction=1.0, CustomerID='17935', kpred=2, label=1.0),\n",
       " Row(prediction=2.0, CustomerID='16725', kpred=1, label=2.0),\n",
       " Row(prediction=2.0, CustomerID='17102', kpred=1, label=2.0),\n",
       " Row(prediction=0.0, CustomerID='13430', kpred=0, label=0.0),\n",
       " Row(prediction=0.0, CustomerID='14173', kpred=0, label=0.0),\n",
       " Row(prediction=0.0, CustomerID='14321', kpred=0, label=0.0),\n",
       " Row(prediction=0.0, CustomerID='14446', kpred=0, label=0.0),\n",
       " Row(prediction=0.0, CustomerID='15385', kpred=0, label=0.0),\n",
       " Row(prediction=0.0, CustomerID='15664', kpred=0, label=0.0),\n",
       " Row(prediction=0.0, CustomerID='16370', kpred=0, label=0.0),\n",
       " Row(prediction=0.0, CustomerID='16744', kpred=0, label=0.0),\n",
       " Row(prediction=1.0, CustomerID='16297', kpred=2, label=1.0),\n",
       " Row(prediction=2.0, CustomerID='13284', kpred=1, label=2.0),\n",
       " Row(prediction=2.0, CustomerID='18108', kpred=1, label=2.0),\n",
       " Row(prediction=0.0, CustomerID='12504', kpred=0, label=0.0),\n",
       " Row(prediction=0.0, CustomerID='12586', kpred=0, label=0.0),\n",
       " Row(prediction=0.0, CustomerID='13167', kpred=0, label=0.0),\n",
       " Row(prediction=0.0, CustomerID='13577', kpred=0, label=0.0),\n",
       " Row(prediction=0.0, CustomerID='13980', kpred=0, label=0.0),\n",
       " Row(prediction=0.0, CustomerID='14834', kpred=0, label=0.0),\n",
       " Row(prediction=0.0, CustomerID='16025', kpred=0, label=0.0),\n",
       " Row(prediction=0.0, CustomerID='17719', kpred=0, label=0.0),\n",
       " Row(prediction=0.0, CustomerID='18101', kpred=0, label=0.0),\n",
       " Row(prediction=0.0, CustomerID='13468', kpred=0, label=0.0),\n",
       " Row(prediction=1.0, CustomerID='14307', kpred=0, label=0.0),\n",
       " Row(prediction=0.0, CustomerID='15963', kpred=0, label=0.0),\n",
       " Row(prediction=0.0, CustomerID='18040', kpred=0, label=0.0),\n",
       " Row(prediction=2.0, CustomerID='12514', kpred=1, label=2.0),\n",
       " Row(prediction=0.0, CustomerID='12560', kpred=0, label=0.0),\n",
       " Row(prediction=0.0, CustomerID='12633', kpred=0, label=0.0),\n",
       " Row(prediction=0.0, CustomerID='13523', kpred=0, label=0.0),\n",
       " Row(prediction=0.0, CustomerID='14799', kpred=0, label=0.0),\n",
       " Row(prediction=0.0, CustomerID='14851', kpred=0, label=0.0),\n",
       " Row(prediction=0.0, CustomerID='15186', kpred=0, label=0.0),\n",
       " Row(prediction=0.0, CustomerID='15370', kpred=0, label=0.0),\n",
       " Row(prediction=0.0, CustomerID='17054', kpred=0, label=0.0),\n",
       " Row(prediction=1.0, CustomerID='16431', kpred=2, label=1.0),\n",
       " Row(prediction=1.0, CustomerID='17578', kpred=2, label=1.0),\n",
       " Row(prediction=0.0, CustomerID='15898', kpred=0, label=0.0),\n",
       " Row(prediction=0.0, CustomerID='17811', kpred=0, label=0.0),\n",
       " Row(prediction=0.0, CustomerID='13631', kpred=2, label=1.0),\n",
       " Row(prediction=1.0, CustomerID='15402', kpred=2, label=1.0),\n",
       " Row(prediction=0.0, CustomerID='12714', kpred=0, label=0.0),\n",
       " Row(prediction=0.0, CustomerID='16428', kpred=0, label=0.0),\n",
       " Row(prediction=0.0, CustomerID='17198', kpred=0, label=0.0),\n",
       " Row(prediction=0.0, CustomerID='13606', kpred=0, label=0.0),\n",
       " Row(prediction=0.0, CustomerID='15093', kpred=0, label=0.0),\n",
       " Row(prediction=1.0, CustomerID='13294', kpred=2, label=1.0),\n",
       " Row(prediction=1.0, CustomerID='17820', kpred=2, label=1.0),\n",
       " Row(prediction=2.0, CustomerID='13693', kpred=1, label=2.0),\n",
       " Row(prediction=2.0, CustomerID='17862', kpred=1, label=2.0),\n",
       " Row(prediction=0.0, CustomerID='14147', kpred=0, label=0.0),\n",
       " Row(prediction=2.0, CustomerID='15090', kpred=1, label=2.0),\n",
       " Row(prediction=0.0, CustomerID='12893', kpred=0, label=0.0),\n",
       " Row(prediction=0.0, CustomerID='14954', kpred=0, label=0.0),\n",
       " Row(prediction=1.0, CustomerID='15076', kpred=2, label=1.0),\n",
       " Row(prediction=1.0, CustomerID='15260', kpred=2, label=1.0),\n",
       " Row(prediction=1.0, CustomerID='15292', kpred=2, label=1.0),\n",
       " Row(prediction=1.0, CustomerID='16927', kpred=2, label=1.0),\n",
       " Row(prediction=1.0, CustomerID='18099', kpred=2, label=1.0),\n",
       " Row(prediction=0.0, CustomerID='12546', kpred=0, label=0.0),\n",
       " Row(prediction=0.0, CustomerID='12965', kpred=0, label=0.0),\n",
       " Row(prediction=0.0, CustomerID='13871', kpred=0, label=0.0),\n",
       " Row(prediction=0.0, CustomerID='14561', kpred=0, label=0.0),\n",
       " Row(prediction=0.0, CustomerID='15366', kpred=0, label=0.0),\n",
       " Row(prediction=0.0, CustomerID='15645', kpred=0, label=0.0),\n",
       " Row(prediction=2.0, CustomerID='16517', kpred=1, label=2.0),\n",
       " Row(prediction=2.0, CustomerID='17574', kpred=1, label=2.0),\n",
       " Row(prediction=2.0, CustomerID='17890', kpred=1, label=2.0),\n",
       " Row(prediction=0.0, CustomerID='12885', kpred=0, label=0.0),\n",
       " Row(prediction=0.0, CustomerID='13416', kpred=0, label=0.0),\n",
       " Row(prediction=0.0, CustomerID='15227', kpred=0, label=0.0),\n",
       " Row(prediction=0.0, CustomerID='15469', kpred=0, label=0.0),\n",
       " Row(prediction=0.0, CustomerID='15556', kpred=0, label=0.0),\n",
       " Row(prediction=0.0, CustomerID='15877', kpred=0, label=0.0),\n",
       " Row(prediction=0.0, CustomerID='16571', kpred=0, label=0.0),\n",
       " Row(prediction=0.0, CustomerID='17703', kpred=0, label=0.0),\n",
       " Row(prediction=1.0, CustomerID='12977', kpred=2, label=1.0),\n",
       " Row(prediction=1.0, CustomerID='14016', kpred=2, label=1.0),\n",
       " Row(prediction=0.0, CustomerID='12572', kpred=0, label=0.0),\n",
       " Row(prediction=0.0, CustomerID='12619', kpred=0, label=0.0),\n",
       " Row(prediction=0.0, CustomerID='14442', kpred=0, label=0.0),\n",
       " Row(prediction=0.0, CustomerID='14796', kpred=0, label=0.0),\n",
       " Row(prediction=0.0, CustomerID='17819', kpred=0, label=0.0),\n",
       " Row(prediction=2.0, CustomerID='15032', kpred=1, label=2.0),\n",
       " Row(prediction=2.0, CustomerID='17967', kpred=1, label=2.0),\n",
       " Row(prediction=0.0, CustomerID='12477', kpred=0, label=0.0),\n",
       " Row(prediction=0.0, CustomerID='12513', kpred=0, label=0.0),\n",
       " Row(prediction=0.0, CustomerID='12997', kpred=0, label=0.0),\n",
       " Row(prediction=0.0, CustomerID='13023', kpred=0, label=0.0),\n",
       " Row(prediction=0.0, CustomerID='13168', kpred=0, label=0.0),\n",
       " Row(prediction=0.0, CustomerID='14188', kpred=0, label=0.0),\n",
       " Row(prediction=0.0, CustomerID='14764', kpred=0, label=0.0),\n",
       " Row(prediction=0.0, CustomerID='15432', kpred=0, label=0.0),\n",
       " Row(prediction=0.0, CustomerID='15727', kpred=0, label=0.0),\n",
       " Row(prediction=0.0, CustomerID='17500', kpred=0, label=0.0),\n",
       " Row(prediction=0.0, CustomerID='18082', kpred=0, label=0.0),\n",
       " Row(prediction=0.0, CustomerID='18180', kpred=0, label=0.0),\n",
       " Row(prediction=0.0, CustomerID='13403', kpred=0, label=0.0),\n",
       " Row(prediction=0.0, CustomerID='13437', kpred=0, label=0.0),\n",
       " Row(prediction=0.0, CustomerID='14534', kpred=0, label=0.0),\n",
       " Row(prediction=0.0, CustomerID='15506', kpred=0, label=0.0),\n",
       " Row(prediction=0.0, CustomerID='15785', kpred=0, label=0.0),\n",
       " Row(prediction=0.0, CustomerID='16773', kpred=0, label=0.0),\n",
       " Row(prediction=0.0, CustomerID='17030', kpred=0, label=0.0),\n",
       " Row(prediction=1.0, CustomerID='15120', kpred=2, label=1.0),\n",
       " Row(prediction=1.0, CustomerID='16113', kpred=2, label=1.0),\n",
       " Row(prediction=1.0, CustomerID='17694', kpred=2, label=1.0),\n",
       " Row(prediction=2.0, CustomerID='14576', kpred=1, label=2.0),\n",
       " Row(prediction=2.0, CustomerID='16270', kpred=1, label=2.0),\n",
       " Row(prediction=0.0, CustomerID='13538', kpred=0, label=0.0),\n",
       " Row(prediction=0.0, CustomerID='15124', kpred=0, label=0.0),\n",
       " Row(prediction=0.0, CustomerID='15525', kpred=0, label=0.0),\n",
       " Row(prediction=1.0, CustomerID='17889', kpred=2, label=1.0),\n",
       " Row(prediction=0.0, CustomerID='17201', kpred=0, label=0.0),\n",
       " Row(prediction=0.0, CustomerID='17911', kpred=0, label=0.0),\n",
       " Row(prediction=0.0, CustomerID='18015', kpred=0, label=0.0),\n",
       " Row(prediction=1.0, CustomerID='13037', kpred=2, label=1.0),\n",
       " Row(prediction=2.0, CustomerID='17165', kpred=1, label=2.0),\n",
       " Row(prediction=0.0, CustomerID='15099', kpred=0, label=0.0),\n",
       " Row(prediction=0.0, CustomerID='16444', kpred=0, label=0.0),\n",
       " Row(prediction=2.0, CustomerID='14586', kpred=1, label=2.0),\n",
       " Row(prediction=0.0, CustomerID='13117', kpred=0, label=0.0),\n",
       " Row(prediction=0.0, CustomerID='16813', kpred=0, label=0.0),\n",
       " Row(prediction=0.0, CustomerID='18240', kpred=0, label=0.0),\n",
       " Row(prediction=1.0, CustomerID='15646', kpred=2, label=1.0),\n",
       " Row(prediction=2.0, CustomerID='12988', kpred=1, label=2.0),\n",
       " Row(prediction=0.0, CustomerID='14421', kpred=0, label=0.0),\n",
       " Row(prediction=1.0, CustomerID='17926', kpred=2, label=1.0),\n",
       " Row(prediction=2.0, CustomerID='15869', kpred=1, label=2.0),\n",
       " Row(prediction=0.0, CustomerID='12884', kpred=0, label=0.0),\n",
       " Row(prediction=0.0, CustomerID='13356', kpred=0, label=0.0),\n",
       " Row(prediction=0.0, CustomerID='14125', kpred=0, label=0.0),\n",
       " Row(prediction=0.0, CustomerID='16432', kpred=0, label=0.0),\n",
       " Row(prediction=0.0, CustomerID='16657', kpred=0, label=0.0),\n",
       " Row(prediction=0.0, CustomerID='16904', kpred=0, label=0.0),\n",
       " Row(prediction=0.0, CustomerID='17812', kpred=0, label=0.0),\n",
       " Row(prediction=1.0, CustomerID='13936', kpred=2, label=1.0),\n",
       " Row(prediction=0.0, CustomerID='12451', kpred=0, label=0.0),\n",
       " Row(prediction=0.0, CustomerID='14522', kpred=0, label=0.0),\n",
       " Row(prediction=0.0, CustomerID='17567', kpred=0, label=0.0),\n",
       " Row(prediction=0.0, CustomerID='18109', kpred=0, label=0.0),\n",
       " Row(prediction=1.0, CustomerID='14208', kpred=2, label=1.0),\n",
       " Row(prediction=2.0, CustomerID='13357', kpred=1, label=2.0),\n",
       " Row(prediction=2.0, CustomerID='15775', kpred=1, label=2.0),\n",
       " Row(prediction=2.0, CustomerID='17850', kpred=1, label=2.0),\n",
       " Row(prediction=0.0, CustomerID='12524', kpred=0, label=0.0),\n",
       " Row(prediction=0.0, CustomerID='14711', kpred=0, label=0.0),\n",
       " Row(prediction=0.0, CustomerID='14775', kpred=0, label=0.0),\n",
       " Row(prediction=0.0, CustomerID='17010', kpred=0, label=0.0),\n",
       " Row(prediction=1.0, CustomerID='12790', kpred=2, label=1.0),\n",
       " Row(prediction=2.0, CustomerID='12855', kpred=1, label=2.0),\n",
       " Row(prediction=0.0, CustomerID='12670', kpred=0, label=0.0),\n",
       " Row(prediction=0.0, CustomerID='15335', kpred=0, label=0.0),\n",
       " Row(prediction=0.0, CustomerID='15847', kpred=0, label=0.0),\n",
       " Row(prediction=0.0, CustomerID='16189', kpred=0, label=0.0),\n",
       " Row(prediction=1.0, CustomerID='14117', kpred=2, label=1.0),\n",
       " Row(prediction=0.0, CustomerID='12877', kpred=0, label=0.0),\n",
       " Row(prediction=0.0, CustomerID='13822', kpred=0, label=0.0),\n",
       " Row(prediction=0.0, CustomerID='15810', kpred=0, label=0.0),\n",
       " Row(prediction=1.0, CustomerID='16257', kpred=2, label=1.0),\n",
       " Row(prediction=1.0, CustomerID='16755', kpred=2, label=1.0),\n",
       " Row(prediction=1.0, CustomerID='18190', kpred=2, label=1.0),\n",
       " Row(prediction=2.0, CustomerID='12736', kpred=1, label=2.0),\n",
       " Row(prediction=2.0, CustomerID='15695', kpred=1, label=2.0),\n",
       " Row(prediction=0.0, CustomerID='15699', kpred=0, label=0.0),\n",
       " Row(prediction=0.0, CustomerID='16213', kpred=0, label=0.0),\n",
       " Row(prediction=0.0, CustomerID='17964', kpred=0, label=0.0),\n",
       " Row(prediction=2.0, CustomerID='13185', kpred=1, label=2.0),\n",
       " Row(prediction=0.0, CustomerID='13741', kpred=0, label=0.0),\n",
       " Row(prediction=0.0, CustomerID='14062', kpred=0, label=0.0),\n",
       " Row(prediction=0.0, CustomerID='14585', kpred=0, label=0.0),\n",
       " Row(prediction=0.0, CustomerID='15062', kpred=0, label=0.0),\n",
       " Row(prediction=0.0, CustomerID='15743', kpred=0, label=0.0),\n",
       " Row(prediction=0.0, CustomerID='16372', kpred=0, label=0.0),\n",
       " Row(prediction=0.0, CustomerID='17022', kpred=0, label=0.0),\n",
       " Row(prediction=0.0, CustomerID='17920', kpred=0, label=0.0),\n",
       " Row(prediction=0.0, CustomerID='18149', kpred=0, label=0.0),\n",
       " Row(prediction=1.0, CustomerID='12915', kpred=2, label=1.0),\n",
       " Row(prediction=1.0, CustomerID='13561', kpred=2, label=1.0),\n",
       " Row(prediction=2.0, CustomerID='13370', kpred=1, label=2.0),\n",
       " Row(prediction=2.0, CustomerID='17691', kpred=1, label=2.0),\n",
       " Row(prediction=0.0, CustomerID='14538', kpred=0, label=0.0),\n",
       " Row(prediction=0.0, CustomerID='15860', kpred=0, label=0.0),\n",
       " Row(prediction=0.0, CustomerID='16062', kpred=0, label=0.0),\n",
       " Row(prediction=0.0, CustomerID='16108', kpred=0, label=0.0),\n",
       " Row(prediction=0.0, CustomerID='17166', kpred=0, label=0.0),\n",
       " Row(prediction=0.0, CustomerID='17700', kpred=0, label=0.0),\n",
       " Row(prediction=1.0, CustomerID='13645', kpred=2, label=1.0),\n",
       " Row(prediction=2.0, CustomerID='14536', kpred=1, label=2.0),\n",
       " Row(prediction=2.0, CustomerID='14632', kpred=1, label=2.0),\n",
       " Row(prediction=2.0, CustomerID='14962', kpred=1, label=2.0),\n",
       " Row(prediction=2.0, CustomerID='15174', kpred=1, label=2.0),\n",
       " Row(prediction=0.0, CustomerID='15276', kpred=0, label=0.0),\n",
       " Row(prediction=0.0, CustomerID='16143', kpred=0, label=0.0),\n",
       " Row(prediction=1.0, CustomerID='14905', kpred=2, label=1.0),\n",
       " Row(prediction=1.0, CustomerID='14985', kpred=2, label=1.0),\n",
       " Row(prediction=1.0, CustomerID='17891', kpred=2, label=1.0),\n",
       " Row(prediction=2.0, CustomerID='15308', kpred=1, label=2.0),\n",
       " Row(prediction=0.0, CustomerID='14193', kpred=0, label=0.0),\n",
       " Row(prediction=1.0, CustomerID='12770', kpred=2, label=1.0),\n",
       " Row(prediction=2.0, CustomerID='16565', kpred=1, label=2.0),\n",
       " Row(prediction=0.0, CustomerID='13199', kpred=0, label=0.0),\n",
       " Row(prediction=0.0, CustomerID='13455', kpred=0, label=0.0),\n",
       " Row(prediction=0.0, CustomerID='14292', kpred=0, label=0.0),\n",
       " Row(prediction=0.0, CustomerID='16233', kpred=0, label=0.0),\n",
       " Row(prediction=0.0, CustomerID='16426', kpred=0, label=0.0),\n",
       " Row(prediction=0.0, CustomerID='18006', kpred=0, label=0.0),\n",
       " Row(prediction=1.0, CustomerID='12717', kpred=2, label=1.0),\n",
       " Row(prediction=1.0, CustomerID='14965', kpred=2, label=1.0),\n",
       " Row(prediction=1.0, CustomerID='15095', kpred=2, label=1.0),\n",
       " Row(prediction=2.0, CustomerID='15147', kpred=2, label=1.0),\n",
       " Row(prediction=0.0, CustomerID='14511', kpred=0, label=0.0),\n",
       " Row(prediction=0.0, CustomerID='14569', kpred=0, label=0.0),\n",
       " Row(prediction=0.0, CustomerID='15540', kpred=0, label=0.0),\n",
       " Row(prediction=0.0, CustomerID='15587', kpred=0, label=0.0),\n",
       " Row(prediction=0.0, CustomerID='17354', kpred=0, label=0.0),\n",
       " Row(prediction=0.0, CustomerID='15163', kpred=0, label=0.0),\n",
       " Row(prediction=0.0, CustomerID='15251', kpred=0, label=0.0),\n",
       " Row(prediction=0.0, CustomerID='15570', kpred=0, label=0.0),\n",
       " Row(prediction=0.0, CustomerID='16218', kpred=0, label=0.0),\n",
       " Row(prediction=0.0, CustomerID='17299', kpred=0, label=0.0),\n",
       " Row(prediction=1.0, CustomerID='14682', kpred=2, label=1.0),\n",
       " Row(prediction=0.0, CustomerID='18156', kpred=0, label=0.0),\n",
       " Row(prediction=2.0, CustomerID='12346', kpred=1, label=2.0),\n",
       " Row(prediction=0.0, CustomerID='13203', kpred=0, label=0.0),\n",
       " Row(prediction=0.0, CustomerID='15058', kpred=0, label=0.0),\n",
       " Row(prediction=0.0, CustomerID='17203', kpred=0, label=0.0),\n",
       " Row(prediction=0.0, CustomerID='17813', kpred=0, label=0.0),\n",
       " Row(prediction=0.0, CustomerID='18210', kpred=0, label=0.0),\n",
       " Row(prediction=0.0, CustomerID='12556', kpred=0, label=0.0),\n",
       " Row(prediction=0.0, CustomerID='13940', kpred=0, label=0.0),\n",
       " Row(prediction=0.0, CustomerID='18170', kpred=0, label=0.0),\n",
       " Row(prediction=1.0, CustomerID='12851', kpred=2, label=1.0),\n",
       " Row(prediction=1.0, CustomerID='13005', kpred=2, label=1.0),\n",
       " Row(prediction=1.0, CustomerID='14245', kpred=2, label=1.0),\n",
       " Row(prediction=2.0, CustomerID='14850', kpred=1, label=2.0),\n",
       " Row(prediction=0.0, CustomerID='15116', kpred=0, label=0.0),\n",
       " Row(prediction=0.0, CustomerID='16191', kpred=0, label=0.0),\n",
       " Row(prediction=0.0, CustomerID='16706', kpred=0, label=0.0),\n",
       " Row(prediction=0.0, CustomerID='17625', kpred=0, label=0.0),\n",
       " Row(prediction=2.0, CustomerID='15361', kpred=1, label=2.0),\n",
       " Row(prediction=2.0, CustomerID='16697', kpred=1, label=2.0),\n",
       " Row(prediction=0.0, CustomerID='13555', kpred=0, label=0.0),\n",
       " Row(prediction=0.0, CustomerID='14798', kpred=0, label=0.0),\n",
       " Row(prediction=0.0, CustomerID='15028', kpred=0, label=0.0),\n",
       " Row(prediction=0.0, CustomerID='15937', kpred=0, label=0.0),\n",
       " Row(prediction=0.0, CustomerID='16464', kpred=0, label=0.0),\n",
       " Row(prediction=0.0, CustomerID='17458', kpred=0, label=0.0),\n",
       " Row(prediction=0.0, CustomerID='17680', kpred=0, label=0.0),\n",
       " Row(prediction=2.0, CustomerID='13711', kpred=2, label=1.0),\n",
       " Row(prediction=2.0, CustomerID='14148', kpred=1, label=2.0),\n",
       " Row(prediction=2.0, CustomerID='16765', kpred=1, label=2.0),\n",
       " Row(prediction=2.0, CustomerID='17968', kpred=1, label=2.0),\n",
       " Row(prediction=0.0, CustomerID='12446', kpred=0, label=0.0),\n",
       " Row(prediction=1.0, CustomerID='13330', kpred=2, label=1.0),\n",
       " Row(prediction=1.0, CustomerID='13737', kpred=2, label=1.0),\n",
       " Row(prediction=2.0, CustomerID='12872', kpred=1, label=2.0),\n",
       " Row(prediction=2.0, CustomerID='15891', kpred=1, label=2.0),\n",
       " Row(prediction=0.0, CustomerID='13271', kpred=0, label=0.0),\n",
       " Row(prediction=1.0, CustomerID='17029', kpred=2, label=1.0),\n",
       " Row(prediction=2.0, CustomerID='14727', kpred=1, label=2.0),\n",
       " Row(prediction=2.0, CustomerID='15049', kpred=1, label=2.0),\n",
       " Row(prediction=2.0, CustomerID='17496', kpred=1, label=2.0),\n",
       " Row(prediction=0.0, CustomerID='14898', kpred=0, label=0.0),\n",
       " Row(prediction=0.0, CustomerID='15996', kpred=0, label=0.0),\n",
       " Row(prediction=1.0, CustomerID='16229', kpred=0, label=0.0),\n",
       " Row(prediction=0.0, CustomerID='17243', kpred=0, label=0.0),\n",
       " Row(prediction=0.0, CustomerID='17816', kpred=0, label=0.0),\n",
       " Row(prediction=1.0, CustomerID='18173', kpred=0, label=0.0),\n",
       " Row(prediction=1.0, CustomerID='15372', kpred=2, label=1.0),\n",
       " Row(prediction=1.0, CustomerID='16217', kpred=1, label=2.0),\n",
       " Row(prediction=0.0, CustomerID='13320', kpred=0, label=0.0),\n",
       " Row(prediction=0.0, CustomerID='15952', kpred=0, label=0.0),\n",
       " Row(prediction=0.0, CustomerID='17468', kpred=0, label=0.0),\n",
       " Row(prediction=1.0, CustomerID='12426', kpred=2, label=1.0),\n",
       " Row(prediction=1.0, CustomerID='16967', kpred=2, label=1.0),\n",
       " Row(prediction=0.0, CustomerID='12569', kpred=0, label=0.0),\n",
       " Row(prediction=0.0, CustomerID='14800', kpred=0, label=0.0),\n",
       " Row(prediction=0.0, CustomerID='16497', kpred=0, label=0.0),\n",
       " Row(prediction=0.0, CustomerID='16609', kpred=0, label=0.0),\n",
       " Row(prediction=1.0, CustomerID='15254', kpred=2, label=1.0),\n",
       " Row(prediction=1.0, CustomerID='18218', kpred=2, label=1.0),\n",
       " Row(prediction=0.0, CustomerID='14524', kpred=0, label=0.0),\n",
       " Row(prediction=0.0, CustomerID='15786', kpred=0, label=0.0),\n",
       " Row(prediction=0.0, CustomerID='16350', kpred=0, label=0.0),\n",
       " Row(prediction=1.0, CustomerID='13826', kpred=2, label=1.0),\n",
       " Row(prediction=1.0, CustomerID='16828', kpred=2, label=1.0),\n",
       " Row(prediction=2.0, CustomerID='15447', kpred=1, label=2.0),\n",
       " Row(prediction=0.0, CustomerID='13899', kpred=0, label=0.0),\n",
       " Row(prediction=0.0, CustomerID='14825', kpred=0, label=0.0),\n",
       " Row(prediction=0.0, CustomerID='16024', kpred=0, label=0.0),\n",
       " Row(prediction=0.0, CustomerID='16777', kpred=0, label=0.0),\n",
       " Row(prediction=0.0, CustomerID='17648', kpred=0, label=0.0),\n",
       " Row(prediction=1.0, CustomerID='16456', kpred=2, label=1.0),\n",
       " Row(prediction=2.0, CustomerID='15517', kpred=1, label=2.0),\n",
       " Row(prediction=1.0, CustomerID='15256', kpred=2, label=1.0),\n",
       " Row(prediction=1.0, CustomerID='16801', kpred=2, label=1.0),\n",
       " Row(prediction=2.0, CustomerID='15923', kpred=1, label=2.0),\n",
       " Row(prediction=0.0, CustomerID='12567', kpred=0, label=0.0),\n",
       " Row(prediction=0.0, CustomerID='14675', kpred=0, label=0.0),\n",
       " Row(prediction=0.0, CustomerID='15740', kpred=0, label=0.0),\n",
       " Row(prediction=0.0, CustomerID='16099', kpred=0, label=0.0),\n",
       " Row(prediction=0.0, CustomerID='16333', kpred=0, label=0.0),\n",
       " Row(prediction=1.0, CustomerID='13682', kpred=2, label=1.0),\n",
       " Row(prediction=1.0, CustomerID='15777', kpred=1, label=2.0),\n",
       " Row(prediction=2.0, CustomerID='16812', kpred=1, label=2.0),\n",
       " Row(prediction=0.0, CustomerID='12748', kpred=0, label=0.0),\n",
       " Row(prediction=0.0, CustomerID='13982', kpred=0, label=0.0),\n",
       " Row(prediction=0.0, CustomerID='17950', kpred=0, label=0.0),\n",
       " Row(prediction=1.0, CustomerID='13720', kpred=2, label=1.0),\n",
       " Row(prediction=1.0, CustomerID='15689', kpred=2, label=1.0),\n",
       " Row(prediction=2.0, CustomerID='13715', kpred=1, label=2.0),\n",
       " Row(prediction=2.0, CustomerID='16073', kpred=1, label=2.0),\n",
       " Row(prediction=0.0, CustomerID='12616', kpred=0, label=0.0),\n",
       " Row(prediction=0.0, CustomerID='14447', kpred=0, label=0.0),\n",
       " Row(prediction=0.0, CustomerID='15835', kpred=0, label=0.0),\n",
       " Row(prediction=0.0, CustomerID='15981', kpred=0, label=0.0),\n",
       " Row(prediction=0.0, CustomerID='16418', kpred=0, label=0.0),\n",
       " Row(prediction=0.0, CustomerID='16685', kpred=0, label=0.0),\n",
       " Row(prediction=1.0, CustomerID='14512', kpred=2, label=1.0),\n",
       " Row(prediction=1.0, CustomerID='16919', kpred=2, label=1.0),\n",
       " Row(prediction=0.0, CustomerID='12550', kpred=0, label=0.0),\n",
       " Row(prediction=0.0, CustomerID='12654', kpred=0, label=0.0),\n",
       " Row(prediction=0.0, CustomerID='14239', kpred=0, label=0.0),\n",
       " Row(prediction=0.0, CustomerID='17001', kpred=0, label=0.0),\n",
       " Row(prediction=0.0, CustomerID='17447', kpred=0, label=0.0),\n",
       " Row(prediction=1.0, CustomerID='13663', kpred=2, label=1.0),\n",
       " Row(prediction=1.0, CustomerID='15641', kpred=2, label=1.0),\n",
       " Row(prediction=1.0, CustomerID='17053', kpred=2, label=1.0),\n",
       " Row(prediction=1.0, CustomerID='17874', kpred=2, label=1.0),\n",
       " Row(prediction=1.0, CustomerID='18062', kpred=2, label=1.0),\n",
       " Row(prediction=0.0, CustomerID='18205', kpred=0, label=0.0),\n",
       " Row(prediction=0.0, CustomerID='12393', kpred=0, label=0.0),\n",
       " Row(prediction=0.0, CustomerID='16279', kpred=0, label=0.0),\n",
       " Row(prediction=0.0, CustomerID='17788', kpred=0, label=0.0),\n",
       " Row(prediction=1.0, CustomerID='15130', kpred=2, label=1.0),\n",
       " Row(prediction=0.0, CustomerID='12491', kpred=0, label=0.0),\n",
       " Row(prediction=0.0, CustomerID='13557', kpred=0, label=0.0),\n",
       " Row(prediction=0.0, CustomerID='13569', kpred=0, label=0.0),\n",
       " Row(prediction=0.0, CustomerID='16713', kpred=0, label=0.0),\n",
       " Row(prediction=0.0, CustomerID='17357', kpred=0, label=0.0),\n",
       " Row(prediction=0.0, CustomerID='17720', kpred=0, label=0.0),\n",
       " Row(prediction=0.0, CustomerID='15708', kpred=0, label=0.0),\n",
       " Row(prediction=0.0, CustomerID='17653', kpred=0, label=0.0),\n",
       " Row(prediction=1.0, CustomerID='13722', kpred=2, label=1.0),\n",
       " Row(prediction=0.0, CustomerID='14044', kpred=0, label=0.0),\n",
       " Row(prediction=0.0, CustomerID='15987', kpred=0, label=0.0),\n",
       " Row(prediction=0.0, CustomerID='16601', kpred=0, label=0.0),\n",
       " Row(prediction=0.0, CustomerID='16847', kpred=0, label=0.0),\n",
       " Row(prediction=0.0, CustomerID='16882', kpred=0, label=0.0),\n",
       " Row(prediction=0.0, CustomerID='18075', kpred=0, label=0.0),\n",
       " Row(prediction=2.0, CustomerID='15303', kpred=1, label=2.0),\n",
       " Row(prediction=2.0, CustomerID='16427', kpred=1, label=2.0),\n",
       " Row(prediction=2.0, CustomerID='17486', kpred=1, label=2.0),\n",
       " Row(prediction=0.0, CustomerID='12921', kpred=0, label=0.0),\n",
       " Row(prediction=0.0, CustomerID='14830', kpred=0, label=0.0),\n",
       " Row(prediction=0.0, CustomerID='16814', kpred=0, label=0.0),\n",
       " Row(prediction=1.0, CustomerID='12644', kpred=2, label=1.0),\n",
       " Row(prediction=1.0, CustomerID='16835', kpred=2, label=1.0),\n",
       " Row(prediction=1.0, CustomerID='16883', kpred=2, label=1.0),\n",
       " Row(prediction=2.0, CustomerID='16010', kpred=1, label=2.0),\n",
       " Row(prediction=0.0, CustomerID='13256', kpred=0, label=0.0),\n",
       " Row(prediction=0.0, CustomerID='13390', kpred=0, label=0.0),\n",
       " Row(prediction=0.0, CustomerID='13573', kpred=0, label=0.0),\n",
       " Row(prediction=0.0, CustomerID='14005', kpred=0, label=0.0),\n",
       " Row(prediction=1.0, CustomerID='13420', kpred=2, label=1.0),\n",
       " Row(prediction=2.0, CustomerID='15109', kpred=1, label=2.0),\n",
       " Row(prediction=0.0, CustomerID='12581', kpred=0, label=0.0),\n",
       " Row(prediction=0.0, CustomerID='16102', kpred=0, label=0.0),\n",
       " Row(prediction=0.0, CustomerID='17158', kpred=0, label=0.0),\n",
       " Row(prediction=0.0, CustomerID='17767', kpred=0, label=0.0),\n",
       " Row(prediction=0.0, CustomerID='17942', kpred=0, label=0.0),\n",
       " Row(prediction=1.0, CustomerID='14078', kpred=2, label=1.0),\n",
       " Row(prediction=0.0, CustomerID='16761', kpred=2, label=1.0),\n",
       " Row(prediction=0.0, CustomerID='12587', kpred=0, label=0.0),\n",
       " Row(prediction=0.0, CustomerID='13363', kpred=0, label=0.0),\n",
       " Row(prediction=0.0, CustomerID='13364', kpred=0, label=0.0),\n",
       " Row(prediction=0.0, CustomerID='16260', kpred=0, label=0.0),\n",
       " Row(prediction=0.0, CustomerID='12912', kpred=0, label=0.0),\n",
       " Row(prediction=0.0, CustomerID='13064', kpred=0, label=0.0),\n",
       " Row(prediction=0.0, CustomerID='14901', kpred=0, label=0.0),\n",
       " Row(prediction=0.0, CustomerID='16463', kpred=0, label=0.0),\n",
       " Row(prediction=1.0, CustomerID='16475', kpred=0, label=0.0),\n",
       " Row(prediction=0.0, CustomerID='16871', kpred=0, label=0.0),\n",
       " Row(prediction=0.0, CustomerID='17147', kpred=0, label=0.0),\n",
       " Row(prediction=0.0, CustomerID='17824', kpred=0, label=0.0),\n",
       " Row(prediction=1.0, CustomerID='14692', kpred=2, label=1.0),\n",
       " Row(prediction=2.0, CustomerID='17501', kpred=2, label=1.0),\n",
       " Row(prediction=2.0, CustomerID='12377', kpred=1, label=2.0),\n",
       " Row(prediction=2.0, CustomerID='13829', kpred=1, label=2.0),\n",
       " Row(prediction=0.0, CustomerID='13868', kpred=0, label=0.0),\n",
       " Row(prediction=0.0, CustomerID='15311', kpred=0, label=0.0),\n",
       " Row(prediction=0.0, CustomerID='16029', kpred=0, label=0.0),\n",
       " Row(prediction=0.0, CustomerID='16123', kpred=0, label=0.0),\n",
       " Row(prediction=0.0, CustomerID='17647', kpred=0, label=0.0),\n",
       " Row(prediction=1.0, CustomerID='13003', kpred=2, label=1.0),\n",
       " Row(prediction=1.0, CustomerID='14195', kpred=2, label=1.0),\n",
       " Row(prediction=1.0, CustomerID='15069', kpred=2, label=1.0),\n",
       " Row(prediction=2.0, CustomerID='12943', kpred=1, label=2.0),\n",
       " Row(prediction=0.0, CustomerID='17785', kpred=0, label=0.0),\n",
       " Row(prediction=0.0, CustomerID='13486', kpred=0, label=0.0),\n",
       " Row(prediction=0.0, CustomerID='13560', kpred=0, label=0.0),\n",
       " Row(prediction=0.0, CustomerID='14474', kpred=0, label=0.0),\n",
       " Row(prediction=0.0, CustomerID='16013', kpred=0, label=0.0),\n",
       " Row(prediction=0.0, CustomerID='17579', kpred=0, label=0.0),\n",
       " Row(prediction=2.0, CustomerID='12686', kpred=1, label=2.0),\n",
       " Row(prediction=0.0, CustomerID='17581', kpred=0, label=0.0),\n",
       " Row(prediction=0.0, CustomerID='17590', kpred=0, label=0.0),\n",
       " Row(prediction=1.0, CustomerID='15261', kpred=2, label=1.0),\n",
       " Row(prediction=0.0, CustomerID='12987', kpred=0, label=0.0),\n",
       " Row(prediction=0.0, CustomerID='13953', kpred=0, label=0.0),\n",
       " Row(prediction=0.0, CustomerID='14258', kpred=0, label=0.0),\n",
       " Row(prediction=0.0, CustomerID='15659', kpred=0, label=0.0),\n",
       " Row(prediction=0.0, CustomerID='15939', kpred=0, label=0.0),\n",
       " Row(prediction=1.0, CustomerID='17597', kpred=2, label=1.0),\n",
       " Row(prediction=2.0, CustomerID='12365', kpred=1, label=2.0),\n",
       " Row(prediction=2.0, CustomerID='13753', kpred=1, label=2.0),\n",
       " Row(prediction=2.0, CustomerID='14497', kpred=1, label=2.0),\n",
       " Row(prediction=0.0, CustomerID='13207', kpred=0, label=0.0),\n",
       " Row(prediction=0.0, CustomerID='13311', kpred=0, label=0.0),\n",
       " Row(prediction=0.0, CustomerID='13732', kpred=0, label=0.0),\n",
       " Row(prediction=0.0, CustomerID='14719', kpred=0, label=0.0),\n",
       " Row(prediction=0.0, CustomerID='17205', kpred=0, label=0.0),\n",
       " Row(prediction=0.0, CustomerID='17624', kpred=0, label=0.0),\n",
       " Row(prediction=0.0, CustomerID='18016', kpred=0, label=0.0),\n",
       " Row(prediction=0.0, CustomerID='18198', kpred=0, label=0.0),\n",
       " Row(prediction=1.0, CustomerID='16344', kpred=2, label=1.0),\n",
       " Row(prediction=2.0, CustomerID='13226', kpred=1, label=2.0),\n",
       " Row(prediction=2.0, CustomerID='16623', kpred=1, label=2.0),\n",
       " Row(prediction=0.0, CustomerID='12844', kpred=0, label=0.0),\n",
       " Row(prediction=0.0, CustomerID='13314', kpred=0, label=0.0),\n",
       " Row(prediction=0.0, CustomerID='13389', kpred=0, label=0.0),\n",
       " Row(prediction=0.0, CustomerID='16265', kpred=0, label=0.0),\n",
       " Row(prediction=0.0, CustomerID='17954', kpred=0, label=0.0),\n",
       " Row(prediction=0.0, CustomerID='18118', kpred=0, label=0.0),\n",
       " Row(prediction=1.0, CustomerID='16551', kpred=2, label=1.0),\n",
       " Row(prediction=0.0, CustomerID='12664', kpred=0, label=0.0),\n",
       " Row(prediction=0.0, CustomerID='15358', kpred=0, label=0.0),\n",
       " Row(prediction=1.0, CustomerID='14885', kpred=2, label=1.0),\n",
       " Row(prediction=1.0, CustomerID='15386', kpred=2, label=1.0),\n",
       " Row(prediction=1.0, CustomerID='18018', kpred=2, label=1.0),\n",
       " Row(prediction=0.0, CustomerID='14871', kpred=0, label=0.0),\n",
       " Row(prediction=0.0, CustomerID='15215', kpred=0, label=0.0),\n",
       " Row(prediction=0.0, CustomerID='15243', kpred=0, label=0.0),\n",
       " Row(prediction=0.0, CustomerID='16011', kpred=0, label=0.0),\n",
       " Row(prediction=0.0, CustomerID='16833', kpred=0, label=0.0),\n",
       " Row(prediction=0.0, CustomerID='17848', kpred=0, label=0.0),\n",
       " Row(prediction=1.0, CustomerID='12383', kpred=2, label=1.0),\n",
       " Row(prediction=0.0, CustomerID='13886', kpred=0, label=0.0),\n",
       " Row(prediction=0.0, CustomerID='14054', kpred=0, label=0.0),\n",
       " Row(prediction=0.0, CustomerID='14878', kpred=0, label=0.0),\n",
       " Row(prediction=0.0, CustomerID='15498', kpred=0, label=0.0),\n",
       " Row(prediction=0.0, CustomerID='17705', kpred=0, label=0.0),\n",
       " Row(prediction=1.0, CustomerID='14620', kpred=2, label=1.0),\n",
       " Row(prediction=0.0, CustomerID='13846', kpred=0, label=0.0),\n",
       " Row(prediction=0.0, CustomerID='14121', kpred=0, label=0.0),\n",
       " Row(prediction=0.0, CustomerID='15205', kpred=0, label=0.0),\n",
       " Row(prediction=0.0, CustomerID='15988', kpred=0, label=0.0),\n",
       " Row(prediction=0.0, CustomerID='17388', kpred=0, label=0.0),\n",
       " Row(prediction=1.0, CustomerID='15795', kpred=2, label=1.0),\n",
       " Row(prediction=2.0, CustomerID='16718', kpred=1, label=2.0),\n",
       " Row(prediction=0.0, CustomerID='12435', kpred=0, label=0.0),\n",
       " Row(prediction=0.0, CustomerID='13263', kpred=0, label=0.0),\n",
       " Row(prediction=0.0, CustomerID='14083', kpred=0, label=0.0),\n",
       " Row(prediction=0.0, CustomerID='14501', kpred=0, label=0.0),\n",
       " Row(prediction=0.0, CustomerID='14533', kpred=0, label=0.0),\n",
       " Row(prediction=0.0, CustomerID='17589', kpred=0, label=0.0),\n",
       " Row(prediction=2.0, CustomerID='13649', kpred=1, label=2.0),\n",
       " Row(prediction=0.0, CustomerID='12519', kpred=0, label=0.0),\n",
       " Row(prediction=0.0, CustomerID='12678', kpred=0, label=0.0),\n",
       " Row(prediction=0.0, CustomerID='14158', kpred=0, label=0.0),\n",
       " Row(prediction=0.0, CustomerID='15164', kpred=0, label=0.0),\n",
       " Row(prediction=0.0, CustomerID='15419', kpred=0, label=0.0),\n",
       " Row(prediction=0.0, CustomerID='15678', kpred=0, label=0.0),\n",
       " Row(prediction=0.0, CustomerID='15681', kpred=0, label=0.0),\n",
       " Row(prediction=0.0, CustomerID='17974', kpred=0, label=0.0),\n",
       " Row(prediction=2.0, CustomerID='13731', kpred=2, label=1.0),\n",
       " Row(prediction=1.0, CustomerID='13744', kpred=2, label=1.0),\n",
       " Row(prediction=2.0, CustomerID='13166', kpred=1, label=2.0),\n",
       " Row(prediction=0.0, CustomerID='12352', kpred=0, label=0.0),\n",
       " Row(prediction=0.0, CustomerID='14494', kpred=0, label=0.0),\n",
       " ...]"
      ]
     },
     "execution_count": 105,
     "metadata": {},
     "output_type": "execute_result"
    }
   ],
   "source": [
    "predictions.select(\"prediction\", \"CustomerID\",\"kpred\", \"label\").distinct().collect()"
   ]
  },
  {
   "cell_type": "code",
   "execution_count": 106,
   "metadata": {},
   "outputs": [
    {
     "name": "stdout",
     "output_type": "stream",
     "text": [
      "+-----+----------+----------------+-------------+\n",
      "|label|prediction|   rawPrediction|  probability|\n",
      "+-----+----------+----------------+-------------+\n",
      "|  0.0|       0.0|[2018.0,0.0,0.0]|[1.0,0.0,0.0]|\n",
      "|  0.0|       0.0|[2018.0,0.0,0.0]|[1.0,0.0,0.0]|\n",
      "|  0.0|       0.0|[2018.0,0.0,0.0]|[1.0,0.0,0.0]|\n",
      "|  0.0|       0.0|[2018.0,0.0,0.0]|[1.0,0.0,0.0]|\n",
      "|  0.0|       0.0|[2018.0,0.0,0.0]|[1.0,0.0,0.0]|\n",
      "|  1.0|       1.0| [0.0,480.0,0.0]|[0.0,1.0,0.0]|\n",
      "|  0.0|       0.0|[2018.0,0.0,0.0]|[1.0,0.0,0.0]|\n",
      "|  0.0|       0.0|[2018.0,0.0,0.0]|[1.0,0.0,0.0]|\n",
      "|  0.0|       0.0|[2018.0,0.0,0.0]|[1.0,0.0,0.0]|\n",
      "|  2.0|       2.0| [0.0,0.0,383.0]|[0.0,0.0,1.0]|\n",
      "+-----+----------+----------------+-------------+\n",
      "only showing top 10 rows\n",
      "\n"
     ]
    }
   ],
   "source": [
    "predictions.select('label',  'prediction','rawPrediction' , 'probability').show(10)"
   ]
  },
  {
   "cell_type": "code",
   "execution_count": 107,
   "metadata": {},
   "outputs": [
    {
     "name": "stdout",
     "output_type": "stream",
     "text": [
      "+-----+----------+-----+\n",
      "|label|prediction|count|\n",
      "+-----+----------+-----+\n",
      "|  1.0|       1.0|  237|\n",
      "|  0.0|       1.0|   13|\n",
      "|  2.0|       2.0|  178|\n",
      "|  1.0|       0.0|    2|\n",
      "|  2.0|       1.0|    4|\n",
      "|  1.0|       2.0|   12|\n",
      "|  0.0|       0.0|  862|\n",
      "+-----+----------+-----+\n",
      "\n"
     ]
    }
   ],
   "source": [
    "grouped = predictions.groupBy(\"label\", \"prediction\").count().show()"
   ]
  },
  {
   "cell_type": "code",
   "execution_count": 108,
   "metadata": {},
   "outputs": [
    {
     "name": "stdout",
     "output_type": "stream",
     "text": [
      "+----------+----------+\n",
      "|CustomerID|prediction|\n",
      "+----------+----------+\n",
      "|     12394|       0.0|\n",
      "|     14887|       0.0|\n",
      "|     15555|       0.0|\n",
      "|     15634|       0.0|\n",
      "|     17686|       0.0|\n",
      "|     12637|       0.0|\n",
      "|     14974|       0.0|\n",
      "|     16639|       0.0|\n",
      "|     16303|       0.0|\n",
      "|     17901|       0.0|\n",
      "|     18276|       0.0|\n",
      "|     13805|       0.0|\n",
      "|     14649|       0.0|\n",
      "|     15277|       0.0|\n",
      "|     15433|       0.0|\n",
      "|     17584|       0.0|\n",
      "|     13429|       0.0|\n",
      "|     13700|       0.0|\n",
      "|     15553|       0.0|\n",
      "|     16133|       0.0|\n",
      "+----------+----------+\n",
      "only showing top 20 rows\n",
      "\n"
     ]
    }
   ],
   "source": [
    "customerd_0 =predictions.filter(predictions['prediction']==0).select(['CustomerID','prediction']).show()"
   ]
  },
  {
   "cell_type": "code",
   "execution_count": 109,
   "metadata": {},
   "outputs": [
    {
     "name": "stdout",
     "output_type": "stream",
     "text": [
      "+----------+----------+\n",
      "|CustomerID|prediction|\n",
      "+----------+----------+\n",
      "|     15574|       1.0|\n",
      "|     12750|       1.0|\n",
      "|     13395|       1.0|\n",
      "|     15041|       1.0|\n",
      "|     16340|       1.0|\n",
      "|     17375|       1.0|\n",
      "|     12643|       1.0|\n",
      "|     15412|       1.0|\n",
      "|     16503|       1.0|\n",
      "|     15895|       1.0|\n",
      "|     17900|       1.0|\n",
      "|     13937|       1.0|\n",
      "|     13952|       1.0|\n",
      "|     15802|       1.0|\n",
      "|     18248|       1.0|\n",
      "|     12756|       1.0|\n",
      "|     13821|       1.0|\n",
      "|     14722|       1.0|\n",
      "|     15071|       1.0|\n",
      "|     13833|       1.0|\n",
      "+----------+----------+\n",
      "only showing top 20 rows\n",
      "\n"
     ]
    }
   ],
   "source": [
    "customerd_1 =predictions.filter(predictions['prediction']==1).select(['CustomerID','prediction']).show()"
   ]
  },
  {
   "cell_type": "code",
   "execution_count": 110,
   "metadata": {},
   "outputs": [
    {
     "name": "stdout",
     "output_type": "stream",
     "text": [
      "+----------+----------+\n",
      "|CustomerID|prediction|\n",
      "+----------+----------+\n",
      "|     13187|       2.0|\n",
      "|     17551|       2.0|\n",
      "|     12811|       2.0|\n",
      "|     14340|       2.0|\n",
      "|     18106|       2.0|\n",
      "|     12386|       2.0|\n",
      "|     15107|       2.0|\n",
      "|     17507|       2.0|\n",
      "|     13512|       2.0|\n",
      "|     14114|       2.0|\n",
      "|     17946|       2.0|\n",
      "|     13065|       2.0|\n",
      "|     17303|       2.0|\n",
      "|     16097|       2.0|\n",
      "|     14090|       2.0|\n",
      "|     15047|       2.0|\n",
      "|     15388|       2.0|\n",
      "|     15353|       2.0|\n",
      "|     14476|       2.0|\n",
      "|     17535|       2.0|\n",
      "+----------+----------+\n",
      "only showing top 20 rows\n",
      "\n"
     ]
    }
   ],
   "source": [
    "customerd_2 =predictions.filter(predictions['prediction']==2).select(['CustomerID','prediction']).show()"
   ]
  },
  {
   "cell_type": "code",
   "execution_count": 111,
   "metadata": {},
   "outputs": [
    {
     "name": "stdout",
     "output_type": "stream",
     "text": [
      "DecisionTreeClassificationModel: uid=DecisionTreeClassifier_d63b55ae8edd, depth=20, numNodes=111, numClasses=3, numFeatures=4374\n",
      "  If (feature 4371 <= 85.5)\n",
      "   Predict: 0.0\n",
      "  Else (feature 4371 > 85.5)\n",
      "   If (feature 4371 <= 216.0)\n",
      "    If (feature 4371 <= 99.5)\n",
      "     If (feature 4372 <= 6.5)\n",
      "      If (feature 4372 <= 3.5)\n",
      "       If (feature 4373 <= 1265.46)\n",
      "        If (feature 4372 <= 1.5)\n",
      "         If (feature 4373 <= 220.77499999999998)\n",
      "          If (feature 1141 in {0.0})\n",
      "           If (feature 3411 in {0.0})\n",
      "            If (feature 4349 in {0.0})\n",
      "             Predict: 1.0\n",
      "            Else (feature 4349 not in {0.0})\n",
      "             Predict: 0.0\n",
      "           Else (feature 3411 not in {0.0})\n",
      "            Predict: 0.0\n",
      "          Else (feature 1141 not in {0.0})\n",
      "           Predict: 0.0\n",
      "         Else (feature 4373 > 220.77499999999998)\n",
      "          If (feature 4373 <= 297.03499999999997)\n",
      "           Predict: 0.0\n",
      "          Else (feature 4373 > 297.03499999999997)\n",
      "           If (feature 4373 <= 541.04)\n",
      "            If (feature 4373 <= 389.64)\n",
      "             If (feature 538 in {0.0})\n",
      "              If (feature 658 in {0.0})\n",
      "               If (feature 1355 in {0.0})\n",
      "                If (feature 2997 in {0.0})\n",
      "                 Predict: 0.0\n",
      "                Else (feature 2997 not in {0.0})\n",
      "                 Predict: 1.0\n",
      "               Else (feature 1355 not in {0.0})\n",
      "                Predict: 1.0\n",
      "              Else (feature 658 not in {0.0})\n",
      "               Predict: 1.0\n",
      "             Else (feature 538 not in {0.0})\n",
      "              Predict: 1.0\n",
      "            Else (feature 4373 > 389.64)\n",
      "             Predict: 1.0\n",
      "           Else (feature 4373 > 541.04)\n",
      "            Predict: 0.0\n",
      "        Else (feature 4372 > 1.5)\n",
      "         If (feature 153 in {0.0})\n",
      "          If (feature 1594 in {0.0})\n",
      "           If (feature 1689 in {0.0})\n",
      "            If (feature 1714 in {0.0})\n",
      "             If (feature 2434 in {0.0})\n",
      "              If (feature 2727 in {0.0})\n",
      "               If (feature 2927 in {0.0})\n",
      "                If (feature 3460 in {0.0})\n",
      "                 Predict: 1.0\n",
      "                Else (feature 3460 not in {0.0})\n",
      "                 Predict: 0.0\n",
      "               Else (feature 2927 not in {0.0})\n",
      "                Predict: 0.0\n",
      "              Else (feature 2727 not in {0.0})\n",
      "               Predict: 0.0\n",
      "             Else (feature 2434 not in {0.0})\n",
      "              Predict: 0.0\n",
      "            Else (feature 1714 not in {0.0})\n",
      "             Predict: 0.0\n",
      "           Else (feature 1689 not in {0.0})\n",
      "            Predict: 0.0\n",
      "          Else (feature 1594 not in {0.0})\n",
      "           Predict: 0.0\n",
      "         Else (feature 153 not in {0.0})\n",
      "          Predict: 0.0\n",
      "       Else (feature 4373 > 1265.46)\n",
      "        If (feature 1121 in {0.0})\n",
      "         Predict: 0.0\n",
      "        Else (feature 1121 not in {0.0})\n",
      "         Predict: 1.0\n",
      "      Else (feature 4372 > 3.5)\n",
      "       If (feature 950 in {0.0})\n",
      "        If (feature 1431 in {0.0})\n",
      "         Predict: 1.0\n",
      "        Else (feature 1431 not in {0.0})\n",
      "         Predict: 0.0\n",
      "       Else (feature 950 not in {0.0})\n",
      "        Predict: 0.0\n",
      "     Else (feature 4372 > 6.5)\n",
      "      If (feature 2324 in {0.0})\n",
      "       Predict: 0.0\n",
      "      Else (feature 2324 not in {0.0})\n",
      "       Predict: 1.0\n",
      "    Else (feature 4371 > 99.5)\n",
      "     Predict: 1.0\n",
      "   Else (feature 4371 > 216.0)\n",
      "    If (feature 4371 <= 244.0)\n",
      "     If (feature 4372 <= 3.5)\n",
      "      If (feature 4373 <= 324.925)\n",
      "       If (feature 1028 in {0.0})\n",
      "        If (feature 4373 <= 74.09)\n",
      "         If (feature 128 in {0.0})\n",
      "          If (feature 592 in {0.0})\n",
      "           Predict: 1.0\n",
      "          Else (feature 592 not in {0.0})\n",
      "           Predict: 2.0\n",
      "         Else (feature 128 not in {0.0})\n",
      "          Predict: 2.0\n",
      "        Else (feature 4373 > 74.09)\n",
      "         If (feature 1451 in {0.0})\n",
      "          If (feature 1535 in {0.0})\n",
      "           If (feature 1740 in {0.0})\n",
      "            If (feature 2372 in {0.0})\n",
      "             If (feature 2461 in {0.0})\n",
      "              If (feature 2531 in {0.0})\n",
      "               If (feature 2741 in {0.0})\n",
      "                If (feature 2874 in {0.0})\n",
      "                 If (feature 3042 in {0.0})\n",
      "                  If (feature 3167 in {0.0})\n",
      "                   If (feature 3433 in {0.0})\n",
      "                    If (feature 3871 in {0.0})\n",
      "                     If (feature 4321 in {0.0})\n",
      "                      Predict: 2.0\n",
      "                     Else (feature 4321 not in {0.0})\n",
      "                      Predict: 1.0\n",
      "                    Else (feature 3871 not in {0.0})\n",
      "                     Predict: 1.0\n",
      "                   Else (feature 3433 not in {0.0})\n",
      "                    Predict: 1.0\n",
      "                  Else (feature 3167 not in {0.0})\n",
      "                   Predict: 1.0\n",
      "                 Else (feature 3042 not in {0.0})\n",
      "                  Predict: 1.0\n",
      "                Else (feature 2874 not in {0.0})\n",
      "                 Predict: 1.0\n",
      "               Else (feature 2741 not in {0.0})\n",
      "                Predict: 1.0\n",
      "              Else (feature 2531 not in {0.0})\n",
      "               Predict: 1.0\n",
      "             Else (feature 2461 not in {0.0})\n",
      "              Predict: 1.0\n",
      "            Else (feature 2372 not in {0.0})\n",
      "             Predict: 1.0\n",
      "           Else (feature 1740 not in {0.0})\n",
      "            Predict: 1.0\n",
      "          Else (feature 1535 not in {0.0})\n",
      "           Predict: 1.0\n",
      "         Else (feature 1451 not in {0.0})\n",
      "          Predict: 1.0\n",
      "       Else (feature 1028 not in {0.0})\n",
      "        Predict: 1.0\n",
      "      Else (feature 4373 > 324.925)\n",
      "       If (feature 54 in {0.0})\n",
      "        If (feature 2934 in {0.0})\n",
      "         If (feature 3699 in {0.0})\n",
      "          Predict: 2.0\n",
      "         Else (feature 3699 not in {0.0})\n",
      "          Predict: 1.0\n",
      "        Else (feature 2934 not in {0.0})\n",
      "         Predict: 1.0\n",
      "       Else (feature 54 not in {0.0})\n",
      "        Predict: 1.0\n",
      "     Else (feature 4372 > 3.5)\n",
      "      If (feature 4373 <= 1621.975)\n",
      "       Predict: 1.0\n",
      "      Else (feature 4373 > 1621.975)\n",
      "       If (feature 2134 in {0.0})\n",
      "        Predict: 2.0\n",
      "       Else (feature 2134 not in {0.0})\n",
      "        Predict: 1.0\n",
      "    Else (feature 4371 > 244.0)\n",
      "     Predict: 2.0\n",
      "\n"
     ]
    }
   ],
   "source": [
    "print(dtModel.toDebugString)"
   ]
  },
  {
   "cell_type": "code",
   "execution_count": 112,
   "metadata": {},
   "outputs": [
    {
     "data": {
      "text/plain": [
       "SparseVector(4374, {54: 0.0011, 128: 0.0006, 153: 0.0007, 538: 0.0005, 592: 0.001, 658: 0.0006, 950: 0.0011, 1028: 0.0006, 1121: 0.0011, 1141: 0.0008, 1355: 0.0008, 1431: 0.0012, 1451: 0.0007, 1535: 0.0008, 1594: 0.0008, 1689: 0.0008, 1714: 0.0009, 1740: 0.0008, 2134: 0.001, 2324: 0.0011, 2372: 0.0008, 2434: 0.001, 2461: 0.0009, 2531: 0.0009, 2727: 0.0011, 2741: 0.0009, 2874: 0.001, 2927: 0.0011, 2934: 0.0012, 2997: 0.0011, 3042: 0.001, 3167: 0.0011, 3411: 0.0009, 3433: 0.0012, 3460: 0.0013, 3699: 0.0013, 3871: 0.0012, 4321: 0.0013, 4349: 0.0012, 4371: 0.9477, 4372: 0.0061, 4373: 0.009})"
      ]
     },
     "execution_count": 112,
     "metadata": {},
     "output_type": "execute_result"
    }
   ],
   "source": [
    "#show features based on importance\n",
    "dtModel.featureImportances"
   ]
  },
  {
   "cell_type": "code",
   "execution_count": 113,
   "metadata": {},
   "outputs": [],
   "source": [
    "#Evaluate our Decision Tree model.\n",
    "from pyspark.ml.evaluation import MulticlassClassificationEvaluator"
   ]
  },
  {
   "cell_type": "code",
   "execution_count": 114,
   "metadata": {},
   "outputs": [],
   "source": [
    "#show accuracy of decision Tree model\n",
    "evaluator = MulticlassClassificationEvaluator()\n",
    "\n",
    "accuracy=evaluator.evaluate(predictions)"
   ]
  },
  {
   "cell_type": "code",
   "execution_count": 115,
   "metadata": {},
   "outputs": [
    {
     "data": {
      "text/plain": [
       "0.9764653525692616"
      ]
     },
     "execution_count": 115,
     "metadata": {},
     "output_type": "execute_result"
    }
   ],
   "source": [
    "accuracy"
   ]
  },
  {
   "cell_type": "code",
   "execution_count": 116,
   "metadata": {},
   "outputs": [
    {
     "name": "stdout",
     "output_type": "stream",
     "text": [
      "F1-Score  0.9764653525692616\n",
      "Precision  0.9768200210982467\n",
      "Recall  0.9762996941896024\n",
      "Accuracy  0.9762996941896025\n"
     ]
    }
   ],
   "source": [
    "print('F1-Score ', evaluator.evaluate(predictions, \n",
    "                                      {evaluator.metricName: 'f1'}))\n",
    "print('Precision ', evaluator.evaluate(predictions,\n",
    "                                       {evaluator.metricName: 'weightedPrecision'}))\n",
    "print('Recall ', evaluator.evaluate(predictions, \n",
    "                                    {evaluator.metricName: 'weightedRecall'}))\n",
    "print('Accuracy ', evaluator.evaluate(predictions, \n",
    "                                      {evaluator.metricName: 'accuracy'}))"
   ]
  },
  {
   "cell_type": "code",
   "execution_count": 117,
   "metadata": {},
   "outputs": [],
   "source": [
    "import numpy as np\n",
    "import itertools\n",
    "\n",
    "def plot_confusion_matrix(cm, classes,\n",
    "                          normalize=False,\n",
    "                          title='Confusion matrix',\n",
    "                          cmap=plt.cm.GnBu):\n",
    "\n",
    "    plt.imshow(cm, interpolation='nearest', cmap=cmap)\n",
    "    plt.title(title)\n",
    "    tick_marks = np.arange(len(classes))\n",
    "    plt.xticks(tick_marks, classes, rotation=45)\n",
    "    plt.yticks(tick_marks, classes)\n",
    "\n",
    "    fmt = '.2f' if normalize else 'd'\n",
    "    thresh = cm.max() / 2.\n",
    "    for i, j in itertools.product(range(cm.shape[0]), range(cm.shape[1])):\n",
    "        plt.text(j, i, format(cm[i, j], fmt),\n",
    "                 horizontalalignment=\"center\",\n",
    "                 color=\"white\" if cm[i, j] > thresh else \"black\")\n",
    "\n",
    "    plt.tight_layout()\n",
    "    plt.ylabel('True label')\n",
    "    plt.xlabel('Predicted label')"
   ]
  },
  {
   "cell_type": "code",
   "execution_count": 118,
   "metadata": {},
   "outputs": [],
   "source": [
    "#Convert Spark-DataFrame to Pnadas-DataFrame\n",
    "#Call Confusion Matrix With 'True' and 'Predicted' Label\n",
    "\n",
    "from sklearn.metrics import confusion_matrix\n",
    "y_true = predictions.select(\"label\")\n",
    "y_true = y_true.toPandas() # convert to pandas dataframe from spark dataframe\n",
    "\n",
    "y_pred = predictions.select(\"prediction\")\n",
    "y_pred = y_pred.toPandas() # convert to pandas dataframe from spark dataframe\n",
    "\n",
    "cnf_matrix = confusion_matrix(y_true, y_pred,labels=range(3))"
   ]
  },
  {
   "cell_type": "code",
   "execution_count": 119,
   "metadata": {},
   "outputs": [
    {
     "data": {
      "image/png": "[encoded data removed]",
      "text/plain": [
       "<Figure size 288x288 with 1 Axes>"
      ]
     },
     "metadata": {},
     "output_type": "display_data"
    }
   ],
   "source": [
    "#Visualize the 'Confusion Matrix' \n",
    "\n",
    "import seaborn as sns\n",
    "%matplotlib inline\n",
    "\n",
    "sns.set_style(\"darkgrid\")\n",
    "plt.figure(figsize=(4,4))\n",
    "plt.grid(False)\n",
    "\n",
    "# call pre defined function\n",
    "plot_confusion_matrix(cnf_matrix, classes=range(3))"
   ]
  },
  {
   "cell_type": "code",
   "execution_count": 120,
   "metadata": {},
   "outputs": [
    {
     "name": "stdout",
     "output_type": "stream",
     "text": [
      "              precision    recall  f1-score   support\n",
      "\n",
      "     Class 0       1.00      0.99      0.99       875\n",
      "     Class 1       0.93      0.94      0.94       251\n",
      "     Class 2       0.94      0.98      0.96       182\n",
      "\n",
      "    accuracy                           0.98      1308\n",
      "   macro avg       0.96      0.97      0.96      1308\n",
      "weighted avg       0.98      0.98      0.98      1308\n",
      "\n"
     ]
    }
   ],
   "source": [
    "#Classification Report of each class group\n",
    "\n",
    "from sklearn.metrics import classification_report\n",
    "\n",
    "target_names = [\"Class {}\".format(i) for i in range(3)]\n",
    "print(classification_report(y_true, y_pred, target_names = target_names))"
   ]
  },
  {
   "cell_type": "code",
   "execution_count": 121,
   "metadata": {},
   "outputs": [
    {
     "data": {
      "text/plain": [
       "[Row(label=0.0, features=SparseVector(4374, {38: 1.0, 4371: 63.0, 4372: 2.0, 4373: 1272.48}), CustomerID='12394', Recency=63, Frequency=2, Monetary=1272.48, kpred=0, rawPrediction=DenseVector([2018.0, 0.0, 0.0]), probability=DenseVector([1.0, 0.0, 0.0]), prediction=0.0),\n",
       " Row(label=0.0, features=SparseVector(4374, {1876: 1.0, 4371: 79.0, 4372: 1.0, 4373: 1862.0}), CustomerID='14887', Recency=79, Frequency=1, Monetary=1862.0, kpred=0, rawPrediction=DenseVector([2018.0, 0.0, 0.0]), probability=DenseVector([1.0, 0.0, 0.0]), prediction=0.0)]"
      ]
     },
     "execution_count": 121,
     "metadata": {},
     "output_type": "execute_result"
    }
   ],
   "source": [
    "predictions.rdd.take(2)"
   ]
  },
  {
   "cell_type": "code",
   "execution_count": 122,
   "metadata": {},
   "outputs": [
    {
     "data": {
      "text/plain": [
       "[(0.0,\n",
       "  SparseVector(4374, {38: 1.0, 4371: 63.0, 4372: 2.0, 4373: 1272.48}),\n",
       "  '12394',\n",
       "  63,\n",
       "  2,\n",
       "  1272.48,\n",
       "  0,\n",
       "  DenseVector([2018.0, 0.0, 0.0]),\n",
       "  DenseVector([1.0, 0.0, 0.0]),\n",
       "  0.0),\n",
       " (0.0,\n",
       "  SparseVector(4374, {1876: 1.0, 4371: 79.0, 4372: 1.0, 4373: 1862.0}),\n",
       "  '14887',\n",
       "  79,\n",
       "  1,\n",
       "  1862.0,\n",
       "  0,\n",
       "  DenseVector([2018.0, 0.0, 0.0]),\n",
       "  DenseVector([1.0, 0.0, 0.0]),\n",
       "  0.0)]"
      ]
     },
     "execution_count": 122,
     "metadata": {},
     "output_type": "execute_result"
    }
   ],
   "source": [
    "#confusion metrix\n",
    "predictions.rdd.map(tuple).take(2)"
   ]
  },
  {
   "cell_type": "code",
   "execution_count": 123,
   "metadata": {},
   "outputs": [],
   "source": [
    "from pyspark.mllib.evaluation import MulticlassMetrics"
   ]
  },
  {
   "cell_type": "code",
   "execution_count": 124,
   "metadata": {},
   "outputs": [],
   "source": [
    "labelandprediction = predictions.select(\"prediction\", \"label\")"
   ]
  },
  {
   "cell_type": "code",
   "execution_count": 125,
   "metadata": {},
   "outputs": [],
   "source": [
    "metrics = MulticlassMetrics(labelandprediction.rdd.map(tuple))"
   ]
  },
  {
   "cell_type": "code",
   "execution_count": 126,
   "metadata": {},
   "outputs": [
    {
     "name": "stdout",
     "output_type": "stream",
     "text": [
      "Precision = 0.9976851851851852\n",
      "Recall = 0.9851428571428571\n"
     ]
    }
   ],
   "source": [
    "precision = metrics.precision(0)\n",
    "recall = metrics.recall(0)\n",
    "print(\"Precision = %s\" % precision)\n",
    "print(\"Recall = %s\" % recall)\n"
   ]
  },
  {
   "cell_type": "code",
   "execution_count": 127,
   "metadata": {
    "scrolled": true
   },
   "outputs": [
    {
     "data": {
      "text/plain": [
       "array([[862.,   2.,   0.],\n",
       "       [ 13., 237.,   4.],\n",
       "       [  0.,  12., 178.]])"
      ]
     },
     "execution_count": 127,
     "metadata": {},
     "output_type": "execute_result"
    }
   ],
   "source": [
    "metrics.confusionMatrix().toArray().transpose()"
   ]
  },
  {
   "cell_type": "code",
   "execution_count": 128,
   "metadata": {},
   "outputs": [],
   "source": [
    "#RandomForest\n",
    "from pyspark.ml.classification import RandomForestClassifier\n",
    "\n",
    "rf = RandomForestClassifier(featuresCol = 'features', labelCol = 'label')"
   ]
  },
  {
   "cell_type": "code",
   "execution_count": 129,
   "metadata": {},
   "outputs": [],
   "source": [
    "rfModel = rf.fit(train_data)\n",
    "\n",
    "predictions = rfModel.transform(test_data)"
   ]
  },
  {
   "cell_type": "code",
   "execution_count": 130,
   "metadata": {},
   "outputs": [
    {
     "name": "stdout",
     "output_type": "stream",
     "text": [
      "+----------+-----+--------------------+----------+--------------------+\n",
      "|CustomerID|label|            features|prediction|         probability|\n",
      "+----------+-----+--------------------+----------+--------------------+\n",
      "|     12394|  0.0|(4374,[38,4371,43...|       0.0|[0.73075120868186...|\n",
      "|     14887|  0.0|(4374,[1876,4371,...|       0.0|[0.73075120868186...|\n",
      "|     15555|  0.0|(4374,[2375,4371,...|       0.0|[0.74925675444215...|\n",
      "|     15634|  0.0|(4374,[2433,4371,...|       0.0|[0.69424531824831...|\n",
      "|     17686|  0.0|(4374,[3934,4371,...|       0.0|[0.74925675444215...|\n",
      "|     15574|  1.0|(4374,[2389,4371,...|       0.0|[0.60491165567412...|\n",
      "|     12637|  0.0|(4374,[238,4371,4...|       0.0|[0.74925675444215...|\n",
      "|     14974|  0.0|(4374,[1938,4371,...|       0.0|[0.69424531824831...|\n",
      "|     16639|  0.0|(4374,[3170,4371,...|       0.0|[0.74925675444215...|\n",
      "|     13187|  2.0|(4374,[644,4371,4...|       0.0|[0.54990021948028...|\n",
      "+----------+-----+--------------------+----------+--------------------+\n",
      "only showing top 10 rows\n",
      "\n"
     ]
    }
   ],
   "source": [
    "predictions.select('CustomerID','label', 'features', 'prediction', 'probability').show(10)"
   ]
  },
  {
   "cell_type": "code",
   "execution_count": 131,
   "metadata": {},
   "outputs": [
    {
     "name": "stdout",
     "output_type": "stream",
     "text": [
      "+----------+-----+----------+\n",
      "|CustomerID|label|prediction|\n",
      "+----------+-----+----------+\n",
      "|     12394|  0.0|       0.0|\n",
      "|     14887|  0.0|       0.0|\n",
      "|     15555|  0.0|       0.0|\n",
      "|     15634|  0.0|       0.0|\n",
      "|     17686|  0.0|       0.0|\n",
      "|     15574|  1.0|       0.0|\n",
      "|     12637|  0.0|       0.0|\n",
      "|     14974|  0.0|       0.0|\n",
      "|     16639|  0.0|       0.0|\n",
      "|     13187|  2.0|       0.0|\n",
      "+----------+-----+----------+\n",
      "only showing top 10 rows\n",
      "\n"
     ]
    }
   ],
   "source": [
    "predictions.select('CustomerID','label','prediction').show(10)"
   ]
  },
  {
   "cell_type": "code",
   "execution_count": 132,
   "metadata": {},
   "outputs": [],
   "source": [
    "from pyspark.ml.evaluation import MulticlassClassificationEvaluator"
   ]
  },
  {
   "cell_type": "code",
   "execution_count": 133,
   "metadata": {},
   "outputs": [],
   "source": [
    "evaluator = MulticlassClassificationEvaluator()"
   ]
  },
  {
   "cell_type": "code",
   "execution_count": 134,
   "metadata": {},
   "outputs": [
    {
     "data": {
      "text/plain": [
       "0.5362713825627836"
      ]
     },
     "execution_count": 134,
     "metadata": {},
     "output_type": "execute_result"
    }
   ],
   "source": [
    "#show accuracy of randomforest model\n",
    "accuracy=evaluator.evaluate(predictions)\n",
    "\n",
    "accuracy"
   ]
  },
  {
   "cell_type": "code",
   "execution_count": 135,
   "metadata": {},
   "outputs": [
    {
     "name": "stdout",
     "output_type": "stream",
     "text": [
      "+-----+----------+-----+\n",
      "|label|prediction|count|\n",
      "+-----+----------+-----+\n",
      "|  2.0|       0.0|  182|\n",
      "|  1.0|       0.0|  251|\n",
      "|  0.0|       0.0|  875|\n",
      "+-----+----------+-----+\n",
      "\n"
     ]
    }
   ],
   "source": [
    "predictions.groupBy(\"label\", \"prediction\").count().show()"
   ]
  },
  {
   "cell_type": "code",
   "execution_count": 136,
   "metadata": {},
   "outputs": [
    {
     "name": "stdout",
     "output_type": "stream",
     "text": [
      "+----------+----------+\n",
      "|CustomerID|prediction|\n",
      "+----------+----------+\n",
      "|     12394|       0.0|\n",
      "|     14887|       0.0|\n",
      "|     15555|       0.0|\n",
      "|     15634|       0.0|\n",
      "|     17686|       0.0|\n",
      "|     15574|       0.0|\n",
      "|     12637|       0.0|\n",
      "|     14974|       0.0|\n",
      "|     16639|       0.0|\n",
      "|     13187|       0.0|\n",
      "|     17551|       0.0|\n",
      "|     16303|       0.0|\n",
      "|     17901|       0.0|\n",
      "|     18276|       0.0|\n",
      "|     12750|       0.0|\n",
      "|     13395|       0.0|\n",
      "|     15041|       0.0|\n",
      "|     16340|       0.0|\n",
      "|     12811|       0.0|\n",
      "|     13805|       0.0|\n",
      "+----------+----------+\n",
      "only showing top 20 rows\n",
      "\n"
     ]
    }
   ],
   "source": [
    "customerr_0 =predictions.filter(predictions['prediction']==0).select(['CustomerID','prediction']).show()"
   ]
  },
  {
   "cell_type": "code",
   "execution_count": 137,
   "metadata": {},
   "outputs": [
    {
     "name": "stdout",
     "output_type": "stream",
     "text": [
      "+----------+----------+\n",
      "|CustomerID|prediction|\n",
      "+----------+----------+\n",
      "+----------+----------+\n",
      "\n"
     ]
    }
   ],
   "source": [
    "customerr_1 =predictions.filter(predictions['prediction']==1).select(['CustomerID','prediction']).show()"
   ]
  },
  {
   "cell_type": "code",
   "execution_count": 138,
   "metadata": {},
   "outputs": [
    {
     "name": "stdout",
     "output_type": "stream",
     "text": [
      "+----------+----------+\n",
      "|CustomerID|prediction|\n",
      "+----------+----------+\n",
      "+----------+----------+\n",
      "\n"
     ]
    }
   ],
   "source": [
    "customerr_2 =predictions.filter(predictions['prediction']==2).select(['CustomerID','prediction']).show()"
   ]
  },
  {
   "cell_type": "code",
   "execution_count": 139,
   "metadata": {},
   "outputs": [
    {
     "name": "stdout",
     "output_type": "stream",
     "text": [
      "F1-Score  0.5362713825627836\n",
      "Precision  0.4475078089199376\n",
      "Recall  0.668960244648318\n",
      "Accuracy  0.668960244648318\n"
     ]
    }
   ],
   "source": [
    "print('F1-Score ', evaluator.evaluate(predictions, \n",
    "                                      {evaluator.metricName: 'f1'}))\n",
    "print('Precision ', evaluator.evaluate(predictions,\n",
    "                                       {evaluator.metricName: 'weightedPrecision'}))\n",
    "print('Recall ', evaluator.evaluate(predictions, \n",
    "                                    {evaluator.metricName: 'weightedRecall'}))\n",
    "print('Accuracy ', evaluator.evaluate(predictions, \n",
    "                                      {evaluator.metricName: 'accuracy'}))"
   ]
  },
  {
   "cell_type": "code",
   "execution_count": 140,
   "metadata": {},
   "outputs": [],
   "source": [
    "import numpy as np\n",
    "import itertools\n",
    "\n",
    "def plot_confusion_matrix(cm, classes,\n",
    "                          normalize=False,\n",
    "                          title='Confusion matrix',\n",
    "                          cmap=plt.cm.GnBu):\n",
    "\n",
    "    plt.imshow(cm, interpolation='nearest', cmap=cmap)\n",
    "    plt.title(title)\n",
    "    tick_marks = np.arange(len(classes))\n",
    "    plt.xticks(tick_marks, classes, rotation=45)\n",
    "    plt.yticks(tick_marks, classes)\n",
    "\n",
    "    fmt = '.2f' if normalize else 'd'\n",
    "    thresh = cm.max() / 2.\n",
    "    for i, j in itertools.product(range(cm.shape[0]), range(cm.shape[1])):\n",
    "        plt.text(j, i, format(cm[i, j], fmt),\n",
    "                 horizontalalignment=\"center\",\n",
    "                 color=\"white\" if cm[i, j] > thresh else \"black\")\n",
    "\n",
    "    plt.tight_layout()\n",
    "    plt.ylabel('True label')\n",
    "    plt.xlabel('Predicted label')"
   ]
  },
  {
   "cell_type": "code",
   "execution_count": 141,
   "metadata": {},
   "outputs": [],
   "source": [
    "from sklearn.metrics import confusion_matrix\n",
    "y_true = predictions.select(\"label\")\n",
    "y_true = y_true.toPandas() # convert to pandas dataframe from spark dataframe\n",
    "\n",
    "y_pred = predictions.select(\"prediction\")\n",
    "y_pred = y_pred.toPandas() # convert to pandas dataframe from spark dataframe\n",
    "\n",
    "cnf_matrix = confusion_matrix(y_true, y_pred,labels=range(3))"
   ]
  },
  {
   "cell_type": "code",
   "execution_count": 142,
   "metadata": {},
   "outputs": [
    {
     "data": {
      "image/png": "[encoded data removed]",
      "text/plain": [
       "<Figure size 288x288 with 1 Axes>"
      ]
     },
     "metadata": {},
     "output_type": "display_data"
    }
   ],
   "source": [
    "#Visualize the 'Confusion Matrix' \n",
    "\n",
    "import seaborn as sns\n",
    "%matplotlib inline\n",
    "\n",
    "sns.set_style(\"darkgrid\")\n",
    "plt.figure(figsize=(4,4))\n",
    "plt.grid(False)\n",
    "\n",
    "# call pre defined function\n",
    "plot_confusion_matrix(cnf_matrix, classes=range(3))"
   ]
  },
  {
   "cell_type": "code",
   "execution_count": 143,
   "metadata": {},
   "outputs": [
    {
     "name": "stdout",
     "output_type": "stream",
     "text": [
      "              precision    recall  f1-score   support\n",
      "\n",
      "     Class 0       0.67      1.00      0.80       875\n",
      "     Class 1       0.00      0.00      0.00       251\n",
      "     Class 2       0.00      0.00      0.00       182\n",
      "\n",
      "    accuracy                           0.67      1308\n",
      "   macro avg       0.22      0.33      0.27      1308\n",
      "weighted avg       0.45      0.67      0.54      1308\n",
      "\n"
     ]
    },
    {
     "name": "stderr",
     "output_type": "stream",
     "text": [
      "/home/bigdata/anaconda3/lib/python3.7/site-packages/sklearn/metrics/classification.py:1437: UndefinedMetricWarning: Precision and F-score are ill-defined and being set to 0.0 in labels with no predicted samples.\n",
      "  'precision', 'predicted', average, warn_for)\n"
     ]
    }
   ],
   "source": [
    "#Classification Report of each class group\n",
    "\n",
    "from sklearn.metrics import classification_report\n",
    "\n",
    "target_names = [\"Class {}\".format(i) for i in range(3)]\n",
    "print(classification_report(y_true, y_pred, target_names = target_names))"
   ]
  },
  {
   "cell_type": "code",
   "execution_count": 144,
   "metadata": {},
   "outputs": [
    {
     "data": {
      "text/plain": [
       "[Row(label=0.0, features=SparseVector(4374, {38: 1.0, 4371: 63.0, 4372: 2.0, 4373: 1272.48}), CustomerID='12394', Recency=63, Frequency=2, Monetary=1272.48, kpred=0, rawPrediction=DenseVector([14.615, 3.0308, 2.3542]), probability=DenseVector([0.7308, 0.1515, 0.1177]), prediction=0.0),\n",
       " Row(label=0.0, features=SparseVector(4374, {1876: 1.0, 4371: 79.0, 4372: 1.0, 4373: 1862.0}), CustomerID='14887', Recency=79, Frequency=1, Monetary=1862.0, kpred=0, rawPrediction=DenseVector([14.615, 3.0308, 2.3542]), probability=DenseVector([0.7308, 0.1515, 0.1177]), prediction=0.0)]"
      ]
     },
     "execution_count": 144,
     "metadata": {},
     "output_type": "execute_result"
    }
   ],
   "source": [
    "#confusion metrix\n",
    "predictions.rdd.take(2)"
   ]
  },
  {
   "cell_type": "code",
   "execution_count": 145,
   "metadata": {},
   "outputs": [
    {
     "data": {
      "text/plain": [
       "[(0.0,\n",
       "  SparseVector(4374, {38: 1.0, 4371: 63.0, 4372: 2.0, 4373: 1272.48}),\n",
       "  '12394',\n",
       "  63,\n",
       "  2,\n",
       "  1272.48,\n",
       "  0,\n",
       "  DenseVector([14.615, 3.0308, 2.3542]),\n",
       "  DenseVector([0.7308, 0.1515, 0.1177]),\n",
       "  0.0),\n",
       " (0.0,\n",
       "  SparseVector(4374, {1876: 1.0, 4371: 79.0, 4372: 1.0, 4373: 1862.0}),\n",
       "  '14887',\n",
       "  79,\n",
       "  1,\n",
       "  1862.0,\n",
       "  0,\n",
       "  DenseVector([14.615, 3.0308, 2.3542]),\n",
       "  DenseVector([0.7308, 0.1515, 0.1177]),\n",
       "  0.0)]"
      ]
     },
     "execution_count": 145,
     "metadata": {},
     "output_type": "execute_result"
    }
   ],
   "source": [
    "#confusion metrix\n",
    "predictions.rdd.map(tuple).take(2)"
   ]
  },
  {
   "cell_type": "code",
   "execution_count": 146,
   "metadata": {},
   "outputs": [],
   "source": [
    "metrics = MulticlassMetrics(predictions.rdd.map(tuple))"
   ]
  },
  {
   "cell_type": "code",
   "execution_count": 147,
   "metadata": {},
   "outputs": [],
   "source": [
    "labelandprediction = predictions.select(\"prediction\", \"label\")\n",
    "metrics = MulticlassMetrics(labelandprediction.rdd.map(tuple))"
   ]
  },
  {
   "cell_type": "code",
   "execution_count": 148,
   "metadata": {},
   "outputs": [
    {
     "name": "stdout",
     "output_type": "stream",
     "text": [
      "Precision = 0.668960244648318\n",
      "Recall = 1.0\n"
     ]
    }
   ],
   "source": [
    "precision = metrics.precision(0)\n",
    "recall = metrics.recall(0)\n",
    "print(\"Precision = %s\" % precision)\n",
    "print(\"Recall = %s\" % recall)"
   ]
  },
  {
   "cell_type": "code",
   "execution_count": 149,
   "metadata": {},
   "outputs": [
    {
     "data": {
      "text/plain": [
       "array([[875., 251., 182.],\n",
       "       [  0.,   0.,   0.],\n",
       "       [  0.,   0.,   0.]])"
      ]
     },
     "execution_count": 149,
     "metadata": {},
     "output_type": "execute_result"
    }
   ],
   "source": [
    "metrics.confusionMatrix().toArray().transpose()"
   ]
  },
  {
   "cell_type": "code",
   "execution_count": 150,
   "metadata": {},
   "outputs": [
    {
     "data": {
      "text/plain": [
       "SparseVector(4374, {162: 0.0001, 182: 0.0034, 240: 0.0125, 253: 0.013, 321: 0.0126, 322: 0.0053, 339: 0.0089, 372: 0.0085, 374: 0.0073, 388: 0.0011, 399: 0.0097, 418: 0.0001, 451: 0.0103, 469: 0.0037, 508: 0.0006, 525: 0.0146, 565: 0.0016, 594: 0.0009, 601: 0.0083, 696: 0.011, 754: 0.0058, 789: 0.0136, 860: 0.001, 1013: 0.0137, 1015: 0.009, 1021: 0.009, 1068: 0.0217, 1091: 0.0014, 1124: 0.0091, 1191: 0.0084, 1262: 0.0106, 1334: 0.0001, 1378: 0.0096, 1394: 0.0001, 1399: 0.0119, 1413: 0.0136, 1511: 0.0099, 1578: 0.0046, 1590: 0.0077, 1663: 0.0104, 1879: 0.0097, 1929: 0.0063, 1946: 0.0001, 1992: 0.0063, 2062: 0.0083, 2080: 0.0065, 2132: 0.0091, 2144: 0.0002, 2204: 0.0126, 2264: 0.0063, 2317: 0.0008, 2399: 0.0005, 2416: 0.0002, 2461: 0.0116, 2570: 0.0009, 2599: 0.0106, 2620: 0.0095, 2724: 0.0174, 2727: 0.0001, 2741: 0.0005, 2752: 0.0073, 2755: 0.0105, 2763: 0.0121, 2808: 0.0174, 2815: 0.0125, 2836: 0.0066, 2873: 0.0013, 2947: 0.0117, 3108: 0.0008, 3167: 0.0118, 3187: 0.0008, 3230: 0.018, 3235: 0.0116, 3267: 0.0001, 3316: 0.0126, 3362: 0.0097, 3385: 0.0127, 3471: 0.0015, 3476: 0.0005, 3584: 0.0105, 3598: 0.001, 3611: 0.0007, 3672: 0.0121, 3690: 0.006, 3718: 0.0132, 3746: 0.0001, 3761: 0.0106, 3845: 0.0003, 3897: 0.0085, 4143: 0.0001, 4160: 0.0115, 4164: 0.0115, 4270: 0.0105, 4321: 0.0137, 4325: 0.0077, 4338: 0.0099, 4355: 0.0091, 4371: 0.1485, 4372: 0.0444, 4373: 0.0883})"
      ]
     },
     "execution_count": 150,
     "metadata": {},
     "output_type": "execute_result"
    }
   ],
   "source": [
    "#show importantfeatures in random forest\n",
    "\n",
    "rfModel.featureImportances"
   ]
  },
  {
   "cell_type": "code",
   "execution_count": 151,
   "metadata": {},
   "outputs": [],
   "source": [
    "from pyspark.ml.classification import LogisticRegression"
   ]
  },
  {
   "cell_type": "code",
   "execution_count": 152,
   "metadata": {},
   "outputs": [],
   "source": [
    "log_reg = LogisticRegression(featuresCol = 'features', labelCol = 'label')"
   ]
  },
  {
   "cell_type": "code",
   "execution_count": 153,
   "metadata": {},
   "outputs": [],
   "source": [
    "dtModel_lr = log_reg.fit(train_data)"
   ]
  },
  {
   "cell_type": "code",
   "execution_count": 154,
   "metadata": {},
   "outputs": [],
   "source": [
    "result =dtModel_lr.transform(test_data)"
   ]
  },
  {
   "cell_type": "code",
   "execution_count": 155,
   "metadata": {},
   "outputs": [
    {
     "name": "stdout",
     "output_type": "stream",
     "text": [
      "+----------+-----+----------+\n",
      "|CustomerID|label|prediction|\n",
      "+----------+-----+----------+\n",
      "|     12394|  0.0|       0.0|\n",
      "|     14887|  0.0|       0.0|\n",
      "|     15555|  0.0|       0.0|\n",
      "|     15634|  0.0|       0.0|\n",
      "|     17686|  0.0|       0.0|\n",
      "|     15574|  1.0|       0.0|\n",
      "|     12637|  0.0|       0.0|\n",
      "|     14974|  0.0|       0.0|\n",
      "|     16639|  0.0|       0.0|\n",
      "|     13187|  2.0|       2.0|\n",
      "|     17551|  2.0|       2.0|\n",
      "|     16303|  0.0|       0.0|\n",
      "|     17901|  0.0|       0.0|\n",
      "|     18276|  0.0|       0.0|\n",
      "|     12750|  1.0|       0.0|\n",
      "|     13395|  1.0|       0.0|\n",
      "|     15041|  1.0|       0.0|\n",
      "|     16340|  1.0|       0.0|\n",
      "|     12811|  2.0|       0.0|\n",
      "|     13805|  0.0|       0.0|\n",
      "+----------+-----+----------+\n",
      "only showing top 20 rows\n",
      "\n"
     ]
    }
   ],
   "source": [
    "result.select(\"CustomerID\", \"label\", \"prediction\").show()"
   ]
  },
  {
   "cell_type": "code",
   "execution_count": 156,
   "metadata": {},
   "outputs": [],
   "source": [
    "from pyspark.ml.evaluation import MulticlassClassificationEvaluator"
   ]
  },
  {
   "cell_type": "code",
   "execution_count": 157,
   "metadata": {},
   "outputs": [],
   "source": [
    "evaluator = MulticlassClassificationEvaluator(predictionCol='prediction', labelCol = 'label', metricName= \"accuracy\")"
   ]
  },
  {
   "cell_type": "code",
   "execution_count": 158,
   "metadata": {},
   "outputs": [
    {
     "data": {
      "text/plain": [
       "'accuracy'"
      ]
     },
     "execution_count": 158,
     "metadata": {},
     "output_type": "execute_result"
    }
   ],
   "source": [
    "evaluator.getMetricName()"
   ]
  },
  {
   "cell_type": "code",
   "execution_count": 159,
   "metadata": {},
   "outputs": [],
   "source": [
    "accuracy = evaluator.evaluate(result)"
   ]
  },
  {
   "cell_type": "code",
   "execution_count": 160,
   "metadata": {
    "scrolled": true
   },
   "outputs": [
    {
     "data": {
      "text/plain": [
       "0.7240061162079511"
      ]
     },
     "execution_count": 160,
     "metadata": {},
     "output_type": "execute_result"
    }
   ],
   "source": [
    "accuracy"
   ]
  },
  {
   "cell_type": "code",
   "execution_count": 161,
   "metadata": {},
   "outputs": [
    {
     "name": "stdout",
     "output_type": "stream",
     "text": [
      "+-----+----------+-----+\n",
      "|label|prediction|count|\n",
      "+-----+----------+-----+\n",
      "|  2.0|       0.0|  110|\n",
      "|  1.0|       0.0|  251|\n",
      "|  2.0|       2.0|   72|\n",
      "|  0.0|       0.0|  875|\n",
      "+-----+----------+-----+\n",
      "\n"
     ]
    }
   ],
   "source": [
    "result.groupBy(\"label\", \"prediction\").count().show()"
   ]
  },
  {
   "cell_type": "code",
   "execution_count": 162,
   "metadata": {},
   "outputs": [
    {
     "name": "stdout",
     "output_type": "stream",
     "text": [
      "+----------+----------+\n",
      "|CustomerID|prediction|\n",
      "+----------+----------+\n",
      "|     12394|       0.0|\n",
      "|     14887|       0.0|\n",
      "|     15555|       0.0|\n",
      "|     15634|       0.0|\n",
      "|     17686|       0.0|\n",
      "|     15574|       0.0|\n",
      "|     12637|       0.0|\n",
      "|     14974|       0.0|\n",
      "|     16639|       0.0|\n",
      "|     16303|       0.0|\n",
      "|     17901|       0.0|\n",
      "|     18276|       0.0|\n",
      "|     12750|       0.0|\n",
      "|     13395|       0.0|\n",
      "|     15041|       0.0|\n",
      "|     16340|       0.0|\n",
      "|     12811|       0.0|\n",
      "|     13805|       0.0|\n",
      "|     14649|       0.0|\n",
      "|     15277|       0.0|\n",
      "+----------+----------+\n",
      "only showing top 20 rows\n",
      "\n"
     ]
    }
   ],
   "source": [
    "customerl_0 =result.filter(result['prediction']==0).select(['CustomerID','prediction']).show()"
   ]
  },
  {
   "cell_type": "code",
   "execution_count": 163,
   "metadata": {},
   "outputs": [
    {
     "name": "stdout",
     "output_type": "stream",
     "text": [
      "+----------+----------+\n",
      "|CustomerID|prediction|\n",
      "+----------+----------+\n",
      "+----------+----------+\n",
      "\n"
     ]
    }
   ],
   "source": [
    "customerl_1 =result.filter(result['prediction']==1).select(['CustomerID','prediction']).show()"
   ]
  },
  {
   "cell_type": "code",
   "execution_count": 164,
   "metadata": {},
   "outputs": [
    {
     "name": "stdout",
     "output_type": "stream",
     "text": [
      "+----------+----------+\n",
      "|CustomerID|prediction|\n",
      "+----------+----------+\n",
      "|     13187|       2.0|\n",
      "|     17551|       2.0|\n",
      "|     18106|       2.0|\n",
      "|     12386|       2.0|\n",
      "|     13065|       2.0|\n",
      "|     17303|       2.0|\n",
      "|     14090|       2.0|\n",
      "|     17976|       2.0|\n",
      "|     12738|       2.0|\n",
      "|     15880|       2.0|\n",
      "|     15945|       2.0|\n",
      "|     12666|       2.0|\n",
      "|     16754|       2.0|\n",
      "|     15204|       2.0|\n",
      "|     15279|       2.0|\n",
      "|     15460|       2.0|\n",
      "|     14549|       2.0|\n",
      "|     17643|       2.0|\n",
      "|     13584|       2.0|\n",
      "|     17239|       2.0|\n",
      "+----------+----------+\n",
      "only showing top 20 rows\n",
      "\n"
     ]
    }
   ],
   "source": [
    "customerl_2 =result.filter(result['prediction']==2).select(['CustomerID','prediction']).show()"
   ]
  },
  {
   "cell_type": "code",
   "execution_count": 165,
   "metadata": {},
   "outputs": [
    {
     "name": "stdout",
     "output_type": "stream",
     "text": [
      "F1-Score  0.633446656687851\n",
      "Precision  0.6127199558603762\n",
      "Recall  0.7240061162079511\n",
      "Accuracy  0.7240061162079511\n"
     ]
    }
   ],
   "source": [
    "\n",
    "print('F1-Score ', evaluator.evaluate(result, \n",
    "                                      {evaluator.metricName: 'f1'}))\n",
    "print('Precision ', evaluator.evaluate(result,\n",
    "                                       {evaluator.metricName: 'weightedPrecision'}))\n",
    "print('Recall ', evaluator.evaluate(result , \n",
    "                                    {evaluator.metricName: 'weightedRecall'}))\n",
    "print('Accuracy ', evaluator.evaluate(result , \n",
    "                                      {evaluator.metricName: 'accuracy'}))"
   ]
  },
  {
   "cell_type": "code",
   "execution_count": 166,
   "metadata": {},
   "outputs": [],
   "source": [
    "import numpy as np\n",
    "import itertools\n",
    "\n",
    "def plot_confusion_matrix(cm, classes,\n",
    "                          normalize=False,\n",
    "                          title='Confusion matrix',\n",
    "                          cmap=plt.cm.GnBu):\n",
    "\n",
    "    plt.imshow(cm, interpolation='nearest', cmap=cmap)\n",
    "    plt.title(title)\n",
    "    tick_marks = np.arange(len(classes))\n",
    "    plt.xticks(tick_marks, classes, rotation=45)\n",
    "    plt.yticks(tick_marks, classes)\n",
    "\n",
    "    fmt = '.2f' if normalize else 'd'\n",
    "    thresh = cm.max() / 2.\n",
    "    for i, j in itertools.product(range(cm.shape[0]), range(cm.shape[1])):\n",
    "        plt.text(j, i, format(cm[i, j], fmt),\n",
    "                 horizontalalignment=\"center\",\n",
    "                 color=\"white\" if cm[i, j] > thresh else \"black\")\n",
    "\n",
    "    plt.tight_layout()\n",
    "    plt.ylabel('True label')\n",
    "    plt.xlabel('Predicted label')"
   ]
  },
  {
   "cell_type": "code",
   "execution_count": 167,
   "metadata": {},
   "outputs": [],
   "source": [
    "#Convert Spark-DataFrame to Pandas-DataFrame\n",
    "#Call Confusion Matrix With 'True' and 'Predicted' Label\n",
    "\n",
    "from sklearn.metrics import confusion_matrix\n",
    "y_true = result.select(\"label\")\n",
    "y_true = y_true.toPandas() # convert to pandas dataframe from spark dataframe\n",
    "\n",
    "y_pred = result.select(\"prediction\")\n",
    "y_pred = y_pred.toPandas() # convert to pandas dataframe from spark dataframe\n",
    "\n",
    "cnf_matrix = confusion_matrix(y_true, y_pred,labels=range(3))"
   ]
  },
  {
   "cell_type": "code",
   "execution_count": 168,
   "metadata": {},
   "outputs": [
    {
     "data": {
      "image/png": "[encoded data removed]",
      "text/plain": [
       "<Figure size 288x288 with 1 Axes>"
      ]
     },
     "metadata": {},
     "output_type": "display_data"
    }
   ],
   "source": [
    "#Visualize the 'Confusion Matrix' \n",
    "\n",
    "import seaborn as sns\n",
    "%matplotlib inline\n",
    "\n",
    "sns.set_style(\"darkgrid\")\n",
    "plt.figure(figsize=(4,4))\n",
    "plt.grid(False)\n",
    "\n",
    "# call pre defined function\n",
    "plot_confusion_matrix(cnf_matrix, classes=range(3))"
   ]
  },
  {
   "cell_type": "code",
   "execution_count": 169,
   "metadata": {},
   "outputs": [
    {
     "name": "stdout",
     "output_type": "stream",
     "text": [
      "              precision    recall  f1-score   support\n",
      "\n",
      "     Class 0       0.71      1.00      0.83       875\n",
      "     Class 1       0.00      0.00      0.00       251\n",
      "     Class 2       1.00      0.40      0.57       182\n",
      "\n",
      "    accuracy                           0.72      1308\n",
      "   macro avg       0.57      0.47      0.47      1308\n",
      "weighted avg       0.61      0.72      0.63      1308\n",
      "\n"
     ]
    }
   ],
   "source": [
    "#Classification Report of each class group\n",
    "\n",
    "from sklearn.metrics import classification_report\n",
    "\n",
    "target_names = [\"Class {}\".format(i) for i in range(3)]\n",
    "print(classification_report(y_true, y_pred, target_names = target_names))"
   ]
  },
  {
   "cell_type": "code",
   "execution_count": 170,
   "metadata": {},
   "outputs": [
    {
     "data": {
      "text/plain": [
       "[Row(label=0.0, features=SparseVector(4374, {38: 1.0, 4371: 63.0, 4372: 2.0, 4373: 1272.48}), CustomerID='12394', Recency=63, Frequency=2, Monetary=1272.48, kpred=0, rawPrediction=DenseVector([7.0459, -3.472, -3.5739]), probability=DenseVector([0.9999, 0.0, 0.0]), prediction=0.0),\n",
       " Row(label=0.0, features=SparseVector(4374, {1876: 1.0, 4371: 79.0, 4372: 1.0, 4373: 1862.0}), CustomerID='14887', Recency=79, Frequency=1, Monetary=1862.0, kpred=0, rawPrediction=DenseVector([6.4849, -3.3126, -3.1724]), probability=DenseVector([0.9999, 0.0001, 0.0001]), prediction=0.0)]"
      ]
     },
     "execution_count": 170,
     "metadata": {},
     "output_type": "execute_result"
    }
   ],
   "source": [
    "result.rdd.take(2)"
   ]
  },
  {
   "cell_type": "code",
   "execution_count": 171,
   "metadata": {},
   "outputs": [
    {
     "data": {
      "text/plain": [
       "[(0.0,\n",
       "  SparseVector(4374, {38: 1.0, 4371: 63.0, 4372: 2.0, 4373: 1272.48}),\n",
       "  '12394',\n",
       "  63,\n",
       "  2,\n",
       "  1272.48,\n",
       "  0,\n",
       "  DenseVector([7.0459, -3.472, -3.5739]),\n",
       "  DenseVector([0.9999, 0.0, 0.0]),\n",
       "  0.0),\n",
       " (0.0,\n",
       "  SparseVector(4374, {1876: 1.0, 4371: 79.0, 4372: 1.0, 4373: 1862.0}),\n",
       "  '14887',\n",
       "  79,\n",
       "  1,\n",
       "  1862.0,\n",
       "  0,\n",
       "  DenseVector([6.4849, -3.3126, -3.1724]),\n",
       "  DenseVector([0.9999, 0.0001, 0.0001]),\n",
       "  0.0)]"
      ]
     },
     "execution_count": 171,
     "metadata": {},
     "output_type": "execute_result"
    }
   ],
   "source": [
    "#confusion metrix\n",
    "result.rdd.map(tuple).take(2)"
   ]
  },
  {
   "cell_type": "code",
   "execution_count": 172,
   "metadata": {},
   "outputs": [
    {
     "name": "stdout",
     "output_type": "stream",
     "text": [
      "Precision = 0.7079288025889967\n",
      "Recall = 1.0\n"
     ]
    }
   ],
   "source": [
    "labelandprediction = result.select(\"prediction\", \"label\")\n",
    "metrics = MulticlassMetrics(labelandprediction.rdd.map(tuple))\n",
    "\n",
    "precision = metrics.precision(0)\n",
    "recall = metrics.recall(0)\n",
    "print(\"Precision = %s\" % precision)\n",
    "print(\"Recall = %s\" % recall)"
   ]
  },
  {
   "cell_type": "code",
   "execution_count": 173,
   "metadata": {},
   "outputs": [
    {
     "data": {
      "text/plain": [
       "array([[875., 251., 110.],\n",
       "       [  0.,   0.,   0.],\n",
       "       [  0.,   0.,  72.]])"
      ]
     },
     "execution_count": 173,
     "metadata": {},
     "output_type": "execute_result"
    }
   ],
   "source": [
    "metrics.confusionMatrix().toArray().transpose()"
   ]
  },
  {
   "cell_type": "code",
   "execution_count": 174,
   "metadata": {},
   "outputs": [],
   "source": [
    "from pyspark.ml.tuning import ParamGridBuilder, CrossValidator"
   ]
  },
  {
   "cell_type": "code",
   "execution_count": 175,
   "metadata": {},
   "outputs": [],
   "source": [
    "dtcparamGrid = (ParamGridBuilder()\n",
    "             .addGrid(dtc.maxDepth, [2, 5, 10, 20, 30])\n",
    "             .addGrid(dtc.maxBins, [10, 20, 40, 80, 100])\n",
    "             .build())"
   ]
  },
  {
   "cell_type": "code",
   "execution_count": 176,
   "metadata": {},
   "outputs": [],
   "source": [
    "dtccv = CrossValidator(estimator = dtc,\n",
    "                      estimatorParamMaps = dtcparamGrid,\n",
    "                      evaluator = evaluator,\n",
    "                      numFolds = 5)"
   ]
  },
  {
   "cell_type": "code",
   "execution_count": 177,
   "metadata": {},
   "outputs": [],
   "source": [
    "dtcModel = dtccv.fit(train_data)"
   ]
  },
  {
   "cell_type": "code",
   "execution_count": 178,
   "metadata": {},
   "outputs": [],
   "source": [
    "predictions=dtcModel.transform(test_data)"
   ]
  },
  {
   "cell_type": "code",
   "execution_count": 179,
   "metadata": {},
   "outputs": [
    {
     "name": "stdout",
     "output_type": "stream",
     "text": [
      "+----------+-----+----------+\n",
      "|CustomerID|label|prediction|\n",
      "+----------+-----+----------+\n",
      "|     12394|  0.0|       0.0|\n",
      "|     14887|  0.0|       0.0|\n",
      "|     15555|  0.0|       0.0|\n",
      "|     15634|  0.0|       0.0|\n",
      "|     17686|  0.0|       0.0|\n",
      "|     15574|  1.0|       1.0|\n",
      "|     12637|  0.0|       0.0|\n",
      "|     14974|  0.0|       0.0|\n",
      "|     16639|  0.0|       0.0|\n",
      "|     13187|  2.0|       2.0|\n",
      "|     17551|  2.0|       2.0|\n",
      "|     16303|  0.0|       0.0|\n",
      "|     17901|  0.0|       0.0|\n",
      "|     18276|  0.0|       0.0|\n",
      "|     12750|  1.0|       1.0|\n",
      "|     13395|  1.0|       1.0|\n",
      "|     15041|  1.0|       1.0|\n",
      "|     16340|  1.0|       1.0|\n",
      "|     12811|  2.0|       2.0|\n",
      "|     13805|  0.0|       0.0|\n",
      "+----------+-----+----------+\n",
      "only showing top 20 rows\n",
      "\n"
     ]
    }
   ],
   "source": [
    "predictions_lp = predictions.select(\"CustomerID\", \"label\", \"prediction\").show()"
   ]
  },
  {
   "cell_type": "code",
   "execution_count": 180,
   "metadata": {},
   "outputs": [
    {
     "name": "stdout",
     "output_type": "stream",
     "text": [
      "+----------+----------+\n",
      "|CustomerID|prediction|\n",
      "+----------+----------+\n",
      "|     12394|       0.0|\n",
      "|     14887|       0.0|\n",
      "|     15555|       0.0|\n",
      "|     15634|       0.0|\n",
      "|     17686|       0.0|\n",
      "|     15574|       1.0|\n",
      "|     12637|       0.0|\n",
      "|     14974|       0.0|\n",
      "|     16639|       0.0|\n",
      "|     13187|       2.0|\n",
      "|     17551|       2.0|\n",
      "|     16303|       0.0|\n",
      "|     17901|       0.0|\n",
      "|     18276|       0.0|\n",
      "|     12750|       1.0|\n",
      "|     13395|       1.0|\n",
      "|     15041|       1.0|\n",
      "|     16340|       1.0|\n",
      "|     12811|       2.0|\n",
      "|     13805|       0.0|\n",
      "+----------+----------+\n",
      "only showing top 20 rows\n",
      "\n"
     ]
    }
   ],
   "source": [
    "predictions_lp = predictions.select(\"CustomerID\", \"prediction\").show()"
   ]
  },
  {
   "cell_type": "code",
   "execution_count": 181,
   "metadata": {},
   "outputs": [],
   "source": [
    "dtcevaluator = MulticlassClassificationEvaluator(predictionCol=\"prediction\")"
   ]
  },
  {
   "cell_type": "code",
   "execution_count": 182,
   "metadata": {},
   "outputs": [],
   "source": [
    "Accuracy =dtcevaluator.evaluate(predictions)"
   ]
  },
  {
   "cell_type": "code",
   "execution_count": 183,
   "metadata": {},
   "outputs": [
    {
     "data": {
      "text/plain": [
       "0.9930858457498121"
      ]
     },
     "execution_count": 183,
     "metadata": {},
     "output_type": "execute_result"
    }
   ],
   "source": [
    "Accuracy"
   ]
  },
  {
   "cell_type": "code",
   "execution_count": 184,
   "metadata": {},
   "outputs": [
    {
     "name": "stdout",
     "output_type": "stream",
     "text": [
      "+-----+----------+-----+\n",
      "|label|prediction|count|\n",
      "+-----+----------+-----+\n",
      "|  1.0|       1.0|  242|\n",
      "|  2.0|       2.0|  182|\n",
      "|  1.0|       0.0|    4|\n",
      "|  1.0|       2.0|    5|\n",
      "|  0.0|       0.0|  875|\n",
      "+-----+----------+-----+\n",
      "\n"
     ]
    }
   ],
   "source": [
    "predictions.groupBy(\"label\", \"prediction\").count().show()"
   ]
  },
  {
   "cell_type": "code",
   "execution_count": 185,
   "metadata": {},
   "outputs": [
    {
     "name": "stdout",
     "output_type": "stream",
     "text": [
      "+----------+----------+\n",
      "|CustomerID|prediction|\n",
      "+----------+----------+\n",
      "|     12394|       0.0|\n",
      "|     14887|       0.0|\n",
      "|     15555|       0.0|\n",
      "|     15634|       0.0|\n",
      "|     17686|       0.0|\n",
      "|     12637|       0.0|\n",
      "|     14974|       0.0|\n",
      "|     16639|       0.0|\n",
      "|     16303|       0.0|\n",
      "|     17901|       0.0|\n",
      "|     18276|       0.0|\n",
      "|     13805|       0.0|\n",
      "|     14649|       0.0|\n",
      "|     15277|       0.0|\n",
      "|     15433|       0.0|\n",
      "|     17584|       0.0|\n",
      "|     13429|       0.0|\n",
      "|     13700|       0.0|\n",
      "|     15553|       0.0|\n",
      "|     16133|       0.0|\n",
      "+----------+----------+\n",
      "only showing top 20 rows\n",
      "\n"
     ]
    }
   ],
   "source": [
    "customercvd_0 =predictions.filter(predictions['prediction']==0).select(['CustomerID','prediction']).show()"
   ]
  },
  {
   "cell_type": "code",
   "execution_count": 186,
   "metadata": {},
   "outputs": [
    {
     "name": "stdout",
     "output_type": "stream",
     "text": [
      "+----------+----------+\n",
      "|CustomerID|prediction|\n",
      "+----------+----------+\n",
      "|     15574|       1.0|\n",
      "|     12750|       1.0|\n",
      "|     13395|       1.0|\n",
      "|     15041|       1.0|\n",
      "|     16340|       1.0|\n",
      "|     14340|       1.0|\n",
      "|     17375|       1.0|\n",
      "|     12643|       1.0|\n",
      "|     15412|       1.0|\n",
      "|     16503|       1.0|\n",
      "|     15895|       1.0|\n",
      "|     17900|       1.0|\n",
      "|     13937|       1.0|\n",
      "|     13952|       1.0|\n",
      "|     15802|       1.0|\n",
      "|     18248|       1.0|\n",
      "|     13821|       1.0|\n",
      "|     14722|       1.0|\n",
      "|     13833|       1.0|\n",
      "|     16756|       1.0|\n",
      "+----------+----------+\n",
      "only showing top 20 rows\n",
      "\n"
     ]
    }
   ],
   "source": [
    "customercvd_1 = predictions.filter(predictions['prediction']==1).select(['CustomerID','prediction']).show()"
   ]
  },
  {
   "cell_type": "code",
   "execution_count": 187,
   "metadata": {},
   "outputs": [
    {
     "name": "stdout",
     "output_type": "stream",
     "text": [
      "+----------+----------+\n",
      "|CustomerID|prediction|\n",
      "+----------+----------+\n",
      "|     13187|       2.0|\n",
      "|     17551|       2.0|\n",
      "|     12811|       2.0|\n",
      "|     18106|       2.0|\n",
      "|     12386|       2.0|\n",
      "|     15107|       2.0|\n",
      "|     17507|       2.0|\n",
      "|     13512|       2.0|\n",
      "|     14114|       2.0|\n",
      "|     17946|       2.0|\n",
      "|     13065|       2.0|\n",
      "|     17303|       2.0|\n",
      "|     16097|       2.0|\n",
      "|     14090|       2.0|\n",
      "|     15047|       2.0|\n",
      "|     15388|       2.0|\n",
      "|     15353|       2.0|\n",
      "|     14476|       2.0|\n",
      "|     17535|       2.0|\n",
      "|     17976|       2.0|\n",
      "+----------+----------+\n",
      "only showing top 20 rows\n",
      "\n"
     ]
    }
   ],
   "source": [
    "customercvd_2 = predictions.filter(predictions['prediction']==2).select(['CustomerID','prediction']).show()"
   ]
  },
  {
   "cell_type": "code",
   "execution_count": 188,
   "metadata": {},
   "outputs": [
    {
     "name": "stdout",
     "output_type": "stream",
     "text": [
      "F1-Score  0.9930858457498121\n",
      "Precision  0.9930858457498121\n",
      "Recall  0.9930858457498121\n",
      "Accuracy  0.9930858457498121\n"
     ]
    }
   ],
   "source": [
    "print('F1-Score ', dtcevaluator.evaluate(predictions, \n",
    "                                      {evaluator.metricName: 'f1'}))\n",
    "print('Precision ', dtcevaluator.evaluate(predictions,\n",
    "                                       {evaluator.metricName: 'weightedPrecision'}))\n",
    "print('Recall ', dtcevaluator.evaluate(predictions, \n",
    "                                    {evaluator.metricName: 'weightedRecall'}))\n",
    "print('Accuracy ', dtcevaluator.evaluate(predictions, \n",
    "                                      {evaluator.metricName: 'accuracy'}))"
   ]
  },
  {
   "cell_type": "code",
   "execution_count": 189,
   "metadata": {},
   "outputs": [],
   "source": [
    "import numpy as np\n",
    "import itertools\n",
    "\n",
    "def plot_confusion_matrix(cm, classes,\n",
    "                          normalize=False,\n",
    "                          title='Confusion matrix',\n",
    "                          cmap=plt.cm.GnBu):\n",
    "\n",
    "    plt.imshow(cm, interpolation='nearest', cmap=cmap)\n",
    "    plt.title(title)\n",
    "    tick_marks = np.arange(len(classes))\n",
    "    plt.xticks(tick_marks, classes, rotation=45)\n",
    "    plt.yticks(tick_marks, classes)\n",
    "\n",
    "    fmt = '.2f' if normalize else 'd'\n",
    "    thresh = cm.max() / 2.\n",
    "    for i, j in itertools.product(range(cm.shape[0]), range(cm.shape[1])):\n",
    "        plt.text(j, i, format(cm[i, j], fmt),\n",
    "                 horizontalalignment=\"center\",\n",
    "                 color=\"white\" if cm[i, j] > thresh else \"black\")\n",
    "\n",
    "    plt.tight_layout()\n",
    "    plt.ylabel('True label')\n",
    "    plt.xlabel('Predicted label')"
   ]
  },
  {
   "cell_type": "code",
   "execution_count": 190,
   "metadata": {},
   "outputs": [],
   "source": [
    "#Convert Spark-DataFrame to Pnadas-DataFrame\n",
    "#Call Confusion Matrix With 'True' and 'Predicted' Label\n",
    "\n",
    "from sklearn.metrics import confusion_matrix\n",
    "y_true = predictions.select(\"label\")\n",
    "y_true = y_true.toPandas() # convert to pandas dataframe from spark dataframe\n",
    "\n",
    "y_pred = predictions.select(\"prediction\")\n",
    "y_pred = y_pred.toPandas() # convert to pandas dataframe from spark dataframe\n",
    "\n",
    "cnf_matrix = confusion_matrix(y_true, y_pred,labels=range(3))"
   ]
  },
  {
   "cell_type": "code",
   "execution_count": 191,
   "metadata": {},
   "outputs": [
    {
     "data": {
      "image/png": "[encoded data removed]",
      "text/plain": [
       "<Figure size 288x288 with 1 Axes>"
      ]
     },
     "metadata": {},
     "output_type": "display_data"
    }
   ],
   "source": [
    "#Visualize the 'Confusion Matrix' \n",
    "\n",
    "import seaborn as sns\n",
    "%matplotlib inline\n",
    "\n",
    "sns.set_style(\"darkgrid\")\n",
    "plt.figure(figsize=(4,4))\n",
    "plt.grid(False)\n",
    "\n",
    "# call pre defined function\n",
    "plot_confusion_matrix(cnf_matrix, classes=range(3))"
   ]
  },
  {
   "cell_type": "code",
   "execution_count": 192,
   "metadata": {
    "scrolled": true
   },
   "outputs": [
    {
     "name": "stdout",
     "output_type": "stream",
     "text": [
      "              precision    recall  f1-score   support\n",
      "\n",
      "     Class 0       1.00      1.00      1.00       875\n",
      "     Class 1       1.00      0.96      0.98       251\n",
      "     Class 2       0.97      1.00      0.99       182\n",
      "\n",
      "    accuracy                           0.99      1308\n",
      "   macro avg       0.99      0.99      0.99      1308\n",
      "weighted avg       0.99      0.99      0.99      1308\n",
      "\n"
     ]
    }
   ],
   "source": [
    "#Classification Report of each class group\n",
    "\n",
    "from sklearn.metrics import classification_report\n",
    "\n",
    "target_names = [\"Class {}\".format(i) for i in range(3)]\n",
    "print(classification_report(y_true, y_pred, target_names = target_names))"
   ]
  },
  {
   "cell_type": "code",
   "execution_count": 193,
   "metadata": {},
   "outputs": [
    {
     "name": "stdout",
     "output_type": "stream",
     "text": [
      "Precision = 0.9954493742889647\n",
      "Recall = 1.0\n"
     ]
    }
   ],
   "source": [
    "labelandprediction = predictions.select(\"prediction\", \"label\")\n",
    "metrics_tdccv = MulticlassMetrics(labelandprediction.rdd.map(tuple))\n",
    "\n",
    "precision = metrics_tdccv.precision(0)\n",
    "recall = metrics_tdccv.recall(0)\n",
    "print(\"Precision = %s\" % precision)\n",
    "print(\"Recall = %s\" % recall)"
   ]
  },
  {
   "cell_type": "code",
   "execution_count": 194,
   "metadata": {},
   "outputs": [
    {
     "data": {
      "text/plain": [
       "array([[875.,   4.,   0.],\n",
       "       [  0., 242.,   0.],\n",
       "       [  0.,   5., 182.]])"
      ]
     },
     "execution_count": 194,
     "metadata": {},
     "output_type": "execute_result"
    }
   ],
   "source": [
    "metrics_tdccv.confusionMatrix().toArray().transpose()"
   ]
  },
  {
   "cell_type": "code",
   "execution_count": 195,
   "metadata": {},
   "outputs": [],
   "source": [
    "# Create ParamGrid for Cross Validation\n",
    "paramGrid = (ParamGridBuilder()\n",
    "             .addGrid(rf.numTrees, [50, 100, 200]) # number of trees\n",
    "             .addGrid(rf.maxDepth, [3, 4, 5]) # maximum depth\n",
    "#            .addGrid(rf.maxBins, [24, 32, 40]) #Number of bins\n",
    "             .build())"
   ]
  },
  {
   "cell_type": "code",
   "execution_count": 196,
   "metadata": {},
   "outputs": [],
   "source": [
    "# Create 5-fold CrossValidator\n",
    "cv_rf = CrossValidator(estimator=rf, \\\n",
    "                    estimatorParamMaps=paramGrid, \\\n",
    "                    evaluator=evaluator, \\\n",
    "                    numFolds=5)"
   ]
  },
  {
   "cell_type": "code",
   "execution_count": 197,
   "metadata": {},
   "outputs": [],
   "source": [
    "# Run cross validations\n",
    "cvrfModel = cv_rf.fit(train_data)"
   ]
  },
  {
   "cell_type": "code",
   "execution_count": 198,
   "metadata": {},
   "outputs": [],
   "source": [
    "# Use test set here so we can measure the accuracy of our model on new data\n",
    "predictions = cvrfModel.transform(test_data)"
   ]
  },
  {
   "cell_type": "code",
   "execution_count": 199,
   "metadata": {},
   "outputs": [],
   "source": [
    "evaluator = MulticlassClassificationEvaluator(predictionCol=\"prediction\")"
   ]
  },
  {
   "cell_type": "code",
   "execution_count": 200,
   "metadata": {},
   "outputs": [],
   "source": [
    "Accuracy =evaluator.evaluate(predictions)"
   ]
  },
  {
   "cell_type": "code",
   "execution_count": 201,
   "metadata": {},
   "outputs": [
    {
     "data": {
      "text/plain": [
       "0.5362713825627836"
      ]
     },
     "execution_count": 201,
     "metadata": {},
     "output_type": "execute_result"
    }
   ],
   "source": [
    "Accuracy"
   ]
  },
  {
   "cell_type": "code",
   "execution_count": 202,
   "metadata": {},
   "outputs": [
    {
     "data": {
      "text/plain": [
       "DataFrame[label: double, prediction: double, count: bigint]"
      ]
     },
     "execution_count": 202,
     "metadata": {},
     "output_type": "execute_result"
    }
   ],
   "source": [
    "predictions.groupBy('label','prediction').count()"
   ]
  },
  {
   "cell_type": "code",
   "execution_count": 203,
   "metadata": {},
   "outputs": [
    {
     "name": "stdout",
     "output_type": "stream",
     "text": [
      "+----------+----------+\n",
      "|CustomerID|prediction|\n",
      "+----------+----------+\n",
      "|     12394|       0.0|\n",
      "|     14887|       0.0|\n",
      "|     15555|       0.0|\n",
      "|     15634|       0.0|\n",
      "|     17686|       0.0|\n",
      "|     15574|       0.0|\n",
      "|     12637|       0.0|\n",
      "|     14974|       0.0|\n",
      "|     16639|       0.0|\n",
      "|     13187|       0.0|\n",
      "|     17551|       0.0|\n",
      "|     16303|       0.0|\n",
      "|     17901|       0.0|\n",
      "|     18276|       0.0|\n",
      "|     12750|       0.0|\n",
      "|     13395|       0.0|\n",
      "|     15041|       0.0|\n",
      "|     16340|       0.0|\n",
      "|     12811|       0.0|\n",
      "|     13805|       0.0|\n",
      "+----------+----------+\n",
      "only showing top 20 rows\n",
      "\n"
     ]
    }
   ],
   "source": [
    "Customercvr_0 =predictions.filter(predictions['prediction']==0).select(['CustomerID','prediction']).show()"
   ]
  },
  {
   "cell_type": "code",
   "execution_count": 204,
   "metadata": {},
   "outputs": [
    {
     "name": "stdout",
     "output_type": "stream",
     "text": [
      "+----------+----------+\n",
      "|CustomerID|prediction|\n",
      "+----------+----------+\n",
      "+----------+----------+\n",
      "\n"
     ]
    }
   ],
   "source": [
    "customercvr_1 =predictions.filter(predictions['prediction']==1).select(['CustomerID','prediction']).show()"
   ]
  },
  {
   "cell_type": "code",
   "execution_count": 205,
   "metadata": {},
   "outputs": [
    {
     "name": "stdout",
     "output_type": "stream",
     "text": [
      "+----------+----------+\n",
      "|CustomerID|prediction|\n",
      "+----------+----------+\n",
      "+----------+----------+\n",
      "\n"
     ]
    }
   ],
   "source": [
    "customercvr_2 =predictions.filter(predictions['prediction']==2).select(['CustomerID','prediction']).show()"
   ]
  },
  {
   "cell_type": "code",
   "execution_count": 206,
   "metadata": {},
   "outputs": [
    {
     "name": "stdout",
     "output_type": "stream",
     "text": [
      "F1-Score  0.5362713825627836\n",
      "Precision  0.4475078089199376\n",
      "Recall  0.668960244648318\n",
      "Accuracy  0.668960244648318\n"
     ]
    }
   ],
   "source": [
    "print('F1-Score ', evaluator.evaluate(predictions, \n",
    "                                      {evaluator.metricName: 'f1'}))\n",
    "print('Precision ', evaluator.evaluate(predictions,\n",
    "                                       {evaluator.metricName: 'weightedPrecision'}))\n",
    "print('Recall ', evaluator.evaluate(predictions, \n",
    "                                    {evaluator.metricName: 'weightedRecall'}))\n",
    "print('Accuracy ', evaluator.evaluate(predictions, \n",
    "                                      {evaluator.metricName: 'accuracy'}))"
   ]
  },
  {
   "cell_type": "code",
   "execution_count": 207,
   "metadata": {},
   "outputs": [],
   "source": [
    "import numpy as np\n",
    "import itertools\n",
    "\n",
    "def plot_confusion_matrix(cm, classes,\n",
    "                          normalize=False,\n",
    "                          title='Confusion matrix',\n",
    "                          cmap=plt.cm.GnBu):\n",
    "\n",
    "    plt.imshow(cm, interpolation='nearest', cmap=cmap)\n",
    "    plt.title(title)\n",
    "    tick_marks = np.arange(len(classes))\n",
    "    plt.xticks(tick_marks, classes, rotation=45)\n",
    "    plt.yticks(tick_marks, classes)\n",
    "\n",
    "    fmt = '.2f' if normalize else 'd'\n",
    "    thresh = cm.max() / 2.\n",
    "    for i, j in itertools.product(range(cm.shape[0]), range(cm.shape[1])):\n",
    "        plt.text(j, i, format(cm[i, j], fmt),\n",
    "                 horizontalalignment=\"center\",\n",
    "                 color=\"white\" if cm[i, j] > thresh else \"black\")\n",
    "\n",
    "    plt.tight_layout()\n",
    "    plt.ylabel('True label')\n",
    "    plt.xlabel('Predicted label')"
   ]
  },
  {
   "cell_type": "code",
   "execution_count": 208,
   "metadata": {},
   "outputs": [],
   "source": [
    "#Convert Spark-DataFrame to Pnadas-DataFrame\n",
    "#Call Confusion Matrix With 'True' and 'Predicted' Label\n",
    "\n",
    "from sklearn.metrics import confusion_matrix\n",
    "y_true = predictions.select(\"label\")\n",
    "y_true = y_true.toPandas() # convert to pandas dataframe from spark dataframe\n",
    "\n",
    "y_pred = predictions.select(\"prediction\")\n",
    "y_pred = y_pred.toPandas() # convert to pandas dataframe from spark dataframe\n",
    "\n",
    "cnf_matrix = confusion_matrix(y_true, y_pred,labels=range(3))"
   ]
  },
  {
   "cell_type": "code",
   "execution_count": 209,
   "metadata": {},
   "outputs": [
    {
     "data": {
      "image/png": "[encoded data removed]",
      "text/plain": [
       "<Figure size 288x288 with 1 Axes>"
      ]
     },
     "metadata": {},
     "output_type": "display_data"
    }
   ],
   "source": [
    "#Visualize the 'Confusion Matrix' \n",
    "\n",
    "import seaborn as sns\n",
    "%matplotlib inline\n",
    "\n",
    "sns.set_style(\"darkgrid\")\n",
    "plt.figure(figsize=(4,4))\n",
    "plt.grid(False)\n",
    "\n",
    "# call pre defined function\n",
    "plot_confusion_matrix(cnf_matrix, classes=range(3))"
   ]
  },
  {
   "cell_type": "code",
   "execution_count": 210,
   "metadata": {},
   "outputs": [
    {
     "name": "stdout",
     "output_type": "stream",
     "text": [
      "              precision    recall  f1-score   support\n",
      "\n",
      "     Class 0       0.67      1.00      0.80       875\n",
      "     Class 1       0.00      0.00      0.00       251\n",
      "     Class 2       0.00      0.00      0.00       182\n",
      "\n",
      "    accuracy                           0.67      1308\n",
      "   macro avg       0.22      0.33      0.27      1308\n",
      "weighted avg       0.45      0.67      0.54      1308\n",
      "\n"
     ]
    }
   ],
   "source": [
    "#Classification Report of each class group\n",
    "\n",
    "from sklearn.metrics import classification_report\n",
    "\n",
    "target_names = [\"Class {}\".format(i) for i in range(3)]\n",
    "print(classification_report(y_true, y_pred, target_names = target_names))"
   ]
  },
  {
   "cell_type": "code",
   "execution_count": 211,
   "metadata": {},
   "outputs": [
    {
     "name": "stdout",
     "output_type": "stream",
     "text": [
      "Precision = 0.668960244648318\n",
      "Recall = 1.0\n"
     ]
    }
   ],
   "source": [
    "labelandprediction = predictions.select(\"prediction\", \"label\")\n",
    "metrics_rfcv = MulticlassMetrics(labelandprediction.rdd.map(tuple))\n",
    "\n",
    "precision = metrics_rfcv.precision(0)\n",
    "recall = metrics_rfcv.recall(0)\n",
    "print(\"Precision = %s\" % precision)\n",
    "print(\"Recall = %s\" % recall)"
   ]
  },
  {
   "cell_type": "code",
   "execution_count": 212,
   "metadata": {},
   "outputs": [
    {
     "data": {
      "text/plain": [
       "array([[875., 251., 182.],\n",
       "       [  0.,   0.,   0.],\n",
       "       [  0.,   0.,   0.]])"
      ]
     },
     "execution_count": 212,
     "metadata": {},
     "output_type": "execute_result"
    }
   ],
   "source": [
    "metrics_rfcv.confusionMatrix().toArray().transpose()"
   ]
  },
  {
   "cell_type": "code",
   "execution_count": 213,
   "metadata": {},
   "outputs": [],
   "source": [
    "from pyspark.ml.tuning import ParamGridBuilder, CrossValidator"
   ]
  },
  {
   "cell_type": "code",
   "execution_count": 214,
   "metadata": {},
   "outputs": [],
   "source": [
    "paramGrid = (ParamGridBuilder()\n",
    "             .addGrid(log_reg.regParam, [0.1, 0.3, 0.5]) # regularization parameter\n",
    "             .addGrid(log_reg.elasticNetParam, [0.0, 0.1, 0.2]) # Elastic Net Parameter (Ridge = 0)\n",
    "#            .addGrid(model.maxIter, [10, 20, 50]) #Number of iterations\n",
    "#            .addGrid(idf.numFeatures, [10, 100, 1000]) # Number of features\n",
    "             .build())"
   ]
  },
  {
   "cell_type": "code",
   "execution_count": 215,
   "metadata": {},
   "outputs": [],
   "source": [
    "# Create 5-fold CrossValidator\n",
    "cv = CrossValidator(estimator=log_reg, \\\n",
    "                    estimatorParamMaps=paramGrid, \\\n",
    "                    evaluator=evaluator, \\\n",
    "                    numFolds=5)"
   ]
  },
  {
   "cell_type": "code",
   "execution_count": 216,
   "metadata": {},
   "outputs": [],
   "source": [
    "cvModel = cv.fit(train_data)"
   ]
  },
  {
   "cell_type": "code",
   "execution_count": 217,
   "metadata": {},
   "outputs": [],
   "source": [
    "predictions = cvModel.transform(test_data)"
   ]
  },
  {
   "cell_type": "code",
   "execution_count": 218,
   "metadata": {},
   "outputs": [],
   "source": [
    "evaluator = MulticlassClassificationEvaluator(predictionCol=\"prediction\")"
   ]
  },
  {
   "cell_type": "code",
   "execution_count": 219,
   "metadata": {},
   "outputs": [],
   "source": [
    "Accuracy = evaluator.evaluate(predictions)"
   ]
  },
  {
   "cell_type": "code",
   "execution_count": 220,
   "metadata": {},
   "outputs": [
    {
     "data": {
      "text/plain": [
       "0.8018042272844351"
      ]
     },
     "execution_count": 220,
     "metadata": {},
     "output_type": "execute_result"
    }
   ],
   "source": [
    "Accuracy"
   ]
  },
  {
   "cell_type": "code",
   "execution_count": 221,
   "metadata": {},
   "outputs": [
    {
     "data": {
      "text/plain": [
       "DataFrame[label: double, prediction: double, count: bigint]"
      ]
     },
     "execution_count": 221,
     "metadata": {},
     "output_type": "execute_result"
    }
   ],
   "source": [
    "predictions.groupBy('label','prediction').count()"
   ]
  },
  {
   "cell_type": "code",
   "execution_count": 222,
   "metadata": {},
   "outputs": [
    {
     "name": "stdout",
     "output_type": "stream",
     "text": [
      "+----------+----------+\n",
      "|CustomerID|prediction|\n",
      "+----------+----------+\n",
      "|     12394|       0.0|\n",
      "|     14887|       0.0|\n",
      "|     15555|       0.0|\n",
      "|     15634|       0.0|\n",
      "|     17686|       0.0|\n",
      "|     15574|       0.0|\n",
      "|     12637|       0.0|\n",
      "|     14974|       0.0|\n",
      "|     16639|       0.0|\n",
      "|     16303|       0.0|\n",
      "|     17901|       0.0|\n",
      "|     18276|       0.0|\n",
      "|     12750|       0.0|\n",
      "|     15041|       0.0|\n",
      "|     16340|       0.0|\n",
      "|     13805|       0.0|\n",
      "|     14649|       0.0|\n",
      "|     15277|       0.0|\n",
      "|     15433|       0.0|\n",
      "|     17584|       0.0|\n",
      "+----------+----------+\n",
      "only showing top 20 rows\n",
      "\n"
     ]
    }
   ],
   "source": [
    "Customercvlg_0 =predictions.filter(predictions['prediction']==0).select(['CustomerID','prediction']).show()"
   ]
  },
  {
   "cell_type": "code",
   "execution_count": 223,
   "metadata": {},
   "outputs": [
    {
     "name": "stdout",
     "output_type": "stream",
     "text": [
      "+----------+----------+\n",
      "|CustomerID|prediction|\n",
      "+----------+----------+\n",
      "|     13395|       1.0|\n",
      "|     17375|       1.0|\n",
      "|     13952|       1.0|\n",
      "|     14241|       1.0|\n",
      "|     13531|       1.0|\n",
      "|     17176|       1.0|\n",
      "|     14705|       1.0|\n",
      "|     14280|       1.0|\n",
      "|     17472|       1.0|\n",
      "|     15918|       1.0|\n",
      "|     15780|       1.0|\n",
      "|     13070|       1.0|\n",
      "|     14740|       1.0|\n",
      "|     13887|       1.0|\n",
      "|     16659|       1.0|\n",
      "|     13223|       1.0|\n",
      "|     13900|       1.0|\n",
      "|     17455|       1.0|\n",
      "|     16230|       1.0|\n",
      "|     17578|       1.0|\n",
      "+----------+----------+\n",
      "only showing top 20 rows\n",
      "\n"
     ]
    }
   ],
   "source": [
    "Customercvlg_1 =predictions.filter(predictions['prediction']==1).select(['CustomerID','prediction']).show()"
   ]
  },
  {
   "cell_type": "code",
   "execution_count": 224,
   "metadata": {},
   "outputs": [
    {
     "name": "stdout",
     "output_type": "stream",
     "text": [
      "+----------+----------+\n",
      "|CustomerID|prediction|\n",
      "+----------+----------+\n",
      "|     13187|       2.0|\n",
      "|     17551|       2.0|\n",
      "|     12811|       2.0|\n",
      "|     14340|       2.0|\n",
      "|     18106|       2.0|\n",
      "|     12386|       2.0|\n",
      "|     15107|       2.0|\n",
      "|     17507|       2.0|\n",
      "|     13512|       2.0|\n",
      "|     14114|       2.0|\n",
      "|     17946|       2.0|\n",
      "|     13065|       2.0|\n",
      "|     17303|       2.0|\n",
      "|     16097|       2.0|\n",
      "|     14090|       2.0|\n",
      "|     15047|       2.0|\n",
      "|     15388|       2.0|\n",
      "|     16756|       2.0|\n",
      "|     15353|       2.0|\n",
      "|     14476|       2.0|\n",
      "+----------+----------+\n",
      "only showing top 20 rows\n",
      "\n"
     ]
    }
   ],
   "source": [
    "Customercvlg_2 =predictions.filter(predictions['prediction']==2).select(['CustomerID','prediction']).show()"
   ]
  },
  {
   "cell_type": "code",
   "execution_count": 225,
   "metadata": {},
   "outputs": [
    {
     "name": "stdout",
     "output_type": "stream",
     "text": [
      "F1-Score  0.8018042272844351\n",
      "Precision  0.8712358828408295\n",
      "Recall  0.8463302752293578\n",
      "Accuracy  0.8463302752293578\n"
     ]
    }
   ],
   "source": [
    "print('F1-Score ', evaluator.evaluate(predictions, \n",
    "                                      {evaluator.metricName: 'f1'}))\n",
    "print('Precision ', evaluator.evaluate(predictions,\n",
    "                                       {evaluator.metricName: 'weightedPrecision'}))\n",
    "print('Recall ', evaluator.evaluate(predictions, \n",
    "                                    {evaluator.metricName: 'weightedRecall'}))\n",
    "print('Accuracy ', evaluator.evaluate(predictions, \n",
    "                                      {evaluator.metricName: 'accuracy'}))"
   ]
  },
  {
   "cell_type": "code",
   "execution_count": 226,
   "metadata": {},
   "outputs": [],
   "source": [
    "import numpy as np\n",
    "import itertools\n",
    "\n",
    "def plot_confusion_matrix(cm, classes,\n",
    "                          normalize=False,\n",
    "                          title='Confusion matrix',\n",
    "                          cmap=plt.cm.GnBu):\n",
    "\n",
    "    plt.imshow(cm, interpolation='nearest', cmap=cmap)\n",
    "    plt.title(title)\n",
    "    tick_marks = np.arange(len(classes))\n",
    "    plt.xticks(tick_marks, classes, rotation=45)\n",
    "    plt.yticks(tick_marks, classes)\n",
    "\n",
    "    fmt = '.2f' if normalize else 'd'\n",
    "    thresh = cm.max() / 2.\n",
    "    for i, j in itertools.product(range(cm.shape[0]), range(cm.shape[1])):\n",
    "        plt.text(j, i, format(cm[i, j], fmt),\n",
    "                 horizontalalignment=\"center\",\n",
    "                 color=\"white\" if cm[i, j] > thresh else \"black\")\n",
    "\n",
    "    plt.tight_layout()\n",
    "    plt.ylabel('True label')\n",
    "    plt.xlabel('Predicted label')"
   ]
  },
  {
   "cell_type": "code",
   "execution_count": 227,
   "metadata": {},
   "outputs": [],
   "source": [
    "#Convert Spark-DataFrame to Pnadas-DataFrame\n",
    "#Call Confusion Matrix With 'True' and 'Predicted' Label\n",
    "\n",
    "from sklearn.metrics import confusion_matrix\n",
    "y_true = predictions.select(\"label\")\n",
    "y_true = y_true.toPandas() # convert to pandas dataframe from spark dataframe\n",
    "\n",
    "y_pred = predictions.select(\"prediction\")\n",
    "y_pred = y_pred.toPandas() # convert to pandas dataframe from spark dataframe\n",
    "\n",
    "cnf_matrix = confusion_matrix(y_true, y_pred,labels=range(3))"
   ]
  },
  {
   "cell_type": "code",
   "execution_count": 228,
   "metadata": {},
   "outputs": [
    {
     "data": {
      "image/png": "[encoded data removed]",
      "text/plain": [
       "<Figure size 288x288 with 1 Axes>"
      ]
     },
     "metadata": {},
     "output_type": "display_data"
    }
   ],
   "source": [
    "#Visualize the 'Confusion Matrix' \n",
    "\n",
    "import seaborn as sns\n",
    "%matplotlib inline\n",
    "\n",
    "sns.set_style(\"darkgrid\")\n",
    "plt.figure(figsize=(4,4))\n",
    "plt.grid(False)\n",
    "\n",
    "# call pre defined function\n",
    "plot_confusion_matrix(cnf_matrix, classes=range(3))"
   ]
  },
  {
   "cell_type": "code",
   "execution_count": 229,
   "metadata": {},
   "outputs": [
    {
     "name": "stdout",
     "output_type": "stream",
     "text": [
      "              precision    recall  f1-score   support\n",
      "\n",
      "     Class 0       0.83      1.00      0.91       875\n",
      "     Class 1       1.00      0.20      0.33       251\n",
      "     Class 2       0.88      1.00      0.94       182\n",
      "\n",
      "    accuracy                           0.85      1308\n",
      "   macro avg       0.91      0.73      0.73      1308\n",
      "weighted avg       0.87      0.85      0.80      1308\n",
      "\n"
     ]
    }
   ],
   "source": [
    "#Classification Report of each class group\n",
    "\n",
    "from sklearn.metrics import classification_report\n",
    "\n",
    "target_names = [\"Class {}\".format(i) for i in range(3)]\n",
    "print(classification_report(y_true, y_pred, target_names = target_names))"
   ]
  },
  {
   "cell_type": "code",
   "execution_count": 230,
   "metadata": {},
   "outputs": [
    {
     "name": "stdout",
     "output_type": "stream",
     "text": [
      "Precision = 0.8317490494296578\n",
      "Recall = 1.0\n"
     ]
    }
   ],
   "source": [
    "labelandprediction = predictions.select(\"prediction\", \"label\")\n",
    "metrics_lrcv = MulticlassMetrics(labelandprediction.rdd.map(tuple))\n",
    "\n",
    "precision = metrics_lrcv.precision(0)\n",
    "recall = metrics_lrcv.recall(0)\n",
    "print(\"Precision = %s\" % precision)\n",
    "print(\"Recall = %s\" % recall)"
   ]
  },
  {
   "cell_type": "code",
   "execution_count": 231,
   "metadata": {},
   "outputs": [
    {
     "data": {
      "text/plain": [
       "array([[875., 177.,   0.],\n",
       "       [  0.,  50.,   0.],\n",
       "       [  0.,  24., 182.]])"
      ]
     },
     "execution_count": 231,
     "metadata": {},
     "output_type": "execute_result"
    }
   ],
   "source": [
    "metrics_lrcv.confusionMatrix().toArray().transpose()"
   ]
  }
 ],
 "metadata": {
  "kernelspec": {
   "display_name": "Python 3",
   "language": "python",
   "name": "python3"
  },
  "language_info": {
   "codemirror_mode": {
    "name": "ipython",
    "version": 3
   },
   "file_extension": ".py",
   "mimetype": "text/x-python",
   "name": "python",
   "nbconvert_exporter": "python",
   "pygments_lexer": "ipython3",
   "version": "3.7.4"
  }
 },
 "nbformat": 4,
 "nbformat_minor": 2
}
